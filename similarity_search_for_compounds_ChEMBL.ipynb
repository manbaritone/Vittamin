{
  "nbformat": 4,
  "nbformat_minor": 0,
  "metadata": {
    "colab": {
      "name": "similarity_search_for_compounds_ChEMBL.ipynb",
      "provenance": [],
      "collapsed_sections": []
    },
    "kernelspec": {
      "name": "python3",
      "display_name": "Python 3"
    }
  },
  "cells": [
    {
      "cell_type": "markdown",
      "metadata": {
        "id": "sUwDCLDHks0i",
        "colab_type": "text"
      },
      "source": [
        "#**Preparation**"
      ]
    },
    {
      "cell_type": "markdown",
      "metadata": {
        "id": "Ihp5FT1E-tuk",
        "colab_type": "text"
      },
      "source": [
        "###Install Miniconda3 and RDKit"
      ]
    },
    {
      "cell_type": "code",
      "metadata": {
        "id": "EubZ_nt282zg",
        "colab_type": "code",
        "outputId": "ca734dce-bc09-4444-e7f9-5d7f49faa70a",
        "colab": {
          "base_uri": "https://localhost:8080/",
          "height": 1000
        }
      },
      "source": [
        "!wget -c https://repo.continuum.io/miniconda/Miniconda3-latest-Linux-x86_64.sh\n",
        "!chmod +x Miniconda3-latest-Linux-x86_64.sh\n",
        "!time bash ./Miniconda3-latest-Linux-x86_64.sh -b -f -p /usr/local\n",
        "!time conda install -q -y -c conda-forge rdkit"
      ],
      "execution_count": 1,
      "outputs": [
        {
          "output_type": "stream",
          "text": [
            "--2020-03-21 18:13:09--  https://repo.continuum.io/miniconda/Miniconda3-latest-Linux-x86_64.sh\n",
            "Resolving repo.continuum.io (repo.continuum.io)... 104.18.200.79, 104.18.201.79, 2606:4700::6812:c94f, ...\n",
            "Connecting to repo.continuum.io (repo.continuum.io)|104.18.200.79|:443... connected.\n",
            "HTTP request sent, awaiting response... 416 Requested Range Not Satisfiable\n",
            "\n",
            "    The file is already fully retrieved; nothing to do.\n",
            "\n",
            "PREFIX=/usr/local\n",
            "Unpacking payload ...\n",
            "Collecting package metadata (current_repodata.json): - \b\b\\ \b\bdone\n",
            "Solving environment: / \b\b- \b\b\\ \b\b| \b\b/ \b\b- \b\b\\ \b\b| \b\b/ \b\b- \b\b\\ \b\bdone\n",
            "\n",
            "## Package Plan ##\n",
            "\n",
            "  environment location: /usr/local\n",
            "\n",
            "  added / updated specs:\n",
            "    - _libgcc_mutex==0.1=main\n",
            "    - asn1crypto==1.3.0=py37_0\n",
            "    - ca-certificates==2020.1.1=0\n",
            "    - certifi==2019.11.28=py37_0\n",
            "    - cffi==1.14.0=py37h2e261b9_0\n",
            "    - chardet==3.0.4=py37_1003\n",
            "    - conda-package-handling==1.6.0=py37h7b6447c_0\n",
            "    - conda==4.8.2=py37_0\n",
            "    - cryptography==2.8=py37h1ba5d50_0\n",
            "    - idna==2.8=py37_0\n",
            "    - ld_impl_linux-64==2.33.1=h53a641e_7\n",
            "    - libedit==3.1.20181209=hc058e9b_0\n",
            "    - libffi==3.2.1=hd88cf55_4\n",
            "    - libgcc-ng==9.1.0=hdf63c60_0\n",
            "    - libstdcxx-ng==9.1.0=hdf63c60_0\n",
            "    - ncurses==6.2=he6710b0_0\n",
            "    - openssl==1.1.1d=h7b6447c_4\n",
            "    - pip==20.0.2=py37_1\n",
            "    - pycosat==0.6.3=py37h7b6447c_0\n",
            "    - pycparser==2.19=py37_0\n",
            "    - pyopenssl==19.1.0=py37_0\n",
            "    - pysocks==1.7.1=py37_0\n",
            "    - python==3.7.6=h0371630_2\n",
            "    - readline==7.0=h7b6447c_5\n",
            "    - requests==2.22.0=py37_1\n",
            "    - ruamel_yaml==0.15.87=py37h7b6447c_0\n",
            "    - setuptools==45.2.0=py37_0\n",
            "    - six==1.14.0=py37_0\n",
            "    - sqlite==3.31.1=h7b6447c_0\n",
            "    - tk==8.6.8=hbc83047_0\n",
            "    - tqdm==4.42.1=py_0\n",
            "    - urllib3==1.25.8=py37_0\n",
            "    - wheel==0.34.2=py37_0\n",
            "    - xz==5.2.4=h14c3975_4\n",
            "    - yaml==0.1.7=had09818_2\n",
            "    - zlib==1.2.11=h7b6447c_3\n",
            "\n",
            "\n",
            "The following packages will be UPDATED:\n",
            "\n",
            "  ca-certificates    conda-forge::ca-certificates-2019.11.~ --> pkgs/main::ca-certificates-2020.1.1-0\n",
            "\n",
            "The following packages will be SUPERSEDED by a higher-priority channel:\n",
            "\n",
            "  certifi            conda-forge::certifi-2019.11.28-py37h~ --> pkgs/main::certifi-2019.11.28-py37_0\n",
            "  conda              conda-forge::conda-4.8.3-py37hc8dfbb8~ --> pkgs/main::conda-4.8.2-py37_0\n",
            "  openssl            conda-forge::openssl-1.1.1e-h516909a_0 --> pkgs/main::openssl-1.1.1d-h7b6447c_4\n",
            "\n",
            "\n",
            "Preparing transaction: / \b\bdone\n",
            "Executing transaction: \\ \b\b| \b\bdone\n",
            "installation finished.\n",
            "WARNING:\n",
            "    You currently have a PYTHONPATH environment variable set. This may cause\n",
            "    unexpected behavior when running the Python interpreter in Miniconda3.\n",
            "    For best results, please verify that your PYTHONPATH only points to\n",
            "    directories of packages that are compatible with the Python interpreter\n",
            "    in Miniconda3: /usr/local\n",
            "\n",
            "real\t0m27.761s\n",
            "user\t0m38.402s\n",
            "sys\t0m6.384s\n",
            "Collecting package metadata (current_repodata.json): ...working... done\n",
            "Solving environment: ...working... done\n",
            "\n",
            "## Package Plan ##\n",
            "\n",
            "  environment location: /usr/local\n",
            "\n",
            "  added / updated specs:\n",
            "    - rdkit\n",
            "\n",
            "\n",
            "The following packages will be UPDATED:\n",
            "\n",
            "  certifi              pkgs/main::certifi-2019.11.28-py37_0 --> conda-forge::certifi-2019.11.28-py37hc8dfbb8_1\n",
            "  conda                       pkgs/main::conda-4.8.2-py37_0 --> conda-forge::conda-4.8.3-py37hc8dfbb8_1\n",
            "  openssl              pkgs/main::openssl-1.1.1d-h7b6447c_4 --> conda-forge::openssl-1.1.1e-h516909a_0\n",
            "\n",
            "The following packages will be SUPERSEDED by a higher-priority channel:\n",
            "\n",
            "  ca-certificates     pkgs/main::ca-certificates-2020.1.1-0 --> conda-forge::ca-certificates-2019.11.28-hecc5488_0\n",
            "\n",
            "\n",
            "Preparing transaction: ...working... done\n",
            "Verifying transaction: ...working... done\n",
            "Executing transaction: ...working... done\n",
            "\n",
            "real\t0m7.895s\n",
            "user\t0m7.163s\n",
            "sys\t0m0.872s\n"
          ],
          "name": "stdout"
        }
      ]
    },
    {
      "cell_type": "markdown",
      "metadata": {
        "id": "n0Mzn_wrvR4K",
        "colab_type": "text"
      },
      "source": [
        "###Install chembl_webresource_client"
      ]
    },
    {
      "cell_type": "code",
      "metadata": {
        "id": "zkTJD6nlvSF3",
        "colab_type": "code",
        "outputId": "4ca0443f-079a-4620-a1a4-3e62166b9003",
        "colab": {
          "base_uri": "https://localhost:8080/",
          "height": 173
        }
      },
      "source": [
        "!pip install chembl_webresource_client"
      ],
      "execution_count": 2,
      "outputs": [
        {
          "output_type": "stream",
          "text": [
            "Requirement already satisfied: chembl_webresource_client in /usr/local/lib/python3.7/site-packages (0.10.1)\n",
            "Requirement already satisfied: requests-cache>=0.4.7 in /usr/local/lib/python3.7/site-packages (from chembl_webresource_client) (0.5.2)\n",
            "Requirement already satisfied: requests>=2.18.4 in /usr/local/lib/python3.7/site-packages (from chembl_webresource_client) (2.22.0)\n",
            "Requirement already satisfied: urllib3 in /usr/local/lib/python3.7/site-packages (from chembl_webresource_client) (1.25.8)\n",
            "Requirement already satisfied: easydict in /usr/local/lib/python3.7/site-packages (from chembl_webresource_client) (1.9)\n",
            "Requirement already satisfied: certifi>=2017.4.17 in /usr/local/lib/python3.7/site-packages (from requests>=2.18.4->chembl_webresource_client) (2019.11.28)\n",
            "Requirement already satisfied: idna<2.9,>=2.5 in /usr/local/lib/python3.7/site-packages (from requests>=2.18.4->chembl_webresource_client) (2.8)\n",
            "Requirement already satisfied: chardet<3.1.0,>=3.0.2 in /usr/local/lib/python3.7/site-packages (from requests>=2.18.4->chembl_webresource_client) (3.0.4)\n"
          ],
          "name": "stdout"
        }
      ]
    },
    {
      "cell_type": "markdown",
      "metadata": {
        "id": "MGVrrFac-_nP",
        "colab_type": "text"
      },
      "source": [
        "###Append rdkit path to current python system path"
      ]
    },
    {
      "cell_type": "code",
      "metadata": {
        "id": "fgvRfQ0O-tDN",
        "colab_type": "code",
        "colab": {}
      },
      "source": [
        "%matplotlib inline\n",
        "import matplotlib.pyplot as plt\n",
        "import sys\n",
        "import os\n",
        "sys.path.append('/usr/local/lib/python3.7/site-packages/')\n",
        "from rdkit.Chem import PandasTools"
      ],
      "execution_count": 0,
      "outputs": []
    },
    {
      "cell_type": "markdown",
      "metadata": {
        "id": "GTJ7rRNSkZN6",
        "colab_type": "text"
      },
      "source": [
        "###Import IPython helpers"
      ]
    },
    {
      "cell_type": "code",
      "metadata": {
        "id": "gfUy5TIQkZke",
        "colab_type": "code",
        "outputId": "c05c4aad-8225-4b71-e8b1-b02ff06f79a0",
        "colab": {
          "base_uri": "https://localhost:8080/",
          "height": 34
        }
      },
      "source": [
        "%matplotlib inline\n",
        "%pylab inline\n",
        "from IPython.display import Image\n",
        "\n",
        "import warnings\n",
        "warnings.filterwarnings('ignore')\n",
        "\n",
        "from IPython.core.interactiveshell import InteractiveShell\n",
        "InteractiveShell.ast_node_interactivity = \"all\""
      ],
      "execution_count": 4,
      "outputs": [
        {
          "output_type": "stream",
          "text": [
            "Populating the interactive namespace from numpy and matplotlib\n"
          ],
          "name": "stdout"
        }
      ]
    },
    {
      "cell_type": "markdown",
      "metadata": {
        "id": "u60yl8zf_Hz_",
        "colab_type": "text"
      },
      "source": [
        "###Import RDKit, Numpy, Pandas libraries"
      ]
    },
    {
      "cell_type": "code",
      "metadata": {
        "id": "AkP9ga9W9N4t",
        "colab_type": "code",
        "colab": {}
      },
      "source": [
        "from rdkit.Chem import AllChem as Chem\n",
        "from rdkit.Chem.Draw import IPythonConsole\n",
        "from rdkit.Chem import Descriptors\n",
        "from rdkit import DataStructs\n",
        "import numpy as np\n",
        "import pandas as pd\n",
        "from time import time"
      ],
      "execution_count": 0,
      "outputs": []
    },
    {
      "cell_type": "markdown",
      "metadata": {
        "id": "EZ5qgpbvDzDT",
        "colab_type": "text"
      },
      "source": [
        "###Install Open Babel"
      ]
    },
    {
      "cell_type": "code",
      "metadata": {
        "id": "aBxWw7aaD2G0",
        "colab_type": "code",
        "outputId": "23aac380-b3ea-4899-a61f-fed4f89b0da1",
        "colab": {
          "base_uri": "https://localhost:8080/",
          "height": 119
        }
      },
      "source": [
        "!sudo apt install openbabel pymol"
      ],
      "execution_count": 6,
      "outputs": [
        {
          "output_type": "stream",
          "text": [
            "Reading package lists... Done\n",
            "Building dependency tree       \n",
            "Reading state information... Done\n",
            "openbabel is already the newest version (2.3.2+dfsg-3build1).\n",
            "pymol is already the newest version (1.8.4.0+dfsg-1build1).\n",
            "0 upgraded, 0 newly installed, 0 to remove and 25 not upgraded.\n"
          ],
          "name": "stdout"
        }
      ]
    },
    {
      "cell_type": "markdown",
      "metadata": {
        "id": "9C92Cn_hlFRJ",
        "colab_type": "text"
      },
      "source": [
        "###Authorization Google Colab"
      ]
    },
    {
      "cell_type": "code",
      "metadata": {
        "id": "fak7Dl9iACFR",
        "colab_type": "code",
        "outputId": "8f792c9b-ad4e-4e05-fde6-0c500abbb8f9",
        "colab": {
          "base_uri": "https://localhost:8080/",
          "height": 34
        }
      },
      "source": [
        "from google.colab import drive, files\n",
        "drive.mount('/content/gdrive')"
      ],
      "execution_count": 7,
      "outputs": [
        {
          "output_type": "stream",
          "text": [
            "Drive already mounted at /content/gdrive; to attempt to forcibly remount, call drive.mount(\"/content/gdrive\", force_remount=True).\n"
          ],
          "name": "stdout"
        }
      ]
    },
    {
      "cell_type": "markdown",
      "metadata": {
        "id": "jO9oAD-jlZZ_",
        "colab_type": "text"
      },
      "source": [
        "#**Simple RDKit stuff - Molecules, descriptors and similarity**"
      ]
    },
    {
      "cell_type": "markdown",
      "metadata": {
        "id": "QRaETqUClfsk",
        "colab_type": "text"
      },
      "source": [
        "Ref: https://github.com/chembl/mychembl/blob/master/ipython_notebooks/"
      ]
    },
    {
      "cell_type": "markdown",
      "metadata": {
        "id": "wR4P1-EAmoNq",
        "colab_type": "text"
      },
      "source": [
        "###Molecule from SMILES"
      ]
    },
    {
      "cell_type": "markdown",
      "metadata": {
        "id": "WgYdBEgNmVZK",
        "colab_type": "text"
      },
      "source": [
        "**Canonical** SMILES -> Each distinct chemical molecule has a single UNIQUE SMILES representation\n",
        "\n",
        "**Isomeric** SMILES -> Support the specification of isotopes, chirality, and configuration of double bonds "
      ]
    },
    {
      "cell_type": "code",
      "metadata": {
        "id": "69e5Ggd49K0r",
        "colab_type": "code",
        "colab": {}
      },
      "source": [
        "smi = 'CC(C)C[C@H](NC(=O)[C@@H](NC(=O)[C@H](C)NC(=O)c1cc(C)on1)C(C)C)C(=O)N[C@@H](C[C@@H]2CCNC2=O)\\C=C/C(=O)OCc3ccccc3' #Isomeric SMILES (Simplified Molecular-input Line-Entry System) \n",
        "                                                                                                       #, PDB: 6LU7\n",
        "mol = Chem.MolFromSmiles(smi)"
      ],
      "execution_count": 0,
      "outputs": []
    },
    {
      "cell_type": "code",
      "metadata": {
        "id": "-g11IMcImfb9",
        "colab_type": "code",
        "outputId": "74edce85-fa4f-4d6c-87a4-325d624bff0b",
        "colab": {
          "base_uri": "https://localhost:8080/",
          "height": 167
        }
      },
      "source": [
        "mol"
      ],
      "execution_count": 9,
      "outputs": [
        {
          "output_type": "execute_result",
          "data": {
            "image/png": "[encoded data removed]",
            "text/plain": [
              "<rdkit.Chem.rdchem.Mol at 0x7f415d6a9f30>"
            ]
          },
          "metadata": {
            "tags": []
          },
          "execution_count": 9
        }
      ]
    },
    {
      "cell_type": "markdown",
      "metadata": {
        "id": "HnQ5ow06ms3w",
        "colab_type": "text"
      },
      "source": [
        "###Simple descriptors"
      ]
    },
    {
      "cell_type": "code",
      "metadata": {
        "id": "s9DcDAlT_W4a",
        "colab_type": "code",
        "outputId": "133b81c6-d0da-4709-d893-fa1295207e5c",
        "colab": {
          "base_uri": "https://localhost:8080/",
          "height": 34
        }
      },
      "source": [
        "print(Descriptors.MolWt(mol))"
      ],
      "execution_count": 10,
      "outputs": [
        {
          "output_type": "stream",
          "text": [
            "680.8030000000002\n"
          ],
          "name": "stdout"
        }
      ]
    },
    {
      "cell_type": "code",
      "metadata": {
        "id": "fwYpoz9tmxxE",
        "colab_type": "code",
        "outputId": "c556d637-ff2e-46d2-f7c9-72a405cb9d10",
        "colab": {
          "base_uri": "https://localhost:8080/",
          "height": 34
        }
      },
      "source": [
        "print(Descriptors.RingCount(mol))"
      ],
      "execution_count": 11,
      "outputs": [
        {
          "output_type": "stream",
          "text": [
            "3\n"
          ],
          "name": "stdout"
        }
      ]
    },
    {
      "cell_type": "markdown",
      "metadata": {
        "id": "UfYbniKNnFDz",
        "colab_type": "text"
      },
      "source": [
        "###Output to various text formats"
      ]
    },
    {
      "cell_type": "code",
      "metadata": {
        "id": "qPF7OE0SAumu",
        "colab_type": "code",
        "outputId": "f9fc0857-3599-4dc2-bada-c065dcc691fa",
        "colab": {
          "base_uri": "https://localhost:8080/",
          "height": 34
        }
      },
      "source": [
        "Chem.MolToSmiles(mol, isomericSmiles=True) #Isomeric SMILES"
      ],
      "execution_count": 12,
      "outputs": [
        {
          "output_type": "execute_result",
          "data": {
            "text/plain": [
              "'Cc1cc(C(=O)N[C@@H](C)C(=O)N[C@H](C(=O)N[C@@H](CC(C)C)C(=O)N[C@H](/C=C\\\\C(=O)OCc2ccccc2)C[C@@H]2CCNC2=O)C(C)C)no1'"
            ]
          },
          "metadata": {
            "tags": []
          },
          "execution_count": 12
        }
      ]
    },
    {
      "cell_type": "code",
      "metadata": {
        "id": "THoF62jJAxAB",
        "colab_type": "code",
        "outputId": "0a2f172e-ccf3-4c69-e9f2-f579636e11d2",
        "colab": {
          "base_uri": "https://localhost:8080/",
          "height": 34
        }
      },
      "source": [
        "Chem.MolToSmiles(mol, isomericSmiles=False) #Canonical SMILES"
      ],
      "execution_count": 13,
      "outputs": [
        {
          "output_type": "execute_result",
          "data": {
            "text/plain": [
              "'Cc1cc(C(=O)NC(C)C(=O)NC(C(=O)NC(CC(C)C)C(=O)NC(C=CC(=O)OCc2ccccc2)CC2CCNC2=O)C(C)C)no1'"
            ]
          },
          "metadata": {
            "tags": []
          },
          "execution_count": 13
        }
      ]
    },
    {
      "cell_type": "code",
      "metadata": {
        "id": "eKtbza9pDaAB",
        "colab_type": "code",
        "outputId": "475dd70b-6e78-43a9-e496-b9e90a05b4d0",
        "colab": {
          "base_uri": "https://localhost:8080/",
          "height": 54
        }
      },
      "source": [
        "print(Chem.MolToInchi(mol))"
      ],
      "execution_count": 14,
      "outputs": [
        {
          "output_type": "stream",
          "text": [
            "InChI=1S/C35H48N6O8/c1-20(2)16-27(39-35(47)30(21(3)4)40-31(43)23(6)37-34(46)28-17-22(5)49-41-28)33(45)38-26(18-25-14-15-36-32(25)44)12-13-29(42)48-19-24-10-8-7-9-11-24/h7-13,17,20-21,23,25-27,30H,14-16,18-19H2,1-6H3,(H,36,44)(H,37,46)(H,38,45)(H,39,47)(H,40,43)/b13-12-/t23-,25-,26+,27-,30-/m0/s1\n"
          ],
          "name": "stdout"
        }
      ]
    },
    {
      "cell_type": "code",
      "metadata": {
        "id": "N2Pl6yJBqcmp",
        "colab_type": "code",
        "outputId": "360cd8c4-ae36-4479-fdde-6a1ef9bdb37b",
        "colab": {
          "base_uri": "https://localhost:8080/",
          "height": 54
        }
      },
      "source": [
        "print(Chem.MolToSmarts(mol))"
      ],
      "execution_count": 15,
      "outputs": [
        {
          "output_type": "stream",
          "text": [
            "[#6]-[#6](-[#6])-[#6]-[#6@H](-[#7]-[#6](=[#8])-[#6@@H](-[#7]-[#6](=[#8])-[#6@H](-[#6])-[#7]-[#6](=[#8])-[#6]1:[#6]:[#6](-[#6]):[#8]:[#7]:1)-[#6](-[#6])-[#6])-[#6](=[#8])-[#7]-[#6@@H](-[#6]-[#6@@H]1-[#6]-[#6]-[#7]-[#6]-1=[#8])/[#6]=[#6]\\[#6](=[#8])-[#8]-[#6]-[#6]1:[#6]:[#6]:[#6]:[#6]:[#6]:1\n"
          ],
          "name": "stdout"
        }
      ]
    },
    {
      "cell_type": "code",
      "metadata": {
        "id": "uOPUts1gFM_z",
        "colab_type": "code",
        "colab": {}
      },
      "source": [
        "sdf = Chem.MolToMolBlock(mol)"
      ],
      "execution_count": 0,
      "outputs": []
    },
    {
      "cell_type": "code",
      "metadata": {
        "id": "_4a9w3NSnWsj",
        "colab_type": "code",
        "outputId": "fa8325d5-3672-4653-feb2-9ea1d7d75246",
        "colab": {
          "base_uri": "https://localhost:8080/",
          "height": 1000
        }
      },
      "source": [
        "print(sdf)"
      ],
      "execution_count": 17,
      "outputs": [
        {
          "output_type": "stream",
          "text": [
            "\n",
            "     RDKit          2D\n",
            "\n",
            " 49 51  0  0  0  0  0  0  0  0999 V2000\n",
            "    9.7500   -3.8971    0.0000 C   0  0  0  0  0  0  0  0  0  0  0  0\n",
            "    8.2500   -3.8971    0.0000 C   0  0  0  0  0  0  0  0  0  0  0  0\n",
            "    7.5000   -2.5981    0.0000 C   0  0  0  0  0  0  0  0  0  0  0  0\n",
            "    7.5000   -5.1962    0.0000 C   0  0  0  0  0  0  0  0  0  0  0  0\n",
            "    6.0000   -5.1962    0.0000 C   0  0  0  0  0  0  0  0  0  0  0  0\n",
            "    5.2500   -3.8971    0.0000 N   0  0  0  0  0  0  0  0  0  0  0  0\n",
            "    3.7500   -3.8971    0.0000 C   0  0  0  0  0  0  0  0  0  0  0  0\n",
            "    3.0000   -5.1962    0.0000 O   0  0  0  0  0  0  0  0  0  0  0  0\n",
            "    3.0000   -2.5981    0.0000 C   0  0  0  0  0  0  0  0  0  0  0  0\n",
            "    3.7500   -1.2990    0.0000 N   0  0  0  0  0  0  0  0  0  0  0  0\n",
            "    3.0000   -0.0000    0.0000 C   0  0  0  0  0  0  0  0  0  0  0  0\n",
            "    1.5000   -0.0000    0.0000 O   0  0  0  0  0  0  0  0  0  0  0  0\n",
            "    3.7500    1.2990    0.0000 C   0  0  0  0  0  0  0  0  0  0  0  0\n",
            "    3.0000    2.5981    0.0000 C   0  0  0  0  0  0  0  0  0  0  0  0\n",
            "    5.2500    1.2990    0.0000 N   0  0  0  0  0  0  0  0  0  0  0  0\n",
            "    6.0000   -0.0000    0.0000 C   0  0  0  0  0  0  0  0  0  0  0  0\n",
            "    5.2500   -1.2990    0.0000 O   0  0  0  0  0  0  0  0  0  0  0  0\n",
            "    7.5000   -0.0000    0.0000 C   0  0  0  0  0  0  0  0  0  0  0  0\n",
            "    8.3817   -1.2135    0.0000 C   0  0  0  0  0  0  0  0  0  0  0  0\n",
            "    9.8083   -0.7500    0.0000 C   0  0  0  0  0  0  0  0  0  0  0  0\n",
            "   11.0218   -1.6317    0.0000 C   0  0  0  0  0  0  0  0  0  0  0  0\n",
            "    9.8083    0.7500    0.0000 O   0  0  0  0  0  0  0  0  0  0  0  0\n",
            "    8.3817    1.2135    0.0000 N   0  0  0  0  0  0  0  0  0  0  0  0\n",
            "    1.5000   -2.5981    0.0000 C   0  0  0  0  0  0  0  0  0  0  0  0\n",
            "    0.7500   -1.2990    0.0000 C   0  0  0  0  0  0  0  0  0  0  0  0\n",
            "    0.7500   -3.8971    0.0000 C   0  0  0  0  0  0  0  0  0  0  0  0\n",
            "    5.2500   -6.4952    0.0000 C   0  0  0  0  0  0  0  0  0  0  0  0\n",
            "    6.0000   -7.7942    0.0000 O   0  0  0  0  0  0  0  0  0  0  0  0\n",
            "    3.7500   -6.4952    0.0000 N   0  0  0  0  0  0  0  0  0  0  0  0\n",
            "    3.0000   -7.7942    0.0000 C   0  0  0  0  0  0  0  0  0  0  0  0\n",
            "    3.7500   -9.0933    0.0000 C   0  0  0  0  0  0  0  0  0  0  0  0\n",
            "    3.0000  -10.3923    0.0000 C   0  0  0  0  0  0  0  0  0  0  0  0\n",
            "    1.5082  -10.5491    0.0000 C   0  0  0  0  0  0  0  0  0  0  0  0\n",
            "    1.1963  -12.0163    0.0000 C   0  0  0  0  0  0  0  0  0  0  0  0\n",
            "    2.4954  -12.7663    0.0000 N   0  0  0  0  0  0  0  0  0  0  0  0\n",
            "    3.6101  -11.7626    0.0000 C   0  0  0  0  0  0  0  0  0  0  0  0\n",
            "    5.0773  -12.0745    0.0000 O   0  0  0  0  0  0  0  0  0  0  0  0\n",
            "    1.5000   -7.7942    0.0000 C   0  0  0  0  0  0  0  0  0  0  0  0\n",
            "    0.7500   -9.0933    0.0000 C   0  0  0  0  0  0  0  0  0  0  0  0\n",
            "    1.5000  -10.3923    0.0000 C   0  0  0  0  0  0  0  0  0  0  0  0\n",
            "    2.9554  -10.7553    0.0000 O   0  0  0  0  0  0  0  0  0  0  0  0\n",
            "    0.7500  -11.6913    0.0000 O   0  0  0  0  0  0  0  0  0  0  0  0\n",
            "    1.5000  -12.9904    0.0000 C   0  0  0  0  0  0  0  0  0  0  0  0\n",
            "    0.7500  -14.2894    0.0000 C   0  0  0  0  0  0  0  0  0  0  0  0\n",
            "    1.5000  -15.5885    0.0000 C   0  0  0  0  0  0  0  0  0  0  0  0\n",
            "    0.7500  -16.8875    0.0000 C   0  0  0  0  0  0  0  0  0  0  0  0\n",
            "   -0.7500  -16.8875    0.0000 C   0  0  0  0  0  0  0  0  0  0  0  0\n",
            "   -1.5000  -15.5885    0.0000 C   0  0  0  0  0  0  0  0  0  0  0  0\n",
            "   -0.7500  -14.2894    0.0000 C   0  0  0  0  0  0  0  0  0  0  0  0\n",
            "  1  2  1  0\n",
            "  2  3  1  0\n",
            "  2  4  1  0\n",
            "  5  4  1  1\n",
            "  5  6  1  0\n",
            "  6  7  1  0\n",
            "  7  8  2  0\n",
            "  7  9  1  0\n",
            "  9 10  1  6\n",
            " 10 11  1  0\n",
            " 11 12  2  0\n",
            " 11 13  1  0\n",
            " 13 14  1  6\n",
            " 13 15  1  0\n",
            " 15 16  1  0\n",
            " 16 17  2  0\n",
            " 16 18  1  0\n",
            " 18 19  1  0\n",
            " 19 20  2  0\n",
            " 20 21  1  0\n",
            " 20 22  1  0\n",
            " 22 23  1  0\n",
            "  9 24  1  0\n",
            " 24 25  1  0\n",
            " 24 26  1  0\n",
            "  5 27  1  0\n",
            " 27 28  2  0\n",
            " 27 29  1  0\n",
            " 29 30  1  0\n",
            " 30 31  1  1\n",
            " 32 31  1  1\n",
            " 32 33  1  0\n",
            " 33 34  1  0\n",
            " 34 35  1  0\n",
            " 35 36  1  0\n",
            " 36 37  2  0\n",
            " 30 38  1  0\n",
            " 38 39  2  0\n",
            " 39 40  1  0\n",
            " 40 41  2  0\n",
            " 40 42  1  0\n",
            " 42 43  1  0\n",
            " 43 44  1  0\n",
            " 44 45  2  0\n",
            " 45 46  1  0\n",
            " 46 47  2  0\n",
            " 47 48  1  0\n",
            " 48 49  2  0\n",
            " 23 18  2  0\n",
            " 36 32  1  0\n",
            " 49 44  1  0\n",
            "M  END\n",
            "\n"
          ],
          "name": "stdout"
        }
      ]
    },
    {
      "cell_type": "markdown",
      "metadata": {
        "id": "UycbGq-aogsN",
        "colab_type": "text"
      },
      "source": [
        "###Fingerprints and similarity"
      ]
    },
    {
      "cell_type": "code",
      "metadata": {
        "id": "6jV9x9ALoIk2",
        "colab_type": "code",
        "colab": {}
      },
      "source": [
        "fp = Chem.GetMorganFingerprintAsBitVect(mol,2,nBits=2048)"
      ],
      "execution_count": 0,
      "outputs": []
    },
    {
      "cell_type": "code",
      "metadata": {
        "id": "LhQzksgxomme",
        "colab_type": "code",
        "outputId": "fe9e74e4-aa60-44e6-9b39-bfae686fd688",
        "colab": {
          "base_uri": "https://localhost:8080/",
          "height": 54
        }
      },
      "source": [
        "fp.ToBitString()"
      ],
      "execution_count": 19,
      "outputs": [
        {
          "output_type": "execute_result",
          "data": {
            "text/plain": [
              "'01000000000000000000000000000101000000000000000000000000000000000000000000000000100000000000000000000000000000000000010000000000000000000000000000010000000000000000000000000100000000000000000000000000000010000000000000000000000000000000000000000000100000000000000000000000000000000001000000000000000000000100000000100000000000000000000000010000000001000000000000000000000000000010000000000100000000000000000000000000000000000000000000000000000000000000000000000000000000000000000000100010000000000000000000010000000000000000000000000000000000000000000000000000000000000000010000000000000000000000000000000000000000000000000000000100000000000000000000100000100000000000000000000000100000000000001100000000000000000000000000000010000000001000100001000000000000010000000000000000000000000000000000000000000000010000000000000000000000000000000000000000000000010000000000000000000100000000000000000000000000000000000000000000000000100000000000000000000000000000000000000000000000000000000000000100000000000000000000000001000100000000000000100000000000000000000001000000001000000110000000000000100000000000000000000010001000100000000000000000000000000000000010000000000000000000000000000000100000000000000100000000000000000000000000000000000000000000000000000000000000000000000000000000000000000000000000000000000000000000000000000100000000000000000000000001000000000000000000000000000010000000000000000010000000000000000000000000000000000000000000000000000000000000110000000000000000000010000000000000000000000000000000000000000000000010000000000010000000000000000000000000000000000000000000001000000000000000000000010000000000011000000000000000000000000000000000010000000000000000000000000000000000000001000000000000000000100010000000000000000000100000001000100000000000000000010000000000000000000000000000000000000000000000000000000100000000000000000100000000000000000010100011000000000000000000000000000000000000000010010000000000000000000000000000000000000000000000000000000000000000000001000000000000000000000000000010000000000000000000000000100000'"
            ]
          },
          "metadata": {
            "tags": []
          },
          "execution_count": 19
        }
      ]
    },
    {
      "cell_type": "code",
      "metadata": {
        "id": "EamgdRr8ooJ8",
        "colab_type": "code",
        "outputId": "d7e8e829-b211-4df2-cb17-26002ed36ed0",
        "colab": {
          "base_uri": "https://localhost:8080/",
          "height": 34
        }
      },
      "source": [
        "fp.GetNumOnBits() # How many '1' in the string?"
      ],
      "execution_count": 20,
      "outputs": [
        {
          "output_type": "execute_result",
          "data": {
            "text/plain": [
              "82"
            ]
          },
          "metadata": {
            "tags": []
          },
          "execution_count": 20
        }
      ]
    },
    {
      "cell_type": "code",
      "metadata": {
        "id": "SW9RyjcHoryH",
        "colab_type": "code",
        "outputId": "a40ba73e-8bc4-4224-8577-beb4345ce780",
        "colab": {
          "base_uri": "https://localhost:8080/",
          "height": 34
        }
      },
      "source": [
        "fp.GetNumBits() # Lenght of the string"
      ],
      "execution_count": 21,
      "outputs": [
        {
          "output_type": "execute_result",
          "data": {
            "text/plain": [
              "2048"
            ]
          },
          "metadata": {
            "tags": []
          },
          "execution_count": 21
        }
      ]
    },
    {
      "cell_type": "code",
      "metadata": {
        "id": "gTyHrabSowLl",
        "colab_type": "code",
        "colab": {}
      },
      "source": [
        "smi2 = 'CC(C)(C)OC(=O)Nc1cccn([C@@H](CC2CC2)C(=O)N[C@@H](C[C@@H]2CCNC2=O)[C@@H](O)C(=O)NCc2ccccc2)c1=O' #PDB:6Y2F\n",
        "mol2 = Chem.MolFromSmiles(smi2)"
      ],
      "execution_count": 0,
      "outputs": []
    },
    {
      "cell_type": "code",
      "metadata": {
        "id": "Ji_NgFS9pV8y",
        "colab_type": "code",
        "colab": {}
      },
      "source": [
        "fp2 = Chem.GetMorganFingerprintAsBitVect(mol2, 2, nBits=2048)"
      ],
      "execution_count": 0,
      "outputs": []
    },
    {
      "cell_type": "code",
      "metadata": {
        "id": "0Vn9JocMpXR8",
        "colab_type": "code",
        "outputId": "9dcd4019-f2d1-4184-ae1e-a58cc90663e4",
        "colab": {
          "base_uri": "https://localhost:8080/",
          "height": 167
        }
      },
      "source": [
        "mol2"
      ],
      "execution_count": 24,
      "outputs": [
        {
          "output_type": "execute_result",
          "data": {
            "image/png": "[encoded data removed]",
            "text/plain": [
              "<rdkit.Chem.rdchem.Mol at 0x7f415d5235d0>"
            ]
          },
          "metadata": {
            "tags": []
          },
          "execution_count": 24
        }
      ]
    },
    {
      "cell_type": "code",
      "metadata": {
        "id": "wCNLhG4TpY8r",
        "colab_type": "code",
        "outputId": "794058ea-a559-49c1-9e75-a42b4b43272a",
        "colab": {
          "base_uri": "https://localhost:8080/",
          "height": 167
        }
      },
      "source": [
        "mol"
      ],
      "execution_count": 25,
      "outputs": [
        {
          "output_type": "execute_result",
          "data": {
            "image/png": "[encoded data removed]",
            "text/plain": [
              "<rdkit.Chem.rdchem.Mol at 0x7f415d6a9f30>"
            ]
          },
          "metadata": {
            "tags": []
          },
          "execution_count": 25
        }
      ]
    },
    {
      "cell_type": "code",
      "metadata": {
        "id": "eUp-m1yvpZtG",
        "colab_type": "code",
        "outputId": "df462675-393f-4138-eefd-9b0117b20b69",
        "colab": {
          "base_uri": "https://localhost:8080/",
          "height": 34
        }
      },
      "source": [
        "DataStructs.TanimotoSimilarity(fp,fp2)"
      ],
      "execution_count": 26,
      "outputs": [
        {
          "output_type": "execute_result",
          "data": {
            "text/plain": [
              "0.2809917355371901"
            ]
          },
          "metadata": {
            "tags": []
          },
          "execution_count": 26
        }
      ]
    },
    {
      "cell_type": "markdown",
      "metadata": {
        "id": "9GhHDOZEn96Z",
        "colab_type": "text"
      },
      "source": [
        "Note: Tanimoto Similarity, 0 ≤ **J** ≤ 1\n",
        "\n",
        "![alt text](https://wikimedia.org/api/rest_v1/media/math/render/svg/eaef5aa86949f49e7dc6b9c8c3dd8b233332c9e7)\n"
      ]
    },
    {
      "cell_type": "markdown",
      "metadata": {
        "id": "mrvA3BnSphQD",
        "colab_type": "text"
      },
      "source": [
        "###Similarity Maps"
      ]
    },
    {
      "cell_type": "code",
      "metadata": {
        "id": "EqJzo-NypcrR",
        "colab_type": "code",
        "outputId": "592d82a8-ac4d-4c3d-f4ea-bf0d67037c72",
        "colab": {
          "base_uri": "https://localhost:8080/",
          "height": 498
        }
      },
      "source": [
        "from rdkit.Chem.Draw import SimilarityMaps\n",
        "SimilarityMaps.GetSimilarityMapForFingerprint(mol2, mol, SimilarityMaps.GetMorganFingerprint)"
      ],
      "execution_count": 27,
      "outputs": [
        {
          "output_type": "execute_result",
          "data": {
            "text/plain": [
              "(<Figure size 180x180 with 1 Axes>, 0.10537634408602153)"
            ]
          },
          "metadata": {
            "tags": []
          },
          "execution_count": 27
        },
        {
          "output_type": "display_data",
          "data": {
            "image/png": "[encoded data removed]",
            "text/plain": [
              "<Figure size 180x180 with 1 Axes>"
            ]
          },
          "metadata": {
            "tags": []
          }
        }
      ]
    },
    {
      "cell_type": "markdown",
      "metadata": {
        "id": "gVUjrZltqNvK",
        "colab_type": "text"
      },
      "source": [
        "#**Using ChEMBL to find similarity**"
      ]
    },
    {
      "cell_type": "markdown",
      "metadata": {
        "id": "qgn7prTqv0QJ",
        "colab_type": "text"
      },
      "source": [
        "Tutorial: https://github.com/chembl/chembl_webresource_client"
      ]
    },
    {
      "cell_type": "markdown",
      "metadata": {
        "id": "HO5xJGt3qRXj",
        "colab_type": "text"
      },
      "source": [
        "###Find compounds similar to given SMILES query with similarity threshold of 40%"
      ]
    },
    {
      "cell_type": "code",
      "metadata": {
        "id": "wPL-_JTfpk1Z",
        "colab_type": "code",
        "colab": {}
      },
      "source": [
        "from chembl_webresource_client.new_client import *\n",
        "similarity = new_client.similarity\n",
        "res = similarity.filter(smiles=\"Cc1cc(C(=O)NC(C)C(=O)NC(C(=O)NC(CC(C)C)C(=O)NC(C=CC(=O)OCc2ccccc2)CC2CCNC2=O)C(C)C)no1\", similarity=50) #PDB: 6LU7"
      ],
      "execution_count": 0,
      "outputs": []
    },
    {
      "cell_type": "code",
      "metadata": {
        "id": "KGowKymYqmtY",
        "colab_type": "code",
        "colab": {}
      },
      "source": [
        "df_res = pd.DataFrame(res)"
      ],
      "execution_count": 0,
      "outputs": []
    },
    {
      "cell_type": "code",
      "metadata": {
        "id": "k6Q8-ad7ypJg",
        "colab_type": "code",
        "outputId": "a11db351-45b9-418e-b09f-7bd1f26686e5",
        "colab": {
          "base_uri": "https://localhost:8080/",
          "height": 779
        }
      },
      "source": [
        "df_res"
      ],
      "execution_count": 30,
      "outputs": [
        {
          "output_type": "execute_result",
          "data": {
            "text/html": [
              "<div>\n",
              "<style scoped>\n",
              "    .dataframe tbody tr th:only-of-type {\n",
              "        vertical-align: middle;\n",
              "    }\n",
              "\n",
              "    .dataframe tbody tr th {\n",
              "        vertical-align: top;\n",
              "    }\n",
              "\n",
              "    .dataframe thead th {\n",
              "        text-align: right;\n",
              "    }\n",
              "</style>\n",
              "<table border=\"1\" class=\"dataframe\">\n",
              "  <thead>\n",
              "    <tr style=\"text-align: right;\">\n",
              "      <th></th>\n",
              "      <th>atc_classifications</th>\n",
              "      <th>availability_type</th>\n",
              "      <th>biotherapeutic</th>\n",
              "      <th>black_box_warning</th>\n",
              "      <th>chebi_par_id</th>\n",
              "      <th>chirality</th>\n",
              "      <th>cross_references</th>\n",
              "      <th>dosed_ingredient</th>\n",
              "      <th>first_approval</th>\n",
              "      <th>first_in_class</th>\n",
              "      <th>helm_notation</th>\n",
              "      <th>indication_class</th>\n",
              "      <th>inorganic_flag</th>\n",
              "      <th>max_phase</th>\n",
              "      <th>molecule_chembl_id</th>\n",
              "      <th>molecule_hierarchy</th>\n",
              "      <th>molecule_properties</th>\n",
              "      <th>molecule_structures</th>\n",
              "      <th>molecule_type</th>\n",
              "      <th>natural_product</th>\n",
              "      <th>oral</th>\n",
              "      <th>parenteral</th>\n",
              "      <th>polymer_flag</th>\n",
              "      <th>pref_name</th>\n",
              "      <th>prodrug</th>\n",
              "      <th>similarity</th>\n",
              "      <th>structure_type</th>\n",
              "      <th>therapeutic_flag</th>\n",
              "      <th>topical</th>\n",
              "      <th>usan_stem</th>\n",
              "      <th>usan_stem_definition</th>\n",
              "      <th>usan_substem</th>\n",
              "      <th>usan_year</th>\n",
              "      <th>withdrawn_class</th>\n",
              "      <th>withdrawn_country</th>\n",
              "      <th>withdrawn_flag</th>\n",
              "      <th>withdrawn_reason</th>\n",
              "      <th>withdrawn_year</th>\n",
              "    </tr>\n",
              "  </thead>\n",
              "  <tbody>\n",
              "    <tr>\n",
              "      <th>0</th>\n",
              "      <td>[]</td>\n",
              "      <td>-1</td>\n",
              "      <td>None</td>\n",
              "      <td>0</td>\n",
              "      <td>None</td>\n",
              "      <td>-1</td>\n",
              "      <td>[]</td>\n",
              "      <td>False</td>\n",
              "      <td>None</td>\n",
              "      <td>-1</td>\n",
              "      <td>None</td>\n",
              "      <td>None</td>\n",
              "      <td>-1</td>\n",
              "      <td>0</td>\n",
              "      <td>CHEMBL1230135</td>\n",
              "      <td>{'molecule_chembl_id': 'CHEMBL1230135', 'paren...</td>\n",
              "      <td>{'alogp': '2.08', 'aromatic_rings': 2, 'cx_log...</td>\n",
              "      <td>{'canonical_smiles': 'Cc1cc(C(=O)N[C@@H](C)C(=...</td>\n",
              "      <td>Small molecule</td>\n",
              "      <td>-1</td>\n",
              "      <td>False</td>\n",
              "      <td>False</td>\n",
              "      <td>False</td>\n",
              "      <td>None</td>\n",
              "      <td>-1</td>\n",
              "      <td>100</td>\n",
              "      <td>MOL</td>\n",
              "      <td>False</td>\n",
              "      <td>False</td>\n",
              "      <td>None</td>\n",
              "      <td>None</td>\n",
              "      <td>None</td>\n",
              "      <td>NaN</td>\n",
              "      <td>None</td>\n",
              "      <td>None</td>\n",
              "      <td>False</td>\n",
              "      <td>None</td>\n",
              "      <td>None</td>\n",
              "    </tr>\n",
              "    <tr>\n",
              "      <th>1</th>\n",
              "      <td>[]</td>\n",
              "      <td>-1</td>\n",
              "      <td>None</td>\n",
              "      <td>0</td>\n",
              "      <td>None</td>\n",
              "      <td>-1</td>\n",
              "      <td>[]</td>\n",
              "      <td>False</td>\n",
              "      <td>None</td>\n",
              "      <td>-1</td>\n",
              "      <td>None</td>\n",
              "      <td>None</td>\n",
              "      <td>-1</td>\n",
              "      <td>0</td>\n",
              "      <td>CHEMBL393608</td>\n",
              "      <td>{'molecule_chembl_id': 'CHEMBL393608', 'parent...</td>\n",
              "      <td>{'alogp': '1.40', 'aromatic_rings': 1, 'cx_log...</td>\n",
              "      <td>{'canonical_smiles': 'CCOC(=O)/C=C/[C@H](C[C@@...</td>\n",
              "      <td>Small molecule</td>\n",
              "      <td>-1</td>\n",
              "      <td>False</td>\n",
              "      <td>False</td>\n",
              "      <td>False</td>\n",
              "      <td>None</td>\n",
              "      <td>-1</td>\n",
              "      <td>77.906978130340576171875</td>\n",
              "      <td>MOL</td>\n",
              "      <td>False</td>\n",
              "      <td>False</td>\n",
              "      <td>None</td>\n",
              "      <td>None</td>\n",
              "      <td>None</td>\n",
              "      <td>NaN</td>\n",
              "      <td>None</td>\n",
              "      <td>None</td>\n",
              "      <td>False</td>\n",
              "      <td>None</td>\n",
              "      <td>None</td>\n",
              "    </tr>\n",
              "    <tr>\n",
              "      <th>2</th>\n",
              "      <td>[]</td>\n",
              "      <td>-1</td>\n",
              "      <td>None</td>\n",
              "      <td>0</td>\n",
              "      <td>None</td>\n",
              "      <td>-1</td>\n",
              "      <td>[]</td>\n",
              "      <td>False</td>\n",
              "      <td>None</td>\n",
              "      <td>-1</td>\n",
              "      <td>None</td>\n",
              "      <td>None</td>\n",
              "      <td>-1</td>\n",
              "      <td>0</td>\n",
              "      <td>CHEMBL238216</td>\n",
              "      <td>{'molecule_chembl_id': 'CHEMBL238216', 'parent...</td>\n",
              "      <td>{'alogp': '1.60', 'aromatic_rings': 2, 'cx_log...</td>\n",
              "      <td>{'canonical_smiles': 'CCOC(=O)/C=C/[C@H](C[C@@...</td>\n",
              "      <td>Small molecule</td>\n",
              "      <td>-1</td>\n",
              "      <td>False</td>\n",
              "      <td>False</td>\n",
              "      <td>False</td>\n",
              "      <td>None</td>\n",
              "      <td>-1</td>\n",
              "      <td>75.5555570125579833984375</td>\n",
              "      <td>MOL</td>\n",
              "      <td>False</td>\n",
              "      <td>False</td>\n",
              "      <td>None</td>\n",
              "      <td>None</td>\n",
              "      <td>None</td>\n",
              "      <td>NaN</td>\n",
              "      <td>None</td>\n",
              "      <td>None</td>\n",
              "      <td>False</td>\n",
              "      <td>None</td>\n",
              "      <td>None</td>\n",
              "    </tr>\n",
              "    <tr>\n",
              "      <th>3</th>\n",
              "      <td>[]</td>\n",
              "      <td>-1</td>\n",
              "      <td>None</td>\n",
              "      <td>0</td>\n",
              "      <td>None</td>\n",
              "      <td>-1</td>\n",
              "      <td>[]</td>\n",
              "      <td>False</td>\n",
              "      <td>None</td>\n",
              "      <td>-1</td>\n",
              "      <td>None</td>\n",
              "      <td>None</td>\n",
              "      <td>-1</td>\n",
              "      <td>0</td>\n",
              "      <td>CHEMBL213543</td>\n",
              "      <td>{'molecule_chembl_id': 'CHEMBL213543', 'parent...</td>\n",
              "      <td>{'alogp': '2.60', 'aromatic_rings': 1, 'cx_log...</td>\n",
              "      <td>{'canonical_smiles': 'CCOC(=O)/C=C/[C@H](C[C@@...</td>\n",
              "      <td>Small molecule</td>\n",
              "      <td>-1</td>\n",
              "      <td>False</td>\n",
              "      <td>False</td>\n",
              "      <td>False</td>\n",
              "      <td>None</td>\n",
              "      <td>-1</td>\n",
              "      <td>70.7865178585052490234375</td>\n",
              "      <td>MOL</td>\n",
              "      <td>False</td>\n",
              "      <td>False</td>\n",
              "      <td>None</td>\n",
              "      <td>None</td>\n",
              "      <td>None</td>\n",
              "      <td>NaN</td>\n",
              "      <td>None</td>\n",
              "      <td>None</td>\n",
              "      <td>False</td>\n",
              "      <td>None</td>\n",
              "      <td>None</td>\n",
              "    </tr>\n",
              "    <tr>\n",
              "      <th>4</th>\n",
              "      <td>[]</td>\n",
              "      <td>-1</td>\n",
              "      <td>None</td>\n",
              "      <td>0</td>\n",
              "      <td>None</td>\n",
              "      <td>-1</td>\n",
              "      <td>[]</td>\n",
              "      <td>False</td>\n",
              "      <td>None</td>\n",
              "      <td>-1</td>\n",
              "      <td>None</td>\n",
              "      <td>None</td>\n",
              "      <td>-1</td>\n",
              "      <td>0</td>\n",
              "      <td>CHEMBL3813895</td>\n",
              "      <td>{'molecule_chembl_id': 'CHEMBL3813895', 'paren...</td>\n",
              "      <td>{'alogp': '4.01', 'aromatic_rings': 3, 'cx_log...</td>\n",
              "      <td>{'canonical_smiles': 'Cc1cc(C(=O)N[C@H](C(=O)C...</td>\n",
              "      <td>Small molecule</td>\n",
              "      <td>-1</td>\n",
              "      <td>False</td>\n",
              "      <td>False</td>\n",
              "      <td>False</td>\n",
              "      <td>None</td>\n",
              "      <td>-1</td>\n",
              "      <td>68.68686676025390625</td>\n",
              "      <td>MOL</td>\n",
              "      <td>False</td>\n",
              "      <td>False</td>\n",
              "      <td>None</td>\n",
              "      <td>None</td>\n",
              "      <td>None</td>\n",
              "      <td>NaN</td>\n",
              "      <td>None</td>\n",
              "      <td>None</td>\n",
              "      <td>False</td>\n",
              "      <td>None</td>\n",
              "      <td>None</td>\n",
              "    </tr>\n",
              "    <tr>\n",
              "      <th>...</th>\n",
              "      <td>...</td>\n",
              "      <td>...</td>\n",
              "      <td>...</td>\n",
              "      <td>...</td>\n",
              "      <td>...</td>\n",
              "      <td>...</td>\n",
              "      <td>...</td>\n",
              "      <td>...</td>\n",
              "      <td>...</td>\n",
              "      <td>...</td>\n",
              "      <td>...</td>\n",
              "      <td>...</td>\n",
              "      <td>...</td>\n",
              "      <td>...</td>\n",
              "      <td>...</td>\n",
              "      <td>...</td>\n",
              "      <td>...</td>\n",
              "      <td>...</td>\n",
              "      <td>...</td>\n",
              "      <td>...</td>\n",
              "      <td>...</td>\n",
              "      <td>...</td>\n",
              "      <td>...</td>\n",
              "      <td>...</td>\n",
              "      <td>...</td>\n",
              "      <td>...</td>\n",
              "      <td>...</td>\n",
              "      <td>...</td>\n",
              "      <td>...</td>\n",
              "      <td>...</td>\n",
              "      <td>...</td>\n",
              "      <td>...</td>\n",
              "      <td>...</td>\n",
              "      <td>...</td>\n",
              "      <td>...</td>\n",
              "      <td>...</td>\n",
              "      <td>...</td>\n",
              "      <td>...</td>\n",
              "    </tr>\n",
              "    <tr>\n",
              "      <th>59</th>\n",
              "      <td>[]</td>\n",
              "      <td>-1</td>\n",
              "      <td>None</td>\n",
              "      <td>0</td>\n",
              "      <td>None</td>\n",
              "      <td>-1</td>\n",
              "      <td>[]</td>\n",
              "      <td>False</td>\n",
              "      <td>None</td>\n",
              "      <td>-1</td>\n",
              "      <td>None</td>\n",
              "      <td>None</td>\n",
              "      <td>-1</td>\n",
              "      <td>0</td>\n",
              "      <td>CHEMBL3814192</td>\n",
              "      <td>{'molecule_chembl_id': 'CHEMBL3814192', 'paren...</td>\n",
              "      <td>{'alogp': '2.88', 'aromatic_rings': 2, 'cx_log...</td>\n",
              "      <td>{'canonical_smiles': 'Cc1cc(C(=O)N[C@H](C(=O)C...</td>\n",
              "      <td>Small molecule</td>\n",
              "      <td>-1</td>\n",
              "      <td>False</td>\n",
              "      <td>False</td>\n",
              "      <td>False</td>\n",
              "      <td>None</td>\n",
              "      <td>-1</td>\n",
              "      <td>50.45871734619140625</td>\n",
              "      <td>MOL</td>\n",
              "      <td>False</td>\n",
              "      <td>False</td>\n",
              "      <td>None</td>\n",
              "      <td>None</td>\n",
              "      <td>None</td>\n",
              "      <td>NaN</td>\n",
              "      <td>None</td>\n",
              "      <td>None</td>\n",
              "      <td>False</td>\n",
              "      <td>None</td>\n",
              "      <td>None</td>\n",
              "    </tr>\n",
              "    <tr>\n",
              "      <th>60</th>\n",
              "      <td>[]</td>\n",
              "      <td>-1</td>\n",
              "      <td>None</td>\n",
              "      <td>0</td>\n",
              "      <td>None</td>\n",
              "      <td>-1</td>\n",
              "      <td>[]</td>\n",
              "      <td>False</td>\n",
              "      <td>None</td>\n",
              "      <td>-1</td>\n",
              "      <td>None</td>\n",
              "      <td>None</td>\n",
              "      <td>-1</td>\n",
              "      <td>0</td>\n",
              "      <td>CHEMBL4126005</td>\n",
              "      <td>{'molecule_chembl_id': 'CHEMBL4126005', 'paren...</td>\n",
              "      <td>{'alogp': '3.97', 'aromatic_rings': 3, 'cx_log...</td>\n",
              "      <td>{'canonical_smiles': 'CC(C)C[C@H](NC(=O)[C@H](...</td>\n",
              "      <td>Small molecule</td>\n",
              "      <td>-1</td>\n",
              "      <td>False</td>\n",
              "      <td>False</td>\n",
              "      <td>False</td>\n",
              "      <td>None</td>\n",
              "      <td>-1</td>\n",
              "      <td>50</td>\n",
              "      <td>MOL</td>\n",
              "      <td>False</td>\n",
              "      <td>False</td>\n",
              "      <td>None</td>\n",
              "      <td>None</td>\n",
              "      <td>None</td>\n",
              "      <td>NaN</td>\n",
              "      <td>None</td>\n",
              "      <td>None</td>\n",
              "      <td>False</td>\n",
              "      <td>None</td>\n",
              "      <td>None</td>\n",
              "    </tr>\n",
              "    <tr>\n",
              "      <th>61</th>\n",
              "      <td>[]</td>\n",
              "      <td>-1</td>\n",
              "      <td>None</td>\n",
              "      <td>0</td>\n",
              "      <td>None</td>\n",
              "      <td>-1</td>\n",
              "      <td>[]</td>\n",
              "      <td>False</td>\n",
              "      <td>None</td>\n",
              "      <td>-1</td>\n",
              "      <td>None</td>\n",
              "      <td>None</td>\n",
              "      <td>-1</td>\n",
              "      <td>0</td>\n",
              "      <td>CHEMBL141157</td>\n",
              "      <td>{'molecule_chembl_id': 'CHEMBL141157', 'parent...</td>\n",
              "      <td>{'alogp': '1.09', 'aromatic_rings': 2, 'cx_log...</td>\n",
              "      <td>{'canonical_smiles': 'C#CC[C@@H](C(=O)N[C@H](/...</td>\n",
              "      <td>Small molecule</td>\n",
              "      <td>-1</td>\n",
              "      <td>False</td>\n",
              "      <td>False</td>\n",
              "      <td>False</td>\n",
              "      <td>None</td>\n",
              "      <td>-1</td>\n",
              "      <td>50</td>\n",
              "      <td>MOL</td>\n",
              "      <td>False</td>\n",
              "      <td>False</td>\n",
              "      <td>None</td>\n",
              "      <td>None</td>\n",
              "      <td>None</td>\n",
              "      <td>NaN</td>\n",
              "      <td>None</td>\n",
              "      <td>None</td>\n",
              "      <td>False</td>\n",
              "      <td>None</td>\n",
              "      <td>None</td>\n",
              "    </tr>\n",
              "    <tr>\n",
              "      <th>62</th>\n",
              "      <td>[]</td>\n",
              "      <td>-1</td>\n",
              "      <td>{'biocomponents': [], 'description': None, 'he...</td>\n",
              "      <td>0</td>\n",
              "      <td>None</td>\n",
              "      <td>-1</td>\n",
              "      <td>[]</td>\n",
              "      <td>False</td>\n",
              "      <td>None</td>\n",
              "      <td>-1</td>\n",
              "      <td>PEPTIDE1{[X2760].L.[X2314]}$$$$</td>\n",
              "      <td>None</td>\n",
              "      <td>-1</td>\n",
              "      <td>0</td>\n",
              "      <td>CHEMBL2441742</td>\n",
              "      <td>{'molecule_chembl_id': 'CHEMBL2441742', 'paren...</td>\n",
              "      <td>{'alogp': '3.42', 'aromatic_rings': 3, 'cx_log...</td>\n",
              "      <td>{'canonical_smiles': 'CC(C)C[C@H](NC(=O)[C@@H]...</td>\n",
              "      <td>Protein</td>\n",
              "      <td>-1</td>\n",
              "      <td>False</td>\n",
              "      <td>False</td>\n",
              "      <td>False</td>\n",
              "      <td>None</td>\n",
              "      <td>-1</td>\n",
              "      <td>50</td>\n",
              "      <td>BOTH</td>\n",
              "      <td>False</td>\n",
              "      <td>False</td>\n",
              "      <td>None</td>\n",
              "      <td>None</td>\n",
              "      <td>None</td>\n",
              "      <td>NaN</td>\n",
              "      <td>None</td>\n",
              "      <td>None</td>\n",
              "      <td>False</td>\n",
              "      <td>None</td>\n",
              "      <td>None</td>\n",
              "    </tr>\n",
              "    <tr>\n",
              "      <th>63</th>\n",
              "      <td>[]</td>\n",
              "      <td>-1</td>\n",
              "      <td>{'biocomponents': [], 'description': None, 'he...</td>\n",
              "      <td>0</td>\n",
              "      <td>None</td>\n",
              "      <td>-1</td>\n",
              "      <td>[]</td>\n",
              "      <td>False</td>\n",
              "      <td>None</td>\n",
              "      <td>-1</td>\n",
              "      <td>PEPTIDE1{[X2315].L.[X2314]}$$$$</td>\n",
              "      <td>None</td>\n",
              "      <td>-1</td>\n",
              "      <td>0</td>\n",
              "      <td>CHEMBL2441741</td>\n",
              "      <td>{'molecule_chembl_id': 'CHEMBL2441741', 'paren...</td>\n",
              "      <td>{'alogp': '3.42', 'aromatic_rings': 3, 'cx_log...</td>\n",
              "      <td>{'canonical_smiles': 'CC(C)C[C@H](NC(=O)[C@H](...</td>\n",
              "      <td>Protein</td>\n",
              "      <td>-1</td>\n",
              "      <td>False</td>\n",
              "      <td>False</td>\n",
              "      <td>False</td>\n",
              "      <td>None</td>\n",
              "      <td>-1</td>\n",
              "      <td>50</td>\n",
              "      <td>BOTH</td>\n",
              "      <td>False</td>\n",
              "      <td>False</td>\n",
              "      <td>None</td>\n",
              "      <td>None</td>\n",
              "      <td>None</td>\n",
              "      <td>NaN</td>\n",
              "      <td>None</td>\n",
              "      <td>None</td>\n",
              "      <td>False</td>\n",
              "      <td>None</td>\n",
              "      <td>None</td>\n",
              "    </tr>\n",
              "  </tbody>\n",
              "</table>\n",
              "<p>64 rows × 38 columns</p>\n",
              "</div>"
            ],
            "text/plain": [
              "   atc_classifications  availability_type  ... withdrawn_reason  withdrawn_year\n",
              "0                   []                 -1  ...             None            None\n",
              "1                   []                 -1  ...             None            None\n",
              "2                   []                 -1  ...             None            None\n",
              "3                   []                 -1  ...             None            None\n",
              "4                   []                 -1  ...             None            None\n",
              "..                 ...                ...  ...              ...             ...\n",
              "59                  []                 -1  ...             None            None\n",
              "60                  []                 -1  ...             None            None\n",
              "61                  []                 -1  ...             None            None\n",
              "62                  []                 -1  ...             None            None\n",
              "63                  []                 -1  ...             None            None\n",
              "\n",
              "[64 rows x 38 columns]"
            ]
          },
          "metadata": {
            "tags": []
          },
          "execution_count": 30
        }
      ]
    },
    {
      "cell_type": "code",
      "metadata": {
        "id": "uDESKFDR1niP",
        "colab_type": "code",
        "outputId": "0d824479-39e8-4d01-e2cc-f460b1c8f521",
        "colab": {
          "base_uri": "https://localhost:8080/",
          "height": 34
        }
      },
      "source": [
        "len(df_res)"
      ],
      "execution_count": 31,
      "outputs": [
        {
          "output_type": "execute_result",
          "data": {
            "text/plain": [
              "64"
            ]
          },
          "metadata": {
            "tags": []
          },
          "execution_count": 31
        }
      ]
    },
    {
      "cell_type": "markdown",
      "metadata": {
        "id": "QVbPpV338Q1I",
        "colab_type": "text"
      },
      "source": [
        "### Compound data"
      ]
    },
    {
      "cell_type": "code",
      "metadata": {
        "id": "lXlCWBbP10j9",
        "colab_type": "code",
        "colab": {}
      },
      "source": [
        "compounds = new_client.molecule\n",
        "cmpd_id_list = list(df_res['molecule_chembl_id'])\n",
        "compound_list = compounds.filter(molecule_chembl_id__in = cmpd_id_list) \\\n",
        "                         .only('molecule_chembl_id','molecule_structures')"
      ],
      "execution_count": 0,
      "outputs": []
    },
    {
      "cell_type": "markdown",
      "metadata": {
        "id": "7MZ5zUiopvwR",
        "colab_type": "text"
      },
      "source": [
        "Change to DataFrame"
      ]
    },
    {
      "cell_type": "code",
      "metadata": {
        "id": "E5fsPViV8byx",
        "colab_type": "code",
        "outputId": "05505e59-d675-4beb-a25b-3001374ce817",
        "colab": {
          "base_uri": "https://localhost:8080/",
          "height": 34
        }
      },
      "source": [
        "compound_df = pd.DataFrame.from_records(compound_list)\n",
        "compound_df = compound_df.drop_duplicates('molecule_chembl_id', keep = 'first')\n",
        "print(compound_df.shape)"
      ],
      "execution_count": 33,
      "outputs": [
        {
          "output_type": "stream",
          "text": [
            "(64, 2)\n"
          ],
          "name": "stdout"
        }
      ]
    },
    {
      "cell_type": "code",
      "metadata": {
        "id": "tUfv77c982HK",
        "colab_type": "code",
        "outputId": "7bcb6c81-21b9-42f6-dc1d-d8f0009fd279",
        "colab": {
          "base_uri": "https://localhost:8080/",
          "height": 419
        }
      },
      "source": [
        "compound_df"
      ],
      "execution_count": 34,
      "outputs": [
        {
          "output_type": "execute_result",
          "data": {
            "text/html": [
              "<div>\n",
              "<style scoped>\n",
              "    .dataframe tbody tr th:only-of-type {\n",
              "        vertical-align: middle;\n",
              "    }\n",
              "\n",
              "    .dataframe tbody tr th {\n",
              "        vertical-align: top;\n",
              "    }\n",
              "\n",
              "    .dataframe thead th {\n",
              "        text-align: right;\n",
              "    }\n",
              "</style>\n",
              "<table border=\"1\" class=\"dataframe\">\n",
              "  <thead>\n",
              "    <tr style=\"text-align: right;\">\n",
              "      <th></th>\n",
              "      <th>molecule_chembl_id</th>\n",
              "      <th>molecule_structures</th>\n",
              "    </tr>\n",
              "  </thead>\n",
              "  <tbody>\n",
              "    <tr>\n",
              "      <th>0</th>\n",
              "      <td>CHEMBL20260</td>\n",
              "      <td>{'canonical_smiles': 'CCOC(=O)/C=C/[C@H](C[C@@...</td>\n",
              "    </tr>\n",
              "    <tr>\n",
              "      <th>2</th>\n",
              "      <td>CHEMBL20636</td>\n",
              "      <td>{'canonical_smiles': 'CCOC(=O)/C=C/[C@H](C[C@@...</td>\n",
              "    </tr>\n",
              "    <tr>\n",
              "      <th>3</th>\n",
              "      <td>CHEMBL277716</td>\n",
              "      <td>{'canonical_smiles': 'CCOC(=O)/C=C/[C@H](C[C@@...</td>\n",
              "    </tr>\n",
              "    <tr>\n",
              "      <th>4</th>\n",
              "      <td>CHEMBL280938</td>\n",
              "      <td>{'canonical_smiles': 'CCOC(=O)/C=C/[C@H](C[C@@...</td>\n",
              "    </tr>\n",
              "    <tr>\n",
              "      <th>5</th>\n",
              "      <td>CHEMBL21082</td>\n",
              "      <td>{'canonical_smiles': 'CCOC(=O)/C=C/[C@H](C[C@@...</td>\n",
              "    </tr>\n",
              "    <tr>\n",
              "      <th>...</th>\n",
              "      <td>...</td>\n",
              "      <td>...</td>\n",
              "    </tr>\n",
              "    <tr>\n",
              "      <th>60</th>\n",
              "      <td>CHEMBL3814175</td>\n",
              "      <td>{'canonical_smiles': 'CCOC(=O)/C=C/[C@H](C[C@@...</td>\n",
              "    </tr>\n",
              "    <tr>\n",
              "      <th>61</th>\n",
              "      <td>CHEMBL3885455</td>\n",
              "      <td>{'canonical_smiles': 'Cc1cc(C(=O)N[C@@H](Cc2cc...</td>\n",
              "    </tr>\n",
              "    <tr>\n",
              "      <th>62</th>\n",
              "      <td>CHEMBL4095387</td>\n",
              "      <td>{'canonical_smiles': 'CCOC(=O)/C=C/C(C[C@@H]1C...</td>\n",
              "    </tr>\n",
              "    <tr>\n",
              "      <th>63</th>\n",
              "      <td>CHEMBL4126005</td>\n",
              "      <td>{'canonical_smiles': 'CC(C)C[C@H](NC(=O)[C@H](...</td>\n",
              "    </tr>\n",
              "    <tr>\n",
              "      <th>64</th>\n",
              "      <td>CHEMBL4130313</td>\n",
              "      <td>{'canonical_smiles': 'CCOC(=O)/C=C/[C@H](C[C@@...</td>\n",
              "    </tr>\n",
              "  </tbody>\n",
              "</table>\n",
              "<p>64 rows × 2 columns</p>\n",
              "</div>"
            ],
            "text/plain": [
              "   molecule_chembl_id                                molecule_structures\n",
              "0         CHEMBL20260  {'canonical_smiles': 'CCOC(=O)/C=C/[C@H](C[C@@...\n",
              "2         CHEMBL20636  {'canonical_smiles': 'CCOC(=O)/C=C/[C@H](C[C@@...\n",
              "3        CHEMBL277716  {'canonical_smiles': 'CCOC(=O)/C=C/[C@H](C[C@@...\n",
              "4        CHEMBL280938  {'canonical_smiles': 'CCOC(=O)/C=C/[C@H](C[C@@...\n",
              "5         CHEMBL21082  {'canonical_smiles': 'CCOC(=O)/C=C/[C@H](C[C@@...\n",
              "..                ...                                                ...\n",
              "60      CHEMBL3814175  {'canonical_smiles': 'CCOC(=O)/C=C/[C@H](C[C@@...\n",
              "61      CHEMBL3885455  {'canonical_smiles': 'Cc1cc(C(=O)N[C@@H](Cc2cc...\n",
              "62      CHEMBL4095387  {'canonical_smiles': 'CCOC(=O)/C=C/C(C[C@@H]1C...\n",
              "63      CHEMBL4126005  {'canonical_smiles': 'CC(C)C[C@H](NC(=O)[C@H](...\n",
              "64      CHEMBL4130313  {'canonical_smiles': 'CCOC(=O)/C=C/[C@H](C[C@@...\n",
              "\n",
              "[64 rows x 2 columns]"
            ]
          },
          "metadata": {
            "tags": []
          },
          "execution_count": 34
        }
      ]
    },
    {
      "cell_type": "code",
      "metadata": {
        "id": "piQ_85DD84WM",
        "colab_type": "code",
        "outputId": "9b3118cf-e3d4-4a54-ef7e-ef444e498dcd",
        "colab": {
          "base_uri": "https://localhost:8080/",
          "height": 34
        }
      },
      "source": [
        "for i, cmpd in compound_df.iterrows():\n",
        "    if compound_df.loc[i]['molecule_structures'] != None:\n",
        "        compound_df.loc[i]['molecule_structures'] = cmpd['molecule_structures']['canonical_smiles']\n",
        "\n",
        "print (compound_df.shape)"
      ],
      "execution_count": 35,
      "outputs": [
        {
          "output_type": "stream",
          "text": [
            "(64, 2)\n"
          ],
          "name": "stdout"
        }
      ]
    },
    {
      "cell_type": "code",
      "metadata": {
        "id": "1cw1ztdM9ScL",
        "colab_type": "code",
        "outputId": "497af9a0-e473-4eb0-ac2d-b9d9a1b7a345",
        "colab": {
          "base_uri": "https://localhost:8080/",
          "height": 204
        }
      },
      "source": [
        "compound_df.head()"
      ],
      "execution_count": 36,
      "outputs": [
        {
          "output_type": "execute_result",
          "data": {
            "text/html": [
              "<div>\n",
              "<style scoped>\n",
              "    .dataframe tbody tr th:only-of-type {\n",
              "        vertical-align: middle;\n",
              "    }\n",
              "\n",
              "    .dataframe tbody tr th {\n",
              "        vertical-align: top;\n",
              "    }\n",
              "\n",
              "    .dataframe thead th {\n",
              "        text-align: right;\n",
              "    }\n",
              "</style>\n",
              "<table border=\"1\" class=\"dataframe\">\n",
              "  <thead>\n",
              "    <tr style=\"text-align: right;\">\n",
              "      <th></th>\n",
              "      <th>molecule_chembl_id</th>\n",
              "      <th>molecule_structures</th>\n",
              "    </tr>\n",
              "  </thead>\n",
              "  <tbody>\n",
              "    <tr>\n",
              "      <th>0</th>\n",
              "      <td>CHEMBL20260</td>\n",
              "      <td>CCOC(=O)/C=C/[C@H](C[C@@H]1CCCNC1=O)NC(=O)[C@H...</td>\n",
              "    </tr>\n",
              "    <tr>\n",
              "      <th>2</th>\n",
              "      <td>CHEMBL20636</td>\n",
              "      <td>CCOC(=O)/C=C/[C@H](C[C@@H]1CCNC1=O)NC(=O)[C@H]...</td>\n",
              "    </tr>\n",
              "    <tr>\n",
              "      <th>3</th>\n",
              "      <td>CHEMBL277716</td>\n",
              "      <td>CCOC(=O)/C=C/[C@H](C[C@@H]1CCNC1=O)NC(=O)[C@H]...</td>\n",
              "    </tr>\n",
              "    <tr>\n",
              "      <th>4</th>\n",
              "      <td>CHEMBL280938</td>\n",
              "      <td>CCOC(=O)/C=C/[C@H](C[C@@H]1CCNC1=O)NC(=O)[C@H]...</td>\n",
              "    </tr>\n",
              "    <tr>\n",
              "      <th>5</th>\n",
              "      <td>CHEMBL21082</td>\n",
              "      <td>CCOC(=O)/C=C/[C@H](C[C@@H]1CCNC1=O)NC(=O)[C@H]...</td>\n",
              "    </tr>\n",
              "  </tbody>\n",
              "</table>\n",
              "</div>"
            ],
            "text/plain": [
              "  molecule_chembl_id                                molecule_structures\n",
              "0        CHEMBL20260  CCOC(=O)/C=C/[C@H](C[C@@H]1CCCNC1=O)NC(=O)[C@H...\n",
              "2        CHEMBL20636  CCOC(=O)/C=C/[C@H](C[C@@H]1CCNC1=O)NC(=O)[C@H]...\n",
              "3       CHEMBL277716  CCOC(=O)/C=C/[C@H](C[C@@H]1CCNC1=O)NC(=O)[C@H]...\n",
              "4       CHEMBL280938  CCOC(=O)/C=C/[C@H](C[C@@H]1CCNC1=O)NC(=O)[C@H]...\n",
              "5        CHEMBL21082  CCOC(=O)/C=C/[C@H](C[C@@H]1CCNC1=O)NC(=O)[C@H]..."
            ]
          },
          "metadata": {
            "tags": []
          },
          "execution_count": 36
        }
      ]
    },
    {
      "cell_type": "markdown",
      "metadata": {
        "id": "2xBdt_Ij9A1w",
        "colab_type": "text"
      },
      "source": [
        "### Prepare output data"
      ]
    },
    {
      "cell_type": "code",
      "metadata": {
        "id": "VbpEYS6g9ecO",
        "colab_type": "code",
        "outputId": "eb66f55b-a069-4135-f55a-72909200e65e",
        "colab": {
          "base_uri": "https://localhost:8080/",
          "height": 221
        }
      },
      "source": [
        "output_df = compound_df.rename(columns= {'molecule_structures':'smiles'})\n",
        "output_df.shape\n",
        "output_df.head()"
      ],
      "execution_count": 37,
      "outputs": [
        {
          "output_type": "execute_result",
          "data": {
            "text/plain": [
              "(64, 2)"
            ]
          },
          "metadata": {
            "tags": []
          },
          "execution_count": 37
        },
        {
          "output_type": "execute_result",
          "data": {
            "text/html": [
              "<div>\n",
              "<style scoped>\n",
              "    .dataframe tbody tr th:only-of-type {\n",
              "        vertical-align: middle;\n",
              "    }\n",
              "\n",
              "    .dataframe tbody tr th {\n",
              "        vertical-align: top;\n",
              "    }\n",
              "\n",
              "    .dataframe thead th {\n",
              "        text-align: right;\n",
              "    }\n",
              "</style>\n",
              "<table border=\"1\" class=\"dataframe\">\n",
              "  <thead>\n",
              "    <tr style=\"text-align: right;\">\n",
              "      <th></th>\n",
              "      <th>molecule_chembl_id</th>\n",
              "      <th>smiles</th>\n",
              "    </tr>\n",
              "  </thead>\n",
              "  <tbody>\n",
              "    <tr>\n",
              "      <th>0</th>\n",
              "      <td>CHEMBL20260</td>\n",
              "      <td>CCOC(=O)/C=C/[C@H](C[C@@H]1CCCNC1=O)NC(=O)[C@H...</td>\n",
              "    </tr>\n",
              "    <tr>\n",
              "      <th>2</th>\n",
              "      <td>CHEMBL20636</td>\n",
              "      <td>CCOC(=O)/C=C/[C@H](C[C@@H]1CCNC1=O)NC(=O)[C@H]...</td>\n",
              "    </tr>\n",
              "    <tr>\n",
              "      <th>3</th>\n",
              "      <td>CHEMBL277716</td>\n",
              "      <td>CCOC(=O)/C=C/[C@H](C[C@@H]1CCNC1=O)NC(=O)[C@H]...</td>\n",
              "    </tr>\n",
              "    <tr>\n",
              "      <th>4</th>\n",
              "      <td>CHEMBL280938</td>\n",
              "      <td>CCOC(=O)/C=C/[C@H](C[C@@H]1CCNC1=O)NC(=O)[C@H]...</td>\n",
              "    </tr>\n",
              "    <tr>\n",
              "      <th>5</th>\n",
              "      <td>CHEMBL21082</td>\n",
              "      <td>CCOC(=O)/C=C/[C@H](C[C@@H]1CCNC1=O)NC(=O)[C@H]...</td>\n",
              "    </tr>\n",
              "  </tbody>\n",
              "</table>\n",
              "</div>"
            ],
            "text/plain": [
              "  molecule_chembl_id                                             smiles\n",
              "0        CHEMBL20260  CCOC(=O)/C=C/[C@H](C[C@@H]1CCCNC1=O)NC(=O)[C@H...\n",
              "2        CHEMBL20636  CCOC(=O)/C=C/[C@H](C[C@@H]1CCNC1=O)NC(=O)[C@H]...\n",
              "3       CHEMBL277716  CCOC(=O)/C=C/[C@H](C[C@@H]1CCNC1=O)NC(=O)[C@H]...\n",
              "4       CHEMBL280938  CCOC(=O)/C=C/[C@H](C[C@@H]1CCNC1=O)NC(=O)[C@H]...\n",
              "5        CHEMBL21082  CCOC(=O)/C=C/[C@H](C[C@@H]1CCNC1=O)NC(=O)[C@H]..."
            ]
          },
          "metadata": {
            "tags": []
          },
          "execution_count": 37
        }
      ]
    },
    {
      "cell_type": "code",
      "metadata": {
        "id": "E4eKa_be9iiZ",
        "colab_type": "code",
        "colab": {}
      },
      "source": [
        "PandasTools.AddMoleculeColumnToFrame(output_df, smilesCol='smiles')"
      ],
      "execution_count": 0,
      "outputs": []
    },
    {
      "cell_type": "code",
      "metadata": {
        "id": "fJ_I6klr97V_",
        "colab_type": "code",
        "outputId": "2218188e-0bc0-4be6-f7c2-c0122d2d9872",
        "colab": {
          "base_uri": "https://localhost:8080/",
          "height": 1000
        }
      },
      "source": [
        "output_df"
      ],
      "execution_count": 39,
      "outputs": [
        {
          "output_type": "execute_result",
          "data": {
            "text/html": [
              "<div>\n",
              "<style scoped>\n",
              "    .dataframe tbody tr th:only-of-type {\n",
              "        vertical-align: middle;\n",
              "    }\n",
              "\n",
              "    .dataframe tbody tr th {\n",
              "        vertical-align: top;\n",
              "    }\n",
              "\n",
              "    .dataframe thead th {\n",
              "        text-align: right;\n",
              "    }\n",
              "</style>\n",
              "<table border=\"1\" class=\"dataframe\">\n",
              "  <thead>\n",
              "    <tr style=\"text-align: right;\">\n",
              "      <th></th>\n",
              "      <th>molecule_chembl_id</th>\n",
              "      <th>smiles</th>\n",
              "      <th>ROMol</th>\n",
              "    </tr>\n",
              "  </thead>\n",
              "  <tbody>\n",
              "    <tr>\n",
              "      <th>0</th>\n",
              "      <td>CHEMBL20260</td>\n",
              "      <td>CCOC(=O)/C=C/[C@H](C[C@@H]1CCCNC1=O)NC(=O)[C@H...</td>\n",
              "      <td><img data-content=\"rdkit/molecule\" src=\"data:image/png;base64,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\" alt=\"Mol\"/></td>\n",
              "    </tr>\n",
              "    <tr>\n",
              "      <th>2</th>\n",
              "      <td>CHEMBL20636</td>\n",
              "      <td>CCOC(=O)/C=C/[C@H](C[C@@H]1CCNC1=O)NC(=O)[C@H]...</td>\n",
              "      <td><img data-content=\"rdkit/molecule\" src=\"data:image/png;base64,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\" alt=\"Mol\"/></td>\n",
              "    </tr>\n",
              "    <tr>\n",
              "      <th>3</th>\n",
              "      <td>CHEMBL277716</td>\n",
              "      <td>CCOC(=O)/C=C/[C@H](C[C@@H]1CCNC1=O)NC(=O)[C@H]...</td>\n",
              "      <td><img data-content=\"rdkit/molecule\" src=\"data:image/png;base64,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\" alt=\"Mol\"/></td>\n",
              "    </tr>\n",
              "    <tr>\n",
              "      <th>4</th>\n",
              "      <td>CHEMBL280938</td>\n",
              "      <td>CCOC(=O)/C=C/[C@H](C[C@@H]1CCNC1=O)NC(=O)[C@H]...</td>\n",
              "      <td><img data-content=\"rdkit/molecule\" src=\"data:image/png;base64,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\" alt=\"Mol\"/></td>\n",
              "    </tr>\n",
              "    <tr>\n",
              "      <th>5</th>\n",
              "      <td>CHEMBL21082</td>\n",
              "      <td>CCOC(=O)/C=C/[C@H](C[C@@H]1CCNC1=O)NC(=O)[C@H]...</td>\n",
              "      <td><img data-content=\"rdkit/molecule\" src=\"data:image/png;base64,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\" alt=\"Mol\"/></td>\n",
              "    </tr>\n",
              "    <tr>\n",
              "      <th>...</th>\n",
              "      <td>...</td>\n",
              "      <td>...</td>\n",
              "      <td>...</td>\n",
              "    </tr>\n",
              "    <tr>\n",
              "      <th>60</th>\n",
              "      <td>CHEMBL3814175</td>\n",
              "      <td>CCOC(=O)/C=C/[C@H](C[C@@H]1CCNC1=O)NC(=O)[C@@H...</td>\n",
              "      <td><img data-content=\"rdkit/molecule\" src=\"data:image/png;base64,iVBORw0KGgoAAAANSUhEUgAAAMgAAADICAIAAAAiOjnJAAAABmJLR0QA/wD/AP+gvaeTAAAbdElEQVR4nO2daVhTR9uAn6wkEvZNpLgEgpZWUFGLiIoIVkSsoKjgUqs2rbaitn7FnVdtX7mKVqB1Q+1bkSJEccGlKqKordTirlUElM0FFUHCDkme78exFDfMdkiQuS8ufiQzcx7CnZk5c2ZhICIQCNqGqesACG8nRCwCLRCxCLRAxCLQAhGLQAtELAItELEItEDEItACEYtAC0QsAi0QsQi0QMQi0AIRi0ALRCwCLRCxCLRAxCLQAhGLQAtELAItELEItEDEItACEYtAC0QsAi0QsQi0QMQi0AIRi0ALRCwCLRCxCLRAxCLQAhGLQAtELAItELEItEDEItACEYtAC0QsAi0QsQi0QMQi0AIRi0ALRCwCLRCxCLRAxCLQAhGLQAtELAItELEItEDEItACEYtAC0QsAi0QsQi0wNZ1APpLdnb21atXRSJRr169GAyGrsNpYxCxXqS+vj41NTUuLi49PZ3P5yOit7f3jh07zMzMdB1amwIJ/3Dz5s2vvvrKwsKC+mQEAoG/vz/lk0gkunbtmq4DbEsQsbCurk4ikfj4+DS1d87OzpGRkWVlZYiYnZ3dv39/AODz+b/88ouug20ztGuxbt26FR4ebmVlRfnE4/GCg4PT0tKaEuTn59vY2Hz77bczZsyg0ojF4oaGBh3G3FZov2JlZGQ09Qfc3Nw2b94slUpfSLNu3ToqwbRp03766SculwsAgwYNevDggU5ibkO0U7GKioosLS0NDQ1fqKJeZufOnYaGhgDQq1ev1NTULl26AICdnd3Zs2dbLdq2SDsVKz09HQAGDx6sTOKbN2++++67AGBhYZGcnDxs2DAAYLPZkZGRdMfZdmmnA6S5ubkAIBKJFi5cuHjx4sePH7eQuEePHufOnQsKCnry5MnEiRP79Okzd+5cmUy2cOHCtWvXtlbIbYz2LlZcXNzq1avfOP5pZGS0e/fulStXMhiMqKiofv36UU3kpUuX6urqWiXktoauq0zdMHr0aAD43//+BwCmpqbKZzx8+HBoaKhcLi8rKwMAIyMj+oJs07TTkXeqxmKxWAAgEomUz+jn5+fn5wcAOTk5AODk5ERPgG2e9tgUKhSK/Px8BoNRW1sLKorVBKWmo6OjloN7W2iPYhUVFdXV1dnZ2RUVFYFmYqmXtz3QHsVqciIvLw+IWPTQfsVydHTURA4iVsu0X7FEItHt27dB3X6SJrVde6A93hVSYjk4OGzdurWwsNDc3FzVEh4/fvz06VNTU1NLS0saAnwbaI9iyWQyFotVWVn58ccfq1cCaQffSHtsChcsWCCXy2fOnBkdHa1SxszMzPv37wMRSwnao1hDhw6NiIhQKBTz588PCQmprq5uOb1UKo2Li+vdu7eHh8fGjRuBiKUMuh761xmpqammpqYA0KNHjxs3brwyzR9//PHxxx/z+Xzqs7KxsYmKijp9+nS3bt0AICEhoZVjbkO0X7EQMScn5/333wcAY2PjPXv2NL1eVVUVGxtLvQUATCbT19d3+/btGzZscHFxoV5cvnz5kydPdBi8ntOuxULEysrK4OBgAGAwGOHh4XK5HBHLy8s7dOhAVVHh4eE7d+6cPHkyj8ejlLK1tV2yZElhYaGuY9dr2rtYiKhQKKKjozkcDgD4+flR9dDatWtfqKKYTKaPj49EIiFz3pWBiPWMU6dO2djYAEDnzp3j4+PFYjFVaQFAx44dw8PDb9++resY2xIMRGyFW4Q2QVFR0dixY8+fP8/hcBobG5lMpre3t1gsHjNmDFWfEZSHiPUc5eXlI0eORER7e/uoqKiuXbvqOqK2Snscx2oBROzcuTODwViyZAmxShNIjfUc+fn5vXr1srGxoSaIEtSmPT4rbIH6+npXV9fAwEBdB9LmIU3hczAYDGdnZzKTXXOIWM9RU1PT0NDQuXNnXQfS5iFiPYdUKs3Kymp6mENQGyLWczx8+HDw4MFk/z7NIZ335zAzM/P399d1FKoTGws8HvTuDba20KEDqD4nVuuQGus5Ghoa2upSwYIC2L4dunaFTZt0HQoAEesFKisrhUKhrqNQkYYGiImBqCgYMADkcti6FRQKXcdEmsJmIGKnTp3Y7Lb2mXC54OYGd+7A7dvg4AC3b8Px4zB8uHqFyWSy+Pj4TZs2PXnyRCgUOjs7v/fee0KhUCgUdu3alclUtiYiI+/PKCgoCA0N9fHxMTU1/eqrr3QdjoocPw6+vmBvD59+CsuXw9ixsHu3eiXNnz8/OjqazWbLZLIX3hIIBCKRyNHRkfrt5OTk4eHxuhsdIhYAQHJyslgslkqlAMBisdLT04cMGaLroFQBEbp3h9xcSEiATz4BRCgshE6dVC0mKSkpJCSEw+EcPXrU2tr6xo0bd56neWJDQ8PKykoi1qupr6//5ptvYmNjASAwMNDBwWHNmjU2NjaXL1/u2LGjRkXLZHDtGpw58+x+rV8/7UT8OiIjYdEiGDPmcceOe69dqxs9Ouybb1Qq4Nq1awMGDKiurt60adNnn332coKnT5/mNoPBYOzYseO1xelsJpgecOvWrV69egEAj8eLjo5GRLlcTu0E6e3tLZPJNCr966+Rw8FJkzAuDrOytBNxC5SUXB06NKh794SEBADo1q0bNc1aSarLy6nb4WnTpmklnPYrVkpKCrVKx8nJ6dKlS02vl5SUUHXVf//7X/VL37MHGQzkcFAiwdmzsbpaCxG/CWry/ooVKxwcHADg6NGjyuZUKDAw8PbAgV4ffFCtpVDbo1i1tbVhYWFUhR0UFFReXv5CgvT0dBaLRXW21LnAzZtobIwAGB2Nbm4IgPPnayHuN5GWlgYA9vb2K1euBICxY8cqm3PFCgRACwt5fr62gml3Yt26dcvV1bV58/dKFi1aBAB2dnaPHz9W7QJSKb77LgLgpEk4fToCoKMjvuQuHSgUCmoNbUJCAofDYbPZ9+7de3O2Y8eQxUImE3/7TYvB0CZWTAxu3ox792JqKurNspaMjAyBQAAA3bt3v3LlSgspZTKZt7c3APj5+SnfWVEoFJ9NmlTs7o6urhgdjQDI5+PFi9qIXSlWr14NACNGjHBzc7OwsFi8ePHJkyfv3r372gz5+WhhgQC4erV2I6FBrIYG3LMHf/wR4+Jw6lQEQDMzFIvxzBntX0tFLly4YGBg0L9//6dPn74x8d27d6nNZJTfz33VqlUAYGlhcXP/fuTzEQATEzULWTVKSkoEAgGHw6EOOmjC0NCw0t0dx43DhQtx2zY8dQofPUJE3LwZGQwMDESFQruR0CDWnDkIgIsXIyJu2YLvv48A1M+XY4q//x6VqZ5pYv369QBgYmKi5Fquw4cPM5lMNpt9RolvRVpaGovFYjKZiYmJdnZ23/TpU7dwocYhq0ZlZSV11oGXl9d33303bdq0gQMHWltbW1HVUvOfoKBnrcqPP2JFhdYj0fY4VmIiTJoEBgZw+jT07//sxYsXIT7+Qdp1+1vH5XJgscDHB6ZNg4kTtXllJQkNDd25c2ffvn1///13AwODN6anRqLNzMzMzMyMjY15PJ5AIDAyMuLxeEZGRgKBgMfjGRsb19fXR0VFVVVVrVy5Mj09/dSpUx4eHhkZGa25bgwRJ0yYsGvXrp49e2ZmZlIntVDUVlTw8/IgNxeo3zk54O8PpqZgYAC9e0PfvrREozWuXMEOHRAAt2x5+U2ZDNPScMqUZ0mGD9fmlZVHKpVSM4/DwsLemPivv/6i1uoo+YzMyMhozpw5ANCxY0elOs5aJTIyEgBMTU1zc3Nb+dIvozWx5GVlKBQiAM6c2XLKsjLctAmPHsXly/G33/DkSW2FoCxZWVkGBgbm5k6pqS3drG3evJk67svNzW3fvn1r164NCAho+ZxV6vkGh8NRpunULunp6Ww2m8FgNN/dRIdoRyy5XD7K3//wkCHo5oY1NUrmGjcOAwLwyBGthKAaW7YctrWVmZrinTuveLesDKdNW0qJMnfu3Pr6+qa35HL5pUuXoqOjx4wZ03QWa3MMDAw2bNigrTilUukXX3wRHR196NChnJyc120bUVRURJ26GBERoa1La4h2xFq2bBkAWFlZPSgqUj6XoSECYGWlVkJQmaAgBMC+fbGu7rnXs7JQKERn5ypLy04SiaSFEuRy+ZUrV2JiYoKCgqysrKjmMiAgQItBnj9/vrm1bDbb0dHRz88vLCxs69atVJq6urp+/foBgK+vr6aPobSHFsQ6cOAAk8lksVhKPkOIiMD338fkZGSxEAB19VGUlz9ruufOffaKQoE//IBcLgLgBx9gQYGyVS8iKhSKK1eusFgsLpf78OFDDWPLzMz8448/Tpw4ceHChXXr1s2ePdvX17dbt27UGS0Ubm5uVOKZM2cCQNeuXUtLSzW8rhZpaVLbxo0ba2pqqDsgPp9vZGTEZrPNzMw4HI5AIODz+Twe7+HDh1OmTFEoFFFRUcOVm1xWXAzXr0NZGcjlYGAAzT6rVsXUFJKTwdMTYmNh8GAYNgymToXUVGAwYP58iIwELpevfGkMBsPFxcXPz+/gwYPx8fELFixQO7CamppDhw7FxMRUVlYCAJfLfeedd4RCYUBAQPfu3fl8fmNjo1QqpXp7cXFxW7du5fP5KSkpr2yadUYL0lHb+ihDYGCgQqF49OiRMpvcTZyIABgX92zoVLdER2OXLpiZibW12Ls3mpjgrl3ql5aamgoATk5OCg3GG3fv3m1tbe3n5ycUCl/3LxAIBL169fL19aWGM3bs2KF+0PTQUo31+eefV1ZWVlVV1dTU1NfXS6XSxsbGioqKhoaG6urq6urqhoaGiooKhUJhb2+fkZExYcKEYcOG7dy5s2ULa2oA4FlF9c8WVDojLAxKSuDpU/jzT5BIgMOB54esVWPkyJEBAYtu3gzNyGAMHapOCcXFxYsWLQoICHBxcTl8+DAA1NfX5+XlvTDnLj8///LlywAwZsyYzp07T548Wf2gaUJDMS9evMjhcJhMpkQiMTIyAoBdb/rKT536Q58+3yQknPHwiA0MbKl33Dps24br1mlt1CMiAgEwJESdvHK5fPLkySNHjvzpp59aTlleXp6VlZWYmHj//n2V5l21GlrovC9evBgAnJycYmJiAMDS0rLl3quHhwcA/PLLLwDg4uKieQAasnYtcji4YoV2SisuRhYLuVxUowefnJzcp08fLY5W6BAtLP+KiIjo2bNnTk5OYWHh8OHDS0tLXzmxtYkaqi0EAIAOOm8LAXJyoLFRa2s833kH/PygoQHi41XLWFpa+p///GfWrFmff/65dkLRLVrR8+UGsYURIOqJCnVsrre3t1YC0ARvbwTQ5jjt/v0IgA4Oqs0YmDBhwrZt2/SzXVMDrT3SWbp0KQAIhcKmBrGkpOSVKQ8dOrRly5bk5GQAGDVqlLYCUBt7ewRALW5dK5OhSIRTp6JUqmyWhISEDRs2vE37MWttdkNjY6O7u/vFixfnzZuXnZ195MiRjz76aN++fS+nVCgUFy5cWLNmjUQi8fT0PHPmjFYCUI/aWhAIgM2G6mrQ1krViAj44APo0AHOngVrazA3hz//BJEIHB1BJIJ33nkx/YMHDw4cODB16tSmreTfArS26pfD4Wzbtq1///6xsbE7d+48d+6ck5OTXC5vGiwuLS09efLk8ePHDx48SB111LFjx99///2zzz778ccfqce9rU9BQZmzc06HDiI2W2ujiyIR5OWBiwuYm4OnJxw8CFFR/77r7v6kpsZbJBJRyz779+9fVlY2adKkt8kqAG0v/1q+fDkAdOvWrbi4GBFlMtnZs2eXLVvWr1+/5jNPunXrNmvWrAULFlDH1AwcOLD1J5lQ7N27F2hukXNz8bvv8JNP0NMTra1x8OCrzT//cePGJSUl0Xd1XaFlsRobG93c3ADAx8dnwoQJzc+Y5PP5I0aMiI6Ozs7Obkp/8eJF6sAjKysrNZfEaMb3338PAPNbZRUNxdOnlefPn09KSlq1atXIkSMBwM7OrrGxsdUCaB20PzX50qVLPB6PWrIHAEKhUCwWSyQS6Wu6sqWlpb6+vgDAZrOVmV1eX49FRf/O5fruO5w5E9V+pPHpp58CgA6HjpydnQFg3759ugqAJmhZpXP//v1NmzatX79eyanlMpksIiKCmiUXEhJSVVX1ymS5uRgejtbWOHQo7tiBMTF48iT+3/+hhQW6u2NxsTqhenl5AcCBAwfUyawN1q5dCwDUqQVvE3q0rnD//v0mJiYA4OrqmpeX1/R6fX29RLLrww8bGIxn6wBcXf9dWhwejiNHorc39umDqkwGQ0SUy+XUU15LS8uUlBTt/SkqUFpayuPxmExmQUGB5qUVFhaeOHFCH04m0yOxEPHWrVtU02BsbLx3797c3Nzw8HBra2sAcHffzeNhcDCmpb2Y68wZHD4c/fxwzBhUcrb3gwcPIiMjhUKhoaEhtdMag8FYtmyZTsYnQ0NDAWD58uUalvPzzz8bGBiYm5tzOJwpU6bk5ORoJTz10C+xELGioiIgIID6TzdtkePi4vLzzwdaWAsol2NMDHbvjlOm7Gxe272UTH7kyJGgoKCmxTN8Pn/ixInr16+nXhkxYkTrH2+ZkZEBALa2tpp04bdv307dd/ft25ca4uFwOJ988omuFlbonViIOG/ePA6HM2jQIDab3aNHjyNKP20pKamfMWPGgAED7t+//8JbTVUU5ROLxfLx8Vm9ejU1euTh4SGRSKhp4xlBQdhsj5DWgaqn9+/fr172Xbt2URsRrl69GhHv3LkjFoupV5hMZnBw8M2bN7Ua75vRR7GofYuph4kWFhaqZj99+vTYsWPz8/MRUS6Xp6WlBQcHN1VRdnZ24eHhRf90x5qPdyQlJW2ZOBEZDOTzMT5eu39Uy6xZswYA/P391ci7Z88e6q9btWpV89fz8/PDwsKotZNMJnPUqFEXW3Gxvz6KRT2ljo+PBwB3d3c1Sqirq0tMTNy/fz8lDdUuBAUFHTly5OVe1OPHj318fABgpKOjfO1aDAt7do8gFmOz9Tm0onYX/rfffqPUWbZs2SsTFBYWhoWFURUzpdf58+e1EfIb0DuxZDIZl8tlMpkbN24EgClTpqhXTnl5eVBQEJfLfaGKet1Fly9eXOvoiAAYGorr16OBQSsvqw0JCVG1C3/s2DHKmDcO8BYVFX3xxRdUYmNj40r6l0bpnVh5eXkA0KVLF2ojoZUrV6pXzrlz5wDA2dlZhRu91FQ0MUEA7NED9+zBrl1x+3b1rq4GJ0+eBAAjI6Nr167VKLE288yZM9QiemWWdFPcu3fP39+fzWbPmTNHs2DfjN5tPV1XUBDaowc6Oubm5gIAteGTGlDZe/bsqfwO0hAQAH/+CYGBkJ0N06fDsWO0bxzajCFDhohEouLi4vHjxw8bNszKysrU1NTV1dXT05P10kqms2fP+vn5VVdXz5gxIzo6WslLdOrUydPT89ChQ8psWqEheifWezdu/JqdDV5eDTdubHV1lal7whsllsrHTPToAVlZMH063LsHrq7/HiVCv2EMBmPdunU//PDDuXPnHjx4gIhXr15dtGjRoEGDvLy8bG1tO3fu7OnpyeFwzp07N2LEiKqqqunTp2/ZskWlk380/Loqj96JBbm5AACOjtyEBG5VFTg4qFuMup+gQADJyVBVBVwuMJnAYEBrndnk7+/v6elJ7Qre2NhYW1s7e/ZsqtNZX19/9+7ddevW+fj4VFZWUsMlcXFxqp4n1e7FsrSEqiqwsgITE3WL0eATZDDAyAgA4Msv1bu62piYmJg0+5Pfe++9l9MsXbr06dOnDAbj5SbyjahZkauO/p2lQ4lFdYw0+GJRNwGt8NVsfRYsWGBubp6WlnbixAmVMlZWNpib+1pbO9rZ2dEUWxN6JlZjIxQVAZMJ1dUA6otVWlpaXl5uYmJCDaa/ZZiamlJL+BctWoSqzCzPy+PeuBFvbZ2rwg2NuuiZWLW1IBbDpElQXg4sltpitVpPQlfMmzfPzs7ur7/+OnDggPK5qMagdT4VPRPL2BicnMDTE3x8oKYG5s5Vr5i3uB2k4PP51DjfkiVLFEofIteOxQL490aMywWBQL0y3voaCwDEYrGDg8P169cTExOVzNK+xfryS/j0Uw23W221ex8dwuFwIiIiAGDZsmUNDQ3KZGnfYmlMZmYmNcPprey5N2fSpEmurq4FBQVbt25VJv2wYfDhh6DukLNqvD3Hykml0qSkpI0bN1L7+/B4PAsLi927d7u7u+s6NBrZt29fYGCgra1tbm5u8/23AUAqhb//huvXobYWnjyBAQOAx3u2htbREby86A3sbRArMzMzLi5OIpFQ243Y2NiMHz/+woULZ8+eNTAwiI2NFYvFuo6RRjw8PDIzM1etWuXv7//3339fv379zp3irKxfCwqeJbC0hHXroKwMXFwgOxu8vKCkhHax9G52g/JUVFRs3ryZOnAQABgMho+Pj0QioTY5bmxsDA8Pp96aMmWKMvMF2iJ5eXnUmVMvHGVtbv6Iz0c3N5w6Fb//Hlt/2WKbFOv8+fNisbip5rexsQkPD3/lVPdff/2V2impT58++do7M01/mDFjBgD4+PjY29vb29sHBwevWLEiJSUlN7datxsotz2x7t27Rz0je6GKeh2XL1+mprpbWloeO3as1eJsBQoLC7lcLovFSkpKAgATExNlDp9qHdqeWIg4ffr011VRr6SiouKjjz4CABaLFRkZqcnOs3oFtcHd1KlTR4wYAQBLly7VdUT/0ibFUgOFQhEZGUk9Ixs9erT+fLPVpqioyMDAgMVipaSkMBgMgUDwiDopTj9oL2JRNC22njx5sq5j0ZRHS5ZE9OsXEhIyatQo+OeBtP7QvsRCxFu3bnl5eenDInSNuHcPeTxkMmt37/62f38jPauuUPvnFRJah3nzICYGxo+HhgbYt69y+XKjFSt0HdNzELHaIA8fglAItbWQkgLjxgGXC3fugK2trsN6jrfwWeHbT1QU1NRAYCAkJoJCAbNm6ZtVQMRqk9y/D0wmhIbCnj3A48HXX+s6oFdAxGqDJCZCbi4UFwMizJwJ9E9gVwPSx2qDNK125PHA0lIP20HQx+VfhDfSNMm2Z09dh/JaSI1FoAXSxyLQAhGLQAtELAItELEItEDEItACEYtAC0QsAi0QsQi0QMQi0AIRi0ALRCwCLRCxCLRAxCLQAhGLQAtELAItELEItEDEItACEYtAC0QsAi0QsQi0QMQi0AIRi0ALRCwCLRCxCLRAxCLQAhGLQAtELAItELEItEDEItACEYtAC0QsAi0QsQi0QMQi0AIRi0ALRCwCLRCxCLRAxCLQAhGLQAtELAItELEItEDEItACEYtAC0QsAi0QsQi0QMQi0AIRi0ALRCwCLfw/viSyjcIKcE0AAAAASUVORK5CYII=\" alt=\"Mol\"/></td>\n",
              "    </tr>\n",
              "    <tr>\n",
              "      <th>61</th>\n",
              "      <td>CHEMBL3885455</td>\n",
              "      <td>Cc1cc(C(=O)N[C@@H](Cc2ccccc2)C(=O)N[C@H](C=O)C...</td>\n",
              "      <td><img data-content=\"rdkit/molecule\" src=\"data:image/png;base64,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\" alt=\"Mol\"/></td>\n",
              "    </tr>\n",
              "    <tr>\n",
              "      <th>62</th>\n",
              "      <td>CHEMBL4095387</td>\n",
              "      <td>CCOC(=O)/C=C/C(C[C@@H]1CCNC1=O)NC(=O)[C@@H](CC...</td>\n",
              "      <td><img data-content=\"rdkit/molecule\" src=\"data:image/png;base64,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\" alt=\"Mol\"/></td>\n",
              "    </tr>\n",
              "    <tr>\n",
              "      <th>63</th>\n",
              "      <td>CHEMBL4126005</td>\n",
              "      <td>CC(C)C[C@H](NC(=O)[C@H](Cc1cccc2ccccc12)NC(=O)...</td>\n",
              "      <td><img data-content=\"rdkit/molecule\" src=\"data:image/png;base64,iVBORw0KGgoAAAANSUhEUgAAAMgAAADICAIAAAAiOjnJAAAABmJLR0QA/wD/AP+gvaeTAAAduUlEQVR4nO2de1RTV/bH9w0Jj8j7qRRfIIoCvrWgCOrEsVo6jmODXcuiUx+xY38LZ820k66x09ifVWPbP6LtlMbqzEL9dZjgaNWqaBRB6wMrBRQEVMAHTxGQhzwSkvP74+AdioDJTS73JpzPHyyX5O7sG77Z59xz9j6bQggBgWBtBFw7QLBPiLAIrECERWAFIiwCKxBhEViBCIvACkRYBFYgwiKwAhEWgRWIsAisQIRFYAUiLAIrEGERWIEIi8AKRFgEViDCIrACERaBFYiwCKxAhEVgBSIsAisQYRFYgQiLwApEWARWIMIisAIRFoEViLAIrECERWAFi4T1+PHjpKSkHTt2rFixorS01Fo+EewBxIjm5uaPP/7Y1dUVAFxcXPDP7du363Q6ZgYJdobZwurs7FSr1QEBAViXEokkKytLJpNRFAUAoaGh586dY8NRgm1hhrAMBoNGowkODsaSioqKyszMrK6uxr/NysqaNGkSAFAUlZiYWFdXx47DBNvAVGFptdqpU6diSU2aNEmj0RQXF0ulUldX16qqKvwanU6nVCqdnZ0BwNvbW61WG41G1jwn8JqXC+vq1atxcXFYUiNHjlSr1ffv31+/fr1QKAQAsVh87Nixnq+/d+/er3/9a/z62NjY27dvs+Y8gb8MJKzCwkKpVIol4uPjo1Qqq6qq5HI5nq2LRCKZTFZZWdnntRqNxt/fH79MLpd3dHSw4z+Bp/QrrKampoSEBABwc3NTKBS1tbVKpdLT0xPPoqRS6Z07dwY2XV9fv27dOjypnzBhQmZmprWdJ/CXfoWlUqkAYOrUqbW1tRcvXgwMDMSha9GiRTdu3DD9DS5duhQeHg4Af/rTn5qbm63hM8EG6FdYO3fuBAC5XI4Qqq2tdXNzmzVrFrOlhM7OznHjxgHAxYsXmXtKsCmE/S2cdnR00Iuf/v7+165dmzhxIh7XTKeqqsrR0dHT0xOPofiBkTAU6HdLp729HXpIYdKkSeaqCgCWLVvm5+eXl5fXU6Z2zI4dOxITEwsKCrh2hHv6FZZVpECrs5dM7ZVz584dOnTo8ePHXDvCPaZGLGbQ6sTW7D5iDZHAbAqDFLGwNbuPWEMkMJsCuxGLDlRDJGINkds0hZcIy8LPiA5UnZ2dMAS+ymQopGFxKEQIYT1RFGU0Gp2cnAQCO09YJUMhDYtDYWdnJ9bTEAlXQCJWD1iMWLSFofNxk4hFY1LE6ujoyMvLM9f0UFvEMhgMer3ewcHB0dGRa1+4x6SItX379hkzZmzcuLGlpcV0015eXlqt9uDBg0MkYg2RJRUT6VdYs2fP9vLy2rlzZ0tLi8FgEAgEe/fuDQ8PP3bsmImmnZ2dJRKJRCJ59uwZAIhEIuu4zFeGSGA2lf52p7Ozs3GO6KhRo44dO5afnx8VFYUviY+Pv3//vom73FqtNiwsbPjw4Xaf8ffw4UMACAoK4toRXjBQBmleXl4vMaWkpHh7ewOAWCxWKpV6vX6Ayy9cuEBf7uPjg/eww8LCLly4YOWb4Ad37twBgNDQUK4d4QUvyXk3GAy9xFRRUZGYmIjlMmXKlKtXr754VUFBAZ3T7Ovrq1QqOzo66Iw/AJBKpY8fP2bnjjjj22+/BYARI0aQfEZkYpVOdXV1TzFdu3bt1KlTY8eOBYD169f3fOX9+/dlMpmDgwMAuLq6yuXypqYm+rc6nU6lUg0bNgwAvLy8VCqVwWCw8g1xwa1bt/AXSSwWA0BgYGBKSgrXTnGMGXWFJ0+eHDNmDAAIBAKZTFZTU6NQKOrr6/Fv6+rq5HK5k5MTADg6Ospkstra2j7tlJaWvvbaa1im8+bNKygosMJ9cMSdO3dWrlyJR3lPT8+kpKRXX32VwUzU/jCvErqtrU2hUOB1mhEjRuDvZUtLi1KpdHd3x5qTSqVlZWUvNXX8+PGgoCAAEIlESUlJra2tDO+AIx4/ftznF8loNKakpPj4+OAAplAohuaxA0zObrh582Z0dDQ9MuIZGEVRy5cvN6uKsLGxMSkpCY+bISEh6enpDJwZfPAXyc3NbYAvUq/JQ58zUfuG4aEg9PcyLCwMAObMmcO4UOLKlSuRkZH4b/DnP/+ZmZHBAZ9bgeslAUAikeTn5w/w+oyMjAkTJtCTh57TTbuHobAw1dXV5eXlGRkZFjqh1+tVKpWTk9Py5ctzc3MttMYG+NwK/Lxi1hep5+Rh+PDhQ2dSb5GwrMvSpUsB4PDhw1w78gvy8/MnTZrk5eWFJTVt2jQGQ3ZJScnChQuxhaVLl5aXl7PgKb/gkbCWLFkCACdPnuTakV+waNEiepeCoijGD3pGo1GtVmOBLl++3LpO8hAeZd7xc68aT9Jp/Pz8mNmhKEomkxUVFf3+97//4osvrOEar+m3YHXw4ecmLj0IAsCIESPwEihjAgIC/vnPf1rslA3AI2HxM2L1FBZ96Jz9k5YGZWUQHg7x8cwM8GgoXBQcLI2O9uVxxBpCwrp7F+RyyM9nbIBHEeuznBx48ABIxOIDCAEAWFD8wiNhQXs7ABBhcUxqKuh0MHw4KJXwfOGaATwaCruFxeOhMCQkhENPBonPPoM1ayAkBAoL4fBhePSImRkK4aDHB0Qi6OoCnQ74lMR8/fp1OmGhurp6+PDh3PrDLk1N4OMDQiHU1MCIEaDTwePH4OPDwBJvIpbBAF1d4ODAK1VBj4glFovp0+3tlqwsMBggKgry8qCjAyIjmakKeDTH6uyE4GDgX+EULazg4GAGJ4TZGFlZAABxcd3/mD+fsSXeRCyxGEpLoaiIaz964+npifU0JGbuvYT1/Bh2BvBGWGlpsGsX/PCDpXbq6qzhzX8RCoW4ZZDdz9ybmpoyPTyeTp8OM2ZAdjZQFMybx9gab4RFr8jl5sL580wstLTArl0QEgJnzlhNpgDwfDSkc2bslUuXLi3IyHhDLM4uKNgcGnr5rbfA15exNd4Ii344Xb8eJBJISADTD1xsb4fPPoMxY+DDD6G1FS5etHzhmOby5ctNTU0AcO/ePQufoN97Dx4+hG++AbwHbZWd6KampvPnzzc2NlpuKisrCwDi4uK0Fy7syc//twWqAh4JKzQUlEqIiICEBBCLIS0NJk6EfftgwL9lV1eXYd8+CA0FuRwaGmDhQsjOhiVL4N49AIsWjgGgoKBg2bJlMTExTU1NQqFwz549cXFxt2/fZmwwPBzOnLHEo960t7fPmTNHIpHMnDkzNzfXQmuZmZkAEBcXRyvMInNc5+30RVkZWrIEASAAFBPTVljY56u0Wm1kZGRubCwCQBERSKNBhYVIKkUAyN8fffopOnGC2fs/eNCwZs0afJqXq6vrxx9/nJqaaknpx7NnKC8PJSejr79GX3+NtmxByclo61ZkSZmFVqvtuajm5OS0b98+xtaam5uFQqFIJGpsbBw2bBhFUf0VWZkIL4WFOX4cjRxp9PKaPHx4UlJSS0sL/Zvz58/PmjULf6Cvz56NUlNRWRlKTEQCAQJAbm5IoUDt7Qze88kTJJcjDw9jYGAUbhZE9817+vQpXfoRHBx8+vRpUwzqdEitRoGB6JVX0O7d6NYt9P776PPPEUJo2zYUEoIUCtTZaZ6TGRkZ9JptL9555522tjbzzCGEEDp58iQAREdHX758GQAiIiIYGOkJj4WFEHr69IxCgSNHcHBwenr6zz//TLcWCwwMTE5Orqys/GnbNuToiACQoyNKSkKMvmotLeiTT5C7OwJAAgF6//3iPovYcnJyZs6ciR2Ij49/9OhRfwaNRpSaikJDuyPvrFmol739+7t/NXkyMrGKh66MBQBfX98+H1SnTp2Kp4NmcfTo0YiIiJkzZ77xxhsA8N5775lroRf8FhZCCKGff/6Zjk+4nsfNzU0ul9fU1CiVSg8Pj4BhwwwBAUgqReZ/oJjSUuTv3/1nXroUDVh60136gTNLPTw8VCpVV1dXr9ecOXPm7bcvY4MTJqC0NNRn58azZ9G4cd1Sfvdd1NjYb+zCJeb06IxLzNva2nbv3v3KK6/00paHh8f3339vyo3r9fojR44sXrwYW8YrdlFRUdnZ2aZcPgA2ICyEkF6v/+KLL3Bt/pgxY6qrq/fs2UOXYcXHxz80s5x60yb04AFKTu4elT77DEVFoVdfRaYXHFVUVKxYsQI7MH369J9++gn///Xr13/1q18BgFjsHxmp27sXDXhyCmpvRwoFcnJC48fnBwUFvVjG89IS887OzpSUlF7Ri6KopKSkAWplq6qqlErl6NGj6SmaVCrdv38/bk6zdetWUz+IfrANYWEePHgQGhoaEBDg+/xJeO7cuZcuXWJg6u9/R3v3/ldYn3+Onjxh4tLx48dHjRoFAEKhcPXq1cuWLcNfei8vr127dpk+3bl9G7311nv4phYvXlxaWorMLDHX6XQpKSm4GRZNbGws3f8WYzAYtFqtVCrFZ1QBwPjx45VK5ZPn95+eni4UCimKOnToEJNP5Dm2JCyE0MaNGwFg7NixEydO1Gg0jFsDv/iAxpjW1ta1a9cKBAIcUF1cXD744IOGhgZz7RiNxv379+PafBcXl/j4ePxvs0rMsbzGjx9Pa8vf3x/3bMMzB3pjytHRUSqVarXaFz/D3bt3A4Czs/P16zfNvQsaGxPWmjVrAMDyY2qSk3/xgIZ/MiY+Ph4AtmzZgv9sWq2WsamGhgaZTEZRFJ45MSsx1+v1PeUlFApnzpxJn4waEhKya9eugY+R2rRp07x5G4KCdA8eMLwRGxMWbvqamppqFWuJiUgmM/tp/0XwpEqr1c6dOxcAmI3OPcG3uXbtWkuMdHV1HTp0aOLEiQDg7u4uEAgkEolGo3nxUeNF9HrDokXdT6zMTvvizcq7aVi3kue772DvXnBwsNSO1Q8ex9WL06ZNs8SIg4PDqlWrCgoKIiIimpubjxw5gmdXDibcsFAoOHwYwsPh5k1YuRIMBrPf3caEZcXaQ50ODAYQiawgLKsfPG7F749AIMDb5+Ymk7m7w4kT4OcHp0+DXG7++5p9BacEBGyNjtYMGzbVclMdHQBWKt2wesSybu0uPmeqoaHB3AvHjoW0NHB0BK0Wnj0z71reZJCaRnHxnBs3rJNnas3SDb0e+BqxAAA/XTIQFgDExcGJExAdDcOGmXehjUUsK1aIWTFiFba2IoBgF5cKR0d9YGCAxcKybsTC+WTMhAUAx45BY6PZ2T42FrGsqIbOzvrY2FQ/P38AqaW2nkc/QW2toKPDcv+sG7EYD4UYZtk+NhmxrPJNbmt7dPHi/5SW7rCCLax3Z2fo7ASKstw/60YsS4ZCABAIoKsLEIKnT+Gbb0ydbNmYsKwYsaz2x0OoW08IAULg5AQWF/NYt1OrhRGroQGuXYPiYvD0hHffNXWyZWND4XvvQXu72RPJPrHacNPRAQh1hyuwjurZGArr6+uZXX7tGpw4AX/4A7z/PgB0/3wpNhOxcMJ4YCAEBICTkxUSxnFUEIlEOKXdEkMAAC4uVhynebLcAABHjsCJE+DuDh99ZN6FNiMsqyeM46hQVlYWFhZ24MAB5obc3eHGDdBqwdsbTp+Gb7+1lm+cLze0tMDmzQAAu3ZBYKB519qMsJhNIfvj1q1bu3fvDgwM1Ov1NTU1a9asWbJkSVlZGRNbQiHMmAFlZbB7N3R1weuvW+QZAPwyYhUVFf3rX/+yxJq7u7tIJGpubtbpdGZd+NFHUFEBs2eDTGb+uzLZYOSCXvkIu3ah2FikUiETdlR/QUlJSUJCAt7fcHd3LykpSUlJwQleLi4uCoWCYeO77dsRQujTT5lc+wK4t6NOpzMajfi45fnz5xcVFTE2iJMia2pqTL/kxo2cefPuiUQvyaftD5sRVi9SU7sziaOiTL1z3KQEZ484OjrGxMQAgFgs3rlzZ2VlZWJiIlZbxW9/ixikJ2BJ7dhh9oV98Ze//EUsFi9YsKCoqCglJQXvSVuie9znYefOnQ9My4Pp6uqaMWMGAGzb9n8M3g7ZrrAQQkeOoKAgBICEQvTBB6i1td+kv+bm5l5NSsrLy+vr63HmEwCMHz8+IyPj/PnzB5cvRwCIotD69eh5/ymT+Pe/0c6djAvOepGZmYln3C4uLjt27KitraVdDQ0NxYl7ZvH999/TWcgjRoyQSqVqtXqA9lgqlQoARo0a1bM4yixsWFgIoWfPkFyOHBxQYGBXaOj0F5sP4CYl9BnaEonk5s1fZEWeO3cuNDQUC+7jzZtRbS1SKpGzMwJA3t5Ire67CoJ9eun+/PnzFy9enDRpEgBQFJWYmFhXV2eWQZVK9Zvf/AbrlWbUqFGrV6/ev39/z8KeqqoqDw8PADh+/Dhj/21bWJgbN9DKld/gT+rNN9+srKxEz5uU4D54MGB2vE6nUyqVTk5Ot+fNQwEBKCUFFRWhBQu6x9r4+MG9m1+QlZWFM/WwmCorK7du3Yon9f7+/mlpaeYaNBgMeXl5KpVq+fLlPr88+yooKOjtt9/+9ttvcYHdm2++aYnn9iAshFBXVxddkuXu7r5+/XrcHQkAZsyYcebMmZdaKC0uNs6f3y2mRYvQ3btIo0H+/taaNjEG6x6LydvbW61W3717F//tDx48aKHx0tJStVqdmJiI67wxbm5u7u7uFRUVlli2E2FhqqqqcDM3/DGNHj1arVablx2v0SA/PwSAnJ2RQoGqqtB33yGl0lqTJ8bcu3ePrtSNjY0tLCw8deoU41qSFzEajQUFBV999ZVUKv3yyy9v3LhhoUG7Ehbm2LFjp06dSk5OZtiBsq4OvfMOoihEUejqVeuuI1iIRqPBCwcikUgulzNcGRkU7FBYCCErNJ7MzET/+78IWXkdwXLq6+vXrVuHJ/VTpkwxpTKCE2xm5d0ssrOzLTURFwd/+xvA8/OVLDjx3Lp4e3vv27fv4sWLo0ePNhgMhw8f5tqjvrFDYRmNRrr63gokJMCHHzJuKcMSMTEx7777bkFBQU5ODte+9I0dCqujo+PcuXNce8E6eOOPb83SaOxQWCUlJffwiX52Dc6AIMIaPCiKWrFiRVdXF9eOsIt1s0ytjh0Kq6KiQqvVGhhU79oU/GzvSGOHwsrMzKyqqnps+qHLtgk/G9LS2FjOuylMmzbNz89PYNmRyfyHRKzB5ubNmzk5OS0tLVw7wi4kYg0qHR0dhw8fpijq0aNHOLvNXuF5xOKFsHQ6nVAotMrg1djYuG7dOmdn554NLO0SnkcsjodCo9GYlpYWFha2cePG+fPnFxcXW2jw2bNnRUVFubm5ddbu1sQ3eL7cwNkmtNFo/M9//oOz2ACAPsBz27ZtnUzP2CssLJwxYwZFUWPGjFEqldZ1mG9EREQAQK+EWP7AjbAuX74873nLMpw1VVdXl5SUhEfD0NBQc4/xLC8vT0xMpI9BP3jwYL1ZGes2CD5/e9GiRVlZWVz70geDLayCgoKevRWUSiWdVJSXl9crrXvgA1gxT548kcvleKrRq0mJfUP3DaAoau3atU+YnSfOGoMnLNxbAR+ASfdWoH+bmpqKxYQPtsdC8fLyUqvV/eVJtra24s4U8Lz2hkGrD9slMzPz7Nmz27dvN+WzGnwGQ1gv7a2AENq9ezf+gPz8/A4cOHD37t3FixfjbyTOxO35Yp1Op1ar6d5XEokkNzd3EG6EV0gkEpwCX1JSgo9tBoBNy5ej4mKuXUOIbWG1t7dv2bIFT8wdHBzeeeedhw8f9vfiXmndt2/f1mg0uHE8zsRtb2/HtTd0e4+oqKjMzExWb4GfNDU14QppAFi4cGFJSQnOWn4UHY1EIiSXM2t+ZkXYFdb169exCCQSSb5pBcu90rqrq6s3bNiAM3FHjx6NawABIDIy0pKqN/ug12dVW1mJNmxAFIUA0PjxZjQGYgF2hYW/VV9++aVZVzU2NtJPiOPGjTt79uyPP/4YHh7u4uIiEolGjhypVqt5m+s9yNTX169fv56iKF+xuC0uDmVkoB9/RBER3XVsUimzJnuWw66w5syZAwCXL19mcO2lS5fCw8MBICYmBiFUW1sLAG5uboxXueyYS5cu/bRyZffhAKtXo6oqpFIhV1ckFKKff+bEJXZX3ulth6lTp3p7e5eUlJh+bUxMTG5u7vbt25OTkwEAJ+65uro6WuUwbvsiJiZm5sGDoFLBsGFw4ACEhwMA5ObChg1w9iz88MPgu8SusOiN0qampsbGRnM1IRKJ/vrXv+IlZp7vuXKPSASbN0NeHixeDI2N8Mc/wiefQFAQyOWQnz/47gxSxLI8QZvne658ISQE0tPh+HEICoKEBEAIAICL1DR2sxvojVLLd0z5vufKK954AxYuhGHDoL2dq6JIdoVFByrLBzIyFJoHPlk6IYGr9x+ModDJyUmn01EUZcm8mwyFtgWLwjIajTqdTiAQ4A0sZ2dnczub9YRELNuCRWHR42BnZydYrAkSsWwLFoVl3faQJGLZFqxHLKs8EgKJWLYGi0+FtBR8fX2/+eYbU1oRv9QaiVi2AovCwhFLJBJ5enpu3LjRKtaIsGwFFodCLy+vtWvX3r17d+PGjc3NzRZaw/1InlnY6oQwaLC6xf31118LhUIAGDly5NGjR5kZKS4ulkqlFEWNGjVKKBTijD/r+kmwOqynJufn50dHR2MRx8fH379/3/RrKyoqNmzYgKUpFotnzpyJV8ImTJiQwWkWG+GlDEbOu9FoTElJwcfVi8VihULx0vOMGxoa5HI5nlEJhUKZTIbbAvz444842QEApFLpi7nzBJ4weFU61dXV+BB2AJgyZUp/Bxs/e/ZMqVTiAnmKoqRSaUlJCf6VXq/fsmVLVVWVSqVydXUFAC8vL5VKZd5J7oRBYbDrCjMyMnDPCIFAIJPJelaA6fV6tVod+LzjokQi+emnn3pe+/nnnwOAj4/PP/7xj3v37r322mv4lTExMQP0GyJwAgeV0G1tbQqFAm9IDx8+PCUlxWg0ajSa8ePHY6HMmjWrzwZXpaWlvcR0/Phx3IRCJBIlJSW1trYO/u0Q+oSzsxtu3bo1d+5crBJc44Vn5WlpaQNXXfYSU1VVVVJSEl59DQ4OPn369KDdAmEAuOxMgSf1rq6uo0eP9vPzU6vVer3elAufPn3aU0zp6elXr16dPHkyVud3333HtueEl8J9y5Pf/e53AJCSkmLuhVeuXKHFtGrVqra2NjypX7BgQVtbGxuuEkyH+6Mi8fHGHh4eV65cOXfunOnN1qOjo3NycrCY9Hq9i4vL5s2bOzo6Lly4gJe+CFzCtbIRLqtPT0+PjY0FAAYl8+Xl5fiEGVwi5uDgwIKbBPPg/ptN7y4z3mam26iSDAj+wP1QaMV8QJKzxR+4F5YV8wFJag1/4F5YpKjVLuGLsEhRq53BvbBIUatdwr2w6DBDhkJ7gnthYT0JBAKDwSASiSypuSARiz9wLCydTmc0Gh0dHfV6PZASMTuCY2HRUnBzc2toaMhndJJTYWEh/geJWPyBY2FhKQBAS0uLl5cXvYZuIoWFhQkJCZGRkdeuXQMSsfgEx8Ly8vLas2dPc3NzWFjYgQMHTL+wtLR01apVkydPTktLc3NzKy8vb21tPXr0KJCIxRO43qxEBQUFdMbf66+/Xl5ePvDrX2xH8OjRo6+++gpnC06fPr2hoWFQHCcMBPfCQs8z/nx9fQHAxcVFoVD0eTRyS0uLUql0d3eHHj1ONBrNuHHjsC5nz55NysJ4Ai+EhampqUlMTMSVg5GRkVeuXOn525ycHFxABgDLli0rLCzUarXTp0/H/xMWFqbRaPjTSYbAI2FhMjMzcctd3LOJbmrV2dkZHBwcHR2dlZWVnZ29YMECLKmgoCDTc5oJgwbvhIUQam9vVygUeBYVEBBAZy1XV1cXFRXhcnsA8Pb2ViqVJAuZn/BRWJg7d+5IJBIclubPn5+ZmSmTyehye7lc3tjYyLWPhH7hr7AQQkajcf/+/XhqhUufRSLRpk2bhkirS5uGQviMeR5TV1f3wQcfTJ069fr169u2baN7yhH4jA0Ii2CLcJ/dQLBLiLAIrECERWAFIiwCKxBhEViBCIvACkRYBFYgwiKwAhEWgRWIsAisQIRFYAUiLAIrEGERWIEIi8AKRFgEViDCIrACERaBFYiwCKxAhEVgBSIsAisQYRFYgQiLwApEWARWIMIisAIRFoEViLAIrECERWCF/wcAx88Vo709aQAAAABJRU5ErkJggg==\" alt=\"Mol\"/></td>\n",
              "    </tr>\n",
              "    <tr>\n",
              "      <th>64</th>\n",
              "      <td>CHEMBL4130313</td>\n",
              "      <td>CCOC(=O)/C=C/[C@H](C[C@@H]1CCNC1=O)NC(=O)[C@H]...</td>\n",
              "      <td><img data-content=\"rdkit/molecule\" src=\"data:image/png;base64,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\" alt=\"Mol\"/></td>\n",
              "    </tr>\n",
              "  </tbody>\n",
              "</table>\n",
              "<p>64 rows × 3 columns</p>\n",
              "</div>"
            ],
            "text/plain": [
              "   molecule_chembl_id  ...                                              ROMol\n",
              "0         CHEMBL20260  ...  <img data-content=\"rdkit/molecule\" src=\"data:i...\n",
              "2         CHEMBL20636  ...  <img data-content=\"rdkit/molecule\" src=\"data:i...\n",
              "3        CHEMBL277716  ...  <img data-content=\"rdkit/molecule\" src=\"data:i...\n",
              "4        CHEMBL280938  ...  <img data-content=\"rdkit/molecule\" src=\"data:i...\n",
              "5         CHEMBL21082  ...  <img data-content=\"rdkit/molecule\" src=\"data:i...\n",
              "..                ...  ...                                                ...\n",
              "60      CHEMBL3814175  ...  <img data-content=\"rdkit/molecule\" src=\"data:i...\n",
              "61      CHEMBL3885455  ...  <img data-content=\"rdkit/molecule\" src=\"data:i...\n",
              "62      CHEMBL4095387  ...  <img data-content=\"rdkit/molecule\" src=\"data:i...\n",
              "63      CHEMBL4126005  ...  <img data-content=\"rdkit/molecule\" src=\"data:i...\n",
              "64      CHEMBL4130313  ...  <img data-content=\"rdkit/molecule\" src=\"data:i...\n",
              "\n",
              "[64 rows x 3 columns]"
            ]
          },
          "metadata": {
            "tags": []
          },
          "execution_count": 39
        }
      ]
    },
    {
      "cell_type": "code",
      "metadata": {
        "id": "bWFc59GsHLjC",
        "colab_type": "code",
        "outputId": "44ec397a-d5a1-45da-cb11-97ed3b6159c6",
        "colab": {
          "base_uri": "https://localhost:8080/",
          "height": 34
        }
      },
      "source": [
        "drive.mount('/content/gdrive/')\n",
        "output_df.drop(\"ROMol\", axis=1).to_csv('/content/gdrive/My Drive/Colab Notebooks/vittamin/cov_compounds.csv')"
      ],
      "execution_count": 40,
      "outputs": [
        {
          "output_type": "stream",
          "text": [
            "Drive already mounted at /content/gdrive/; to attempt to forcibly remount, call drive.mount(\"/content/gdrive/\", force_remount=True).\n"
          ],
          "name": "stdout"
        }
      ]
    },
    {
      "cell_type": "code",
      "metadata": {
        "id": "3_e3wOosPGPf",
        "colab_type": "code",
        "colab": {}
      },
      "source": [
        "smi = output_df.drop(output_df.columns[[0, 2]], axis=1)"
      ],
      "execution_count": 0,
      "outputs": []
    },
    {
      "cell_type": "code",
      "metadata": {
        "id": "9UCnJywfFirs",
        "colab_type": "code",
        "outputId": "b7f9515b-97a5-49ff-9a07-f55c447aee84",
        "colab": {
          "base_uri": "https://localhost:8080/",
          "height": 419
        }
      },
      "source": [
        "smi"
      ],
      "execution_count": 42,
      "outputs": [
        {
          "output_type": "execute_result",
          "data": {
            "text/html": [
              "<div>\n",
              "<style scoped>\n",
              "    .dataframe tbody tr th:only-of-type {\n",
              "        vertical-align: middle;\n",
              "    }\n",
              "\n",
              "    .dataframe tbody tr th {\n",
              "        vertical-align: top;\n",
              "    }\n",
              "\n",
              "    .dataframe thead th {\n",
              "        text-align: right;\n",
              "    }\n",
              "</style>\n",
              "<table border=\"1\" class=\"dataframe\">\n",
              "  <thead>\n",
              "    <tr style=\"text-align: right;\">\n",
              "      <th></th>\n",
              "      <th>smiles</th>\n",
              "    </tr>\n",
              "  </thead>\n",
              "  <tbody>\n",
              "    <tr>\n",
              "      <th>0</th>\n",
              "      <td>CCOC(=O)/C=C/[C@H](C[C@@H]1CCCNC1=O)NC(=O)[C@H...</td>\n",
              "    </tr>\n",
              "    <tr>\n",
              "      <th>2</th>\n",
              "      <td>CCOC(=O)/C=C/[C@H](C[C@@H]1CCNC1=O)NC(=O)[C@H]...</td>\n",
              "    </tr>\n",
              "    <tr>\n",
              "      <th>3</th>\n",
              "      <td>CCOC(=O)/C=C/[C@H](C[C@@H]1CCNC1=O)NC(=O)[C@H]...</td>\n",
              "    </tr>\n",
              "    <tr>\n",
              "      <th>4</th>\n",
              "      <td>CCOC(=O)/C=C/[C@H](C[C@@H]1CCNC1=O)NC(=O)[C@H]...</td>\n",
              "    </tr>\n",
              "    <tr>\n",
              "      <th>5</th>\n",
              "      <td>CCOC(=O)/C=C/[C@H](C[C@@H]1CCNC1=O)NC(=O)[C@H]...</td>\n",
              "    </tr>\n",
              "    <tr>\n",
              "      <th>...</th>\n",
              "      <td>...</td>\n",
              "    </tr>\n",
              "    <tr>\n",
              "      <th>60</th>\n",
              "      <td>CCOC(=O)/C=C/[C@H](C[C@@H]1CCNC1=O)NC(=O)[C@@H...</td>\n",
              "    </tr>\n",
              "    <tr>\n",
              "      <th>61</th>\n",
              "      <td>Cc1cc(C(=O)N[C@@H](Cc2ccccc2)C(=O)N[C@H](C=O)C...</td>\n",
              "    </tr>\n",
              "    <tr>\n",
              "      <th>62</th>\n",
              "      <td>CCOC(=O)/C=C/C(C[C@@H]1CCNC1=O)NC(=O)[C@@H](CC...</td>\n",
              "    </tr>\n",
              "    <tr>\n",
              "      <th>63</th>\n",
              "      <td>CC(C)C[C@H](NC(=O)[C@H](Cc1cccc2ccccc12)NC(=O)...</td>\n",
              "    </tr>\n",
              "    <tr>\n",
              "      <th>64</th>\n",
              "      <td>CCOC(=O)/C=C/[C@H](C[C@@H]1CCNC1=O)NC(=O)[C@H]...</td>\n",
              "    </tr>\n",
              "  </tbody>\n",
              "</table>\n",
              "<p>64 rows × 1 columns</p>\n",
              "</div>"
            ],
            "text/plain": [
              "                                               smiles\n",
              "0   CCOC(=O)/C=C/[C@H](C[C@@H]1CCCNC1=O)NC(=O)[C@H...\n",
              "2   CCOC(=O)/C=C/[C@H](C[C@@H]1CCNC1=O)NC(=O)[C@H]...\n",
              "3   CCOC(=O)/C=C/[C@H](C[C@@H]1CCNC1=O)NC(=O)[C@H]...\n",
              "4   CCOC(=O)/C=C/[C@H](C[C@@H]1CCNC1=O)NC(=O)[C@H]...\n",
              "5   CCOC(=O)/C=C/[C@H](C[C@@H]1CCNC1=O)NC(=O)[C@H]...\n",
              "..                                                ...\n",
              "60  CCOC(=O)/C=C/[C@H](C[C@@H]1CCNC1=O)NC(=O)[C@@H...\n",
              "61  Cc1cc(C(=O)N[C@@H](Cc2ccccc2)C(=O)N[C@H](C=O)C...\n",
              "62  CCOC(=O)/C=C/C(C[C@@H]1CCNC1=O)NC(=O)[C@@H](CC...\n",
              "63  CC(C)C[C@H](NC(=O)[C@H](Cc1cccc2ccccc12)NC(=O)...\n",
              "64  CCOC(=O)/C=C/[C@H](C[C@@H]1CCNC1=O)NC(=O)[C@H]...\n",
              "\n",
              "[64 rows x 1 columns]"
            ]
          },
          "metadata": {
            "tags": []
          },
          "execution_count": 42
        }
      ]
    },
    {
      "cell_type": "code",
      "metadata": {
        "id": "7quBQHANKJpr",
        "colab_type": "code",
        "colab": {}
      },
      "source": [
        "smistr = ''\n",
        "for i in range(smi.values.size):\n",
        "  smistr = smistr+smi.values[i][0]+'\\n'"
      ],
      "execution_count": 0,
      "outputs": []
    },
    {
      "cell_type": "code",
      "metadata": {
        "id": "01yOTA2YmjQ1",
        "colab_type": "code",
        "outputId": "43b4f450-3cf8-42dc-de21-59516748c43f",
        "colab": {
          "base_uri": "https://localhost:8080/",
          "height": 1000
        }
      },
      "source": [
        "print(smistr)"
      ],
      "execution_count": 44,
      "outputs": [
        {
          "output_type": "stream",
          "text": [
            "CCOC(=O)/C=C/[C@H](C[C@@H]1CCCNC1=O)NC(=O)[C@H](Cc1ccc(F)cc1)NC(=O)[C@@H](NC(=O)c1cc(C)on1)C(C)C\n",
            "CCOC(=O)/C=C/[C@H](C[C@@H]1CCNC1=O)NC(=O)[C@H](Cc1ccc(F)cc1)NC(=O)[C@@H](NC(=O)c1cc(C)on1)C(C)C\n",
            "CCOC(=O)/C=C/[C@H](C[C@@H]1CCNC1=O)NC(=O)[C@H](Cc1ccccc1)NC(=O)[C@@H](NC(=O)OCc1ccccc1)C(C)C\n",
            "CCOC(=O)/C=C/[C@H](C[C@@H]1CCNC1=O)NC(=O)[C@H](Cc1ccccc1)NC(=O)[C@H](CC(C)C)NC(=O)OCc1ccccc1\n",
            "CCOC(=O)/C=C/[C@H](C[C@@H]1CCNC1=O)NC(=O)[C@H](Cc1ccc(F)cc1)NC(=O)[C@@H](NC(=O)c1cc(C)on1)C(C)(C)C\n",
            "CCOC(=O)/C=C/[C@H](C[C@@H]1CCCNC1=O)NC(=O)[C@@H](CC(=O)[C@@H](NC(=O)c1cc(C)on1)C(C)C)Cc1ccc(F)cc1\n",
            "CCOC(=O)/C=C/[C@H](C[C@H]1CCNC1=O)NC(=O)[C@H](Cc1ccccc1)NC(=O)[C@H](CC(C)C)NC(=O)OCc1ccccc1\n",
            "CCOC(=O)/C=C/[C@H](C[C@@H]1CCNC1=O)NC(=O)[C@@H](CC(=O)[C@@H](NC(=O)c1cc(C)on1)C(C)C)Cc1ccc(F)cc1\n",
            "CCOC(=O)/C=C/[C@H](C[C@@H]1CCCNC1=O)NC(=O)[C@H](Cc1ccccc1)NC(=O)[C@H](CC(C)C)NC(=O)OCc1ccccc1\n",
            "CCOC(=O)/C=C/[C@H](C[C@@H]1CCCNC1=O)NC(=O)[C@H](Cc1ccc(F)cc1)N(C)C(=O)[C@H](CC(C)C)NC(=O)c1cc(C)on1\n",
            "CCOC(=O)/C=C/[C@H](C[C@@H]1CCNC1=O)NC(=O)[C@H](Cc1ccc(F)cc1)OC(=O)[C@@H](NC(=O)c1cc(C)on1)C(C)C\n",
            "CC[C@@H](C(=O)N[C@H](/C=C/C(=O)OCc1ccccc1)C[C@@H]1CCNC1=O)n1cccc(NC(=O)c2cc(C)on2)c1=O\n",
            "CCOC(=O)/C=C/[C@H](C[C@@H]1CCNC1=O)NC(=O)[C@H](CC)n1cccc(NC(=O)c2cc(C)on2)c1=O\n",
            "C#CC[C@@H](C(=O)N[C@H](/C=C/C(=O)OCC)C[C@@H]1CCNC1=O)n1cccc(NC(=O)c2cc(C)on2)c1=O\n",
            "C#CC[C@@H](C(=O)N[C@H](/C=C/C(=O)OCc1ccccc1)C[C@@H]1CCNC1=O)n1cccc(NC(=O)c2cc(C)on2)c1=O\n",
            "CCOC(=O)/C=C/[C@H](C[C@@H]1CCNC1=O)NC(=O)[C@@H](CC(=O)[C@@H](NC(=O)c1cc(C)on1)C(C)C)Cc1ccccc1\n",
            "CCOC(=O)/C=C/[C@H](C[C@@H]1CCNC1=O)NC(=O)[C@H](CC=C(C)C)CC(=O)[C@@H](NC(=O)c1cc(C)on1)C(C)C\n",
            "CCOC(=O)/C=C/[C@H](C[C@@H]1CCNC1=O)NC(=O)[C@H](Cc1ccccc1)CC(O)[C@@H](NC(=O)c1cc(C)on1)C(C)C\n",
            "CCOC(=O)/C=C/[C@H](C[C@@H]1CCNC1=O)NC(=O)C(CC(=O)[C@@H](NC(=O)c1cc(C)on1)C(C)C)Cc1ccc(F)cc1\n",
            "CCOC(=O)/C=C/[C@H](C[C@@H]1CCNC1=O)NC(=O)[C@H](CC(C)C)NC(=O)[C@@H](NC(=O)OCc1ccccc1)C(C)C\n",
            "CCOC(=O)/C=C/[C@H](C[C@@H]1CCNC1=O)NC(=O)[C@H](CC(C)C)NC(=O)[C@@H](NC(=O)OCc1ccccc1)C(C)OC(C)(C)C\n",
            "CCOC(=O)/C=C/[C@H](C[C@@H]1CCNC1=O)NC(=O)[C@H](CC(C)C)NC(=O)[C@@H](NC(=O)[C@H](CO)NC(=O)OC(C)(C)C)C(C)C\n",
            "CCOC(=O)/C=C/[C@H](C[C@@H]1CCNC1=O)NC(=O)[C@H](Cc1ccccc1)NC(=O)[C@@H](NC(=O)[C@H](CO)NC(=O)OC(C)(C)C)C(C)C\n",
            "CCOC(=O)/C=C/[C@H](C[C@@H]1CCNC1=O)NC(=O)[C@H](Cc1ccccc1)NC(=O)[C@@H](NC(=O)c1cc(C)on1)C(C)C\n",
            "CCOC(=O)/C=C/[C@H](C[C@@H]1CCNC1=O)NC(=O)[C@H](CC(C)C)NC(=O)[C@@H](NC(=O)c1cc(C)on1)C(C)C\n",
            "CCOC(=O)/C=C/[C@H](C[C@@H]1CCNC1=O)NC(=O)[C@H](Cc1ccccc1)NC(=O)[C@H](CC(C)C)NC(=O)OC(C)(C)C\n",
            "CCOC(=O)/C=C/[C@H](C[C@@H]1CCNC1=O)NC(=O)[C@H](CC(C)C)NC(=O)[C@H](CC(C)C)NC(=O)OC(C)(C)C\n",
            "CCOC(=O)/C=C/[C@H](C[C@@H]1CCNC1=O)NC(=O)[C@H](Cc1ccc(O)cc1)NC(=O)[C@H](CC(C)C)NC(=O)[C@H](CC(C)C)NC(=O)OC(C)(C)C\n",
            "CCOC(=O)/C=C/[C@H](C[C@@H]1CCNC1=O)NC(=O)[C@H](CC(C)C)NC(=O)[C@H](CC(C)C)NC(=O)[C@H](CC(C)C)NC(=O)OC(C)(C)C\n",
            "CCOC(=O)/C=C/[C@H](C[C@@H]1CCNC1=O)NC(=O)[C@H](CC(C)C)NC(=O)[C@H](CO)NC(=O)[C@H](Cc1ccccc1)NC(=O)OC(C)(C)C\n",
            "CCOC(=O)/C=C/[C@H](C[C@@H]1CCNC1=O)NC(=O)[C@H](CC(C)C)NC(=O)[C@H](CO)NC(=O)[C@@H](NC(=O)OC(C)(C)C)C(C)C\n",
            "CC(C)C[C@H](NC(=O)[C@@H](NC(=O)OCc1ccccc1)C(C)C)C(=O)N[C@@H](C[C@@H]1CCNC1=O)C(=O)c1nccs1\n",
            "Cc1cc(C(=O)N[C@@H](C)C(=O)N[C@H](C(=O)N[C@@H](CC(C)C)C(=O)N[C@H](/C=C/C(=O)OCc2ccccc2)C[C@@H]2CCNC2=O)C(C)C)no1\n",
            "CC(C)C[C@H](NC(=O)OCc1ccccc1)C(=O)N[C@H](C=O)CC1CCNC1=O\n",
            "CC(C)C[C@H](NC(=O)CNC(=O)OCc1ccccc1)C(=O)N[C@H](C=O)CC1CCNC1=O\n",
            "CC(C)C[C@H](NC(=O)[C@@H](NC(=O)OCc1ccccc1)C(C)C)C(=O)N[C@@H](C[C@@H]1CCNC1=O)C(=O)c1ncc(-c2ccccc2)s1\n",
            "CC(C)C[C@@H](NC(=O)[C@@H](NC(=O)OCc1ccccc1)C(C)C)C(=O)N[C@@H](C[C@@H]1CCNC1=O)C(=O)c1nc2ccccc2s1\n",
            "Cc1nc(C(=O)[C@H](C[C@@H]2CCNC2=O)NC(=O)[C@H](CC(C)C)NC(=O)[C@@H](NC(=O)OCc2ccccc2)C(C)C)sc1C\n",
            "CC(C)C[C@H](NC(=O)[C@@H](NC(=O)OCc1ccccc1)C(C)C)C(=O)N[C@@H](C[C@@H]1CCNC1=O)C(=O)c1nc2ccccc2s1\n",
            "COC(=O)[C@H](C[C@@H]1CCNC1=O)NC(=O)[C@H](CC(C)C)NC(=O)[C@@H](NC(=O)[C@@H](NC(C)=O)C(C)C)[C@@H](C)OCc1ccccc1\n",
            "COC(=O)/C=C/[C@H](C[C@@H]1CCNC1=O)NC(=O)[C@H](CC(C)C)NC(=O)[C@@H](NC(=O)OCc1ccccc1)C(C)C\n",
            "CC(C)C[C@H](NC(=O)[C@H](Cc1ccccc1)NC(=O)OCc1ccccc1)C(=O)N[C@H](C=O)C[C@@H]1CCNC1=O\n",
            "CC(C)C[C@H](NC(=O)[C@H](Cc1cccc2ccccc12)NC(=O)OCc1ccccc1)C(=O)N[C@H](C=O)C[C@@H]1CCNC1=O\n",
            "CC(C)C[C@H](NC(=O)[C@@H](Cc1cccc2ccccc12)NC(=O)OCc1ccccc1)C(=O)N[C@H](C=O)C[C@@H]1CCNC1=O\n",
            "CC(C)C[C@H](NC(=O)[C@H](Cc1ccc2ccccc2c1)NC(=O)OCc1ccccc1)C(=O)N[C@H](C=O)C[C@@H]1CCNC1=O\n",
            "CC(C)C[C@H](NC(=O)[C@H](Cc1ccc(-c2ccccc2)cc1)NC(=O)OCc1ccccc1)C(=O)N[C@H](C=O)C[C@@H]1CCNC1=O\n",
            "CCOC(=O)C=C[C@H](C[C@@H]1CCNC1=O)NC(=O)[C@@H](CC(=O)[C@@H](NC(=O)c1cc(C)on1)C(C)C)Cc1ccc(F)cc1\n",
            "CC(C)C[C@H](NC(=O)OCc1ccccc1)C(=O)NC(C=O)C[C@@H]1CCNC1=O\n",
            "Cc1cc(C(=O)N[C@H](C(=O)C[C@@H](Cc2ccc(F)cc2)C(=O)N[C@H](/C=C/C(=O)N2CCCC2)C[C@@H]2CCNC2=O)C(C)C)no1\n",
            "Cc1cc(C(=O)N[C@H](C(=O)C[C@@H](Cc2ccc(F)cc2)C(=O)N[C@H](/C=C/C(=O)OCc2ccccc2)C[C@@H]2CCNC2=O)C(C)C)no1\n",
            "Cc1cc(C(=O)N[C@H](C(=O)C[C@@H](Cc2ccc(F)cc2)C(=O)N[C@H](/C=C/C(=O)OC2CCC2)C[C@@H]2CCNC2=O)C(C)C)no1\n",
            "CCOC(=O)/C=C/[C@H](C[C@@H]1CCNC1=O)NC(=O)[C@@H]1CCCN1C(=O)[C@@H](NC(=O)c1cc(C)on1)C(C)C\n",
            "CCOC(=O)/C=C/[C@H](C[C@@H]1CCNC1=O)NC(=O)[C@@H]1[C@@H](c2ccccc2)CCN1C(=O)[C@@H](NC(=O)c1cc(C)on1)C(C)C\n",
            "CCOC(=O)/C=C/[C@H](C[C@@H]1CCNC1=O)NC(=O)[C@@H]1C[C@@H](c2ccccc2)CN1C(=O)[C@@H](NC(=O)c1cc(C)on1)C(C)C\n",
            "CCOC(=O)/C=C/[C@H](C[C@@H]1CCNC1=O)NC(=O)[C@@H]1CC[C@@H](c2ccccc2)N1C(=O)[C@@H](NC(=O)c1cc(C)on1)C(C)C\n",
            "CCOC(=O)/C=C/[C@H](C[C@@H]1CCNC1=O)NC(=O)[C@@H]1C[C@@H](C2CCCCC2)CN1C(=O)[C@@H](NC(=O)c1cc(C)on1)C(C)C\n",
            "CCOC(=O)/C=C/[C@H](C[C@@H]1CCNC1=O)NC(=O)[C@@H]1C[C@@H](Cc2ccccc2)CN1C(=O)[C@@H](NC(=O)c1cc(C)on1)C(C)C\n",
            "CCOC(=O)/C=C/[C@H](C[C@@H]1CCNC1=O)NC(=O)[C@@H]1C[C@@H](Oc2ccccc2)CN1C(=O)[C@@H](NC(=O)c1cc(C)on1)C(C)C\n",
            "CCOC(=O)/C=C/[C@H](C[C@@H]1CCNC1=O)NC(=O)[C@@H]1C[C@@H](CC#N)CN1C(=O)[C@@H](NC(=O)c1cc(C)on1)C(C)C\n",
            "CCOC(=O)/C=C/[C@H](C[C@@H]1CCNC1=O)NC(=O)[C@@H]1[C@@H](c2ccccc2)CN1C(=O)[C@@H](NC(=O)c1cc(C)on1)C(C)C\n",
            "Cc1cc(C(=O)N[C@@H](Cc2ccccc2)C(=O)N[C@H](C=O)C[C@@H]2CCCNC2=O)no1\n",
            "CCOC(=O)/C=C/C(C[C@@H]1CCNC1=O)NC(=O)[C@@H](CC(=O)[C@@H](NC(=O)c1cc(C)on1)C(C)C)Cc1ccc(F)cc1\n",
            "CC(C)C[C@H](NC(=O)[C@H](Cc1cccc2ccccc12)NC(=O)OCc1ccccc1)C(=O)NC(/C=C/C=O)C[C@@H]1CCNC1=O\n",
            "CCOC(=O)/C=C/[C@H](C[C@@H]1CCNC1=O)NC(=O)[C@H](CCC(C)C)NC(=O)[C@@H](NC(=O)[C@@H](NC(=O)c1ccco1)C(C)C)C(C)C\n",
            "\n"
          ],
          "name": "stdout"
        }
      ]
    },
    {
      "cell_type": "code",
      "metadata": {
        "id": "kiYl9XKZmITr",
        "colab_type": "code",
        "colab": {}
      },
      "source": [
        "!echo '$smistr' > /content/gdrive/My\\ Drive/Colab\\ Notebooks/vittamin/cov_compounds.smi"
      ],
      "execution_count": 0,
      "outputs": []
    },
    {
      "cell_type": "code",
      "metadata": {
        "id": "ypmafrWUJXvc",
        "colab_type": "code",
        "outputId": "5cb12315-e0b1-4058-917a-40146aef8699",
        "colab": {
          "base_uri": "https://localhost:8080/",
          "height": 374
        }
      },
      "source": [
        "!obabel /content/gdrive/My\\ Drive/Colab\\ Notebooks/vittamin/cov_compounds.smi --gen3d -omol2 -O /content/gdrive/My\\ Drive/Colab\\ Notebooks/vittamin/cov_compounds.mol2"
      ],
      "execution_count": 46,
      "outputs": [
        {
          "output_type": "stream",
          "text": [
            "WARNING: damped steplength 0.0162995 to 0.00684851\n",
            "WARNING: damped steplength 0.00540765 to 0.00423597\n",
            "WARNING: damped steplength 0.0497762 to 0.00511483\n",
            "WARNING: damped steplength 0.00352127 to 0.00183937\n",
            "WARNING: damped steplength 0.0064346 to 0.00310954\n",
            "WARNING: damped steplength 0.00615151 to 0.00441576\n",
            "WARNING: damped steplength 0.00629865 to 0.0018734\n",
            "WARNING: damped steplength 0.000284473 to 6.71842e-05\n",
            "WARNING: damped steplength 0.0045328 to 0.00195814\n",
            "WARNING: damped steplength 0.0574143 to 0.00628482\n",
            "WARNING: damped steplength 0.00983043 to 0.00307894\n",
            "WARNING: damped steplength 0.0189008 to 0.00713767\n",
            "WARNING: damped steplength 0.0375205 to 0.00382565\n",
            "WARNING: damped steplength 0.00126283 to 0.00108618\n",
            "WARNING: damped steplength 0.0242541 to 0.00401802\n",
            "WARNING: damped steplength 0.00712839 to 0.00678416\n",
            "WARNING: damped steplength 2.08241 to 0.00670946\n",
            "WARNING: damped steplength 0.00586574 to 0.00577943\n",
            "WARNING: damped steplength 0.00996787 to 0.00603851\n",
            "WARNING: damped steplength 0.0117489 to 0.0056566\n",
            "64 molecules converted\n"
          ],
          "name": "stdout"
        }
      ]
    },
    {
      "cell_type": "markdown",
      "metadata": {
        "id": "KyX7H1bN-v6_",
        "colab_type": "text"
      },
      "source": [
        "#**Visualize compounds**"
      ]
    },
    {
      "cell_type": "code",
      "metadata": {
        "id": "HMpC2U1UR_OM",
        "colab_type": "code",
        "outputId": "9cdbd8c0-88fb-454d-a1d9-953a75f1e780",
        "colab": {
          "base_uri": "https://localhost:8080/",
          "height": 1000
        }
      },
      "source": [
        "output_df.head()"
      ],
      "execution_count": 47,
      "outputs": [
        {
          "output_type": "execute_result",
          "data": {
            "text/html": [
              "<div>\n",
              "<style scoped>\n",
              "    .dataframe tbody tr th:only-of-type {\n",
              "        vertical-align: middle;\n",
              "    }\n",
              "\n",
              "    .dataframe tbody tr th {\n",
              "        vertical-align: top;\n",
              "    }\n",
              "\n",
              "    .dataframe thead th {\n",
              "        text-align: right;\n",
              "    }\n",
              "</style>\n",
              "<table border=\"1\" class=\"dataframe\">\n",
              "  <thead>\n",
              "    <tr style=\"text-align: right;\">\n",
              "      <th></th>\n",
              "      <th>molecule_chembl_id</th>\n",
              "      <th>smiles</th>\n",
              "      <th>ROMol</th>\n",
              "    </tr>\n",
              "  </thead>\n",
              "  <tbody>\n",
              "    <tr>\n",
              "      <th>0</th>\n",
              "      <td>CHEMBL20260</td>\n",
              "      <td>CCOC(=O)/C=C/[C@H](C[C@@H]1CCCNC1=O)NC(=O)[C@H...</td>\n",
              "      <td><img data-content=\"rdkit/molecule\" src=\"data:image/png;base64,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\" alt=\"Mol\"/></td>\n",
              "    </tr>\n",
              "    <tr>\n",
              "      <th>2</th>\n",
              "      <td>CHEMBL20636</td>\n",
              "      <td>CCOC(=O)/C=C/[C@H](C[C@@H]1CCNC1=O)NC(=O)[C@H]...</td>\n",
              "      <td><img data-content=\"rdkit/molecule\" src=\"data:image/png;base64,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\" alt=\"Mol\"/></td>\n",
              "    </tr>\n",
              "    <tr>\n",
              "      <th>3</th>\n",
              "      <td>CHEMBL277716</td>\n",
              "      <td>CCOC(=O)/C=C/[C@H](C[C@@H]1CCNC1=O)NC(=O)[C@H]...</td>\n",
              "      <td><img data-content=\"rdkit/molecule\" src=\"data:image/png;base64,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\" alt=\"Mol\"/></td>\n",
              "    </tr>\n",
              "    <tr>\n",
              "      <th>4</th>\n",
              "      <td>CHEMBL280938</td>\n",
              "      <td>CCOC(=O)/C=C/[C@H](C[C@@H]1CCNC1=O)NC(=O)[C@H]...</td>\n",
              "      <td><img data-content=\"rdkit/molecule\" src=\"data:image/png;base64,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\" alt=\"Mol\"/></td>\n",
              "    </tr>\n",
              "    <tr>\n",
              "      <th>5</th>\n",
              "      <td>CHEMBL21082</td>\n",
              "      <td>CCOC(=O)/C=C/[C@H](C[C@@H]1CCNC1=O)NC(=O)[C@H]...</td>\n",
              "      <td><img data-content=\"rdkit/molecule\" src=\"data:image/png;base64,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\" alt=\"Mol\"/></td>\n",
              "    </tr>\n",
              "  </tbody>\n",
              "</table>\n",
              "</div>"
            ],
            "text/plain": [
              "  molecule_chembl_id  ...                                              ROMol\n",
              "0        CHEMBL20260  ...  <img data-content=\"rdkit/molecule\" src=\"data:i...\n",
              "2        CHEMBL20636  ...  <img data-content=\"rdkit/molecule\" src=\"data:i...\n",
              "3       CHEMBL277716  ...  <img data-content=\"rdkit/molecule\" src=\"data:i...\n",
              "4       CHEMBL280938  ...  <img data-content=\"rdkit/molecule\" src=\"data:i...\n",
              "5        CHEMBL21082  ...  <img data-content=\"rdkit/molecule\" src=\"data:i...\n",
              "\n",
              "[5 rows x 3 columns]"
            ]
          },
          "metadata": {
            "tags": []
          },
          "execution_count": 47
        }
      ]
    },
    {
      "cell_type": "code",
      "metadata": {
        "id": "6fvUDhfVKtdC",
        "colab_type": "code",
        "colab": {}
      },
      "source": [
        "output_df['logp'] = output_df['ROMol'].map(Descriptors.MolLogP)\n",
        "output_df['mw'] = output_df['ROMol'].map(Descriptors.MolWt)"
      ],
      "execution_count": 0,
      "outputs": []
    },
    {
      "cell_type": "code",
      "metadata": {
        "id": "36h2M3atMM2T",
        "colab_type": "code",
        "outputId": "e6b79e0d-5b30-416b-9ffe-e1c4d81e9d2e",
        "colab": {
          "base_uri": "https://localhost:8080/",
          "height": 1000
        }
      },
      "source": [
        "output_df.head()"
      ],
      "execution_count": 49,
      "outputs": [
        {
          "output_type": "execute_result",
          "data": {
            "text/html": [
              "<div>\n",
              "<style scoped>\n",
              "    .dataframe tbody tr th:only-of-type {\n",
              "        vertical-align: middle;\n",
              "    }\n",
              "\n",
              "    .dataframe tbody tr th {\n",
              "        vertical-align: top;\n",
              "    }\n",
              "\n",
              "    .dataframe thead th {\n",
              "        text-align: right;\n",
              "    }\n",
              "</style>\n",
              "<table border=\"1\" class=\"dataframe\">\n",
              "  <thead>\n",
              "    <tr style=\"text-align: right;\">\n",
              "      <th></th>\n",
              "      <th>molecule_chembl_id</th>\n",
              "      <th>smiles</th>\n",
              "      <th>ROMol</th>\n",
              "      <th>logp</th>\n",
              "      <th>mw</th>\n",
              "    </tr>\n",
              "  </thead>\n",
              "  <tbody>\n",
              "    <tr>\n",
              "      <th>0</th>\n",
              "      <td>CHEMBL20260</td>\n",
              "      <td>CCOC(=O)/C=C/[C@H](C[C@@H]1CCCNC1=O)NC(=O)[C@H...</td>\n",
              "      <td><img data-content=\"rdkit/molecule\" src=\"data:image/png;base64,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\" alt=\"Mol\"/></td>\n",
              "      <td>2.12442</td>\n",
              "      <td>613.687</td>\n",
              "    </tr>\n",
              "    <tr>\n",
              "      <th>2</th>\n",
              "      <td>CHEMBL20636</td>\n",
              "      <td>CCOC(=O)/C=C/[C@H](C[C@@H]1CCNC1=O)NC(=O)[C@H]...</td>\n",
              "      <td><img data-content=\"rdkit/molecule\" src=\"data:image/png;base64,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\" alt=\"Mol\"/></td>\n",
              "      <td>1.73432</td>\n",
              "      <td>599.660</td>\n",
              "    </tr>\n",
              "    <tr>\n",
              "      <th>3</th>\n",
              "      <td>CHEMBL277716</td>\n",
              "      <td>CCOC(=O)/C=C/[C@H](C[C@@H]1CCNC1=O)NC(=O)[C@H]...</td>\n",
              "      <td><img data-content=\"rdkit/molecule\" src=\"data:image/png;base64,iVBORw0KGgoAAAANSUhEUgAAAMgAAADICAIAAAAiOjnJAAAABmJLR0QA/wD/AP+gvaeTAAAZ+ElEQVR4nO2de1zM2f/H3zNTzVToHomodiMiclkqiVy+S2Et65oUj6ylcnlosPbb12bJZe2oWJdl+eZawmbZpFjWdbG5RS6hTFISUk2XmTm/P047v77UNDPNadK+n3/1mDnnfN4zveZc3ud93odDCAEE0TZcXRuANE9QWAgTUFgIE1BYCBNQWAgTUFgIE1BYCBNQWAgTUFgIE1BYCBNQWAgTUFgIE1BYCBNQWAgTUFgIE1BYCBNQWAgTUFgIE1BYCBNQWAgTUFgIE1BYCBNQWAgTUFgIE1BYCBNQWAgTUFgIE1BYCBNQWAgTUFgIE1BYCBNQWAgTUFgIE1BYCBNQWAgTUFgIE1BYCBNQWAgTUFgIE1BYCBNQWAgTUFgIE1BYCBNQWAgTUFgIE1BYCBNQWAgTUFgIE1BYCBNQWAgTUFgIE1BYCBNQWAgT9HRtgPocPw4CAQweDDExIJPB6NFgb69rm5B3+dCE9fAhTJkCb99CaioQAhwOcDi6tgmpBQ4hRNc2qIxEAh4ekJ4Oo0ZBZSXo68N//wumpro2C6mFD2qONXs2pKeDkxM4OUFyMly+DCUlurYJqZ0PRli3du6E3buhRQsIC4P164HHg7g4aNdO13YhdUA+BC5cuGBgYCB0c5Nu3EgsLAgAWb1a10YhyvgA5lgFBQW9evUSi8WhoaHFGRmxeXnGnTpBYiJO25syTX0olMlkU6dOFYvF7u7uL1++3JmW5s3jyXfuRFU1cZqEu6G4GLKzwdgY+HwwMgJDQxAIqt9auXLlyZMnbWxsRo4c+fXXXxsbG+/ct4/bqpVO7UXqR5fCiogAV1f480/Iz4edO///9Q4dsrKzPzIyMuLz+QKBwNDQcPHixYsWLQKAH3/8sWvXrroyGFEdXQ6FPB5cuwbm5uDiAk5O4OAANjZgZgbGxmUAUFZW9urVq7y8vPLy8kWLFlVVVc2bN8/f31+HBmtMWVlZQEBAenq6rg1pRHS1anj9mhgaEjMz8vp17QVKSkqKiopycnL8/PwA4KuvvqqsrGxcG7VDbm5u7969AcDFxUUmk+nanEZCZz3WwYMgkUCPHmBiUnsBY2NjMzOz9u3bjxs3DgAeP36sr6/fqCZqgxs3bvTv3//q1asODg4HDhzgcpv6aklr6ErRAwcSALJjR/0lCwoKuFyuoaFhaWkpe7uUIRaLs7OzVS+fmJhobGwMAB4eHvn5+ewMa4LoRljZ2YTLJQJBnePgO9Ch5Pjx44ztqocFCxZwuVwPDw+RSFRYWKi8sEgkov1TUFBQRUWFSg+IjiY//EAePdKCrbpGNz1zYmKpXA5jxtQ5Dr7DiBEjAOC3335ja1Z9SKVSPp9//vz5efPmtW/ffuLEib/++qtUKn2nWEVFxfTp0+fNm0cIiYiI2L59u4GBgarP4HBALofSUi2b3vjoRM7Ozs4ffTTmxImnKpa/ePEiANjb2zO1ShXKysri4+N9fX15PB79As3NzYODg//44w+5XE4IKSwsHDhwIAAYGxsfPnxYjaZjY0lQEImJIUZGJDyc1QdoLHQgrCtXrgCAtbV1VVWVilVkMpm1tTUA3Lt3j6ltqpOTk7Nq1aouXboofqLOzs5hYWEdOnQAAFtb26tXr6rXYvfu1XugAOTTT9lY3XjoQFhhYWEAEBYWplatKVOmAIBIJGJklcbcvn1bKBS2adMGADgcjp6eXt++ffPy8tRuaMoUAkBWrSIAxNaWgaWq8ubNm4Y30tjCqqqqov8DdX/Qu3fvBoDhw4czMqyBVFVVHTt2zNTUFABu3LihSRNRUQSAhIaSFi0IAKlvccCCGzduuLu7e3l5OTs7R0REZGVladxUYwvr2LFjms2WXrx4wePx+Hz+27dvWRimFUaOHAkABw8e1KTy8eMEgAwaRPr2JQDkzBltW1cPR44cadGiBZ0d0sGdy+V6e3vv2LFDgz6ssVeFPj4+Hh4eYrH4p59+Uqsin8+3srLS19fPzMxkZFvD6datGwDcunVLk8ouLsDjSYqLs3180ry9f3/4UMvGKWXDhg1jx44tKSmZOHHi8+fPDxw44O/vb2ho+PvvvwcFBbVu3drPzy8hIaGqqkrVFlloXwlVVVWzZs2ijw4ODi4vL1el1qlTpzp27AgAn3766dmzZ/fv35+ZmSmVSllbqy579uwBgLFjx2pWvWObNgAQGRkJALNmzdKskefPn58/f151R25FRUVgYCAAcDiciIgI+mKnTp06dOgwb968NWvW1LoErrdZ3bgb4uLijIyMAMDNze2RUn9gWVmZUCiknkZXV9fr168TQt68ebNt27awsLDly5dv27bt+vXrdKmvc27evAkAH3/8sWbVvby8AGDNmjUA0L9/fw1a2LJli5GRUceOHVV05L58+dLb2xsAjI2NDx06RF8Ui8U2NjZUSRwOx9PTc/Xq1StXruzRowd90draut7pl862dNLT0x0dHQHAwsIiOTm51jIXLlxwcnICAH19faFQ+M4mdHFxcWJiYlhYmJ2dXc+ePVetWpWUlHTv3j0d9mSVlZUGBgZcLrekpESD6nPmzAGAb7/9FgBatmyp1q+lsrKSDgUcDqdnz56GhoZUBIaGhhMmTDh69Oj7W/j379/v1KkTALRt2/bKlSs135JKpcnJyVOnTlXMt/h8/ueff75nz57AwEAej9exY0fl9ugy5v3NmzefffYZ/S6EQmHNnX+JRCIUCmkP7OLicu3atboaKS0tTUlJ8fX1tbGxGT9+fFBQ0KhRoxrF/Nqh06w///xTg7qbN28GgICAANphKO/La1JUVOTj40P//XFxcaSGI1dPrzrkzszMrKYjNyUlha5he/TokZOTU1fL77Rz7tw5qVRqaGjI4XCUz+h1fJhCLpdHRUXRkW7kyJFFRUWEkMuXLzs7OwOAnp6eUChUZaONrvbd3d1tbGzMzc2Li4vZ2147kydPBoDt27drUPfChQsAYG9v37lzZ4FAcOzYMZWq3b+/adw4AGjTps2lS5feefN9R27nzp1HjRpFhTJ+/HgVt/bFYnFsbCwVpZubGwCcP39eSfkmcUrn1KlT1LHu6OgYFhZGw2O6dOmiwe/e3t4eAC5cuMDCTlVYtWoVANCNQnXJzc2lQz+dgPL5fF9f3/j4eGU/rVOniLk5Afh24kQlHQ/5X0eutbX1+6OE6gQEBADA5s2blZRpEsIihDx69Ij+Dvh8Po/HCw8Pl0gkGrSjymdmCnXUDR48WN2Kjx49olHX5ubmixcv9vHxUQRvrffxIXPnkvd6I/LTT8TAoHoLSDVXU1VV1a5du+jISF/R4Htet24dAMyZM0dJmaYiLEKIRCIRiUQHDhxoSH+jymdmSk5ODgBYWlqqVevChetWVlYA0LVrV8XUKjc3VyQSubm55VGXKQDp0IEIheTBA0IIWbq0+sXwcKJOxyOXy+nsauvWrWZmZl9++aVaphJCUlJSAGDAgAFKyjQhYWmFEydOAICXl5euDMjJyREIBJ07d1Z9nrdvH7G0LHZy6j5s2LDXtUWoydPTyYIFxMamWkmtWxOplBw7RgwNVQqVfA9PT0+FX8PDw0Pd6nl5eQBgamqqZN3a3IT17Nmzmv18I3Pp0iU6ifnqq6/i4+N/+OGHX3/99fnz53WVl8nI4sXValmyJL8eR4lUSpKTydSpZMmS6pDAixc1s3P27NkKT2yrVq008ALSObGSWV1zExYhhI4pT5+qGuxVJ1KpWkNMfHw8nXQPGDDgxYsXhJDHjx9/8803w4YN++KLtKVLyd695N49ovgnlpSQzz4jAERPj0RHq2lbdDQRicjjx2pWq2bTpk0AEBgY2Lp1awB48uSJui0MHjwYAJSsW5uhsAYNGgRaiWM+eJDY2pLQUFK3F41S02kyc+bMd1yRDx8+XLiwuFcv4ulJBg0ivr7k558JIeTqVSIQEDMzkpraUEvV5Y8//gCA3r17DxkyBACOHj2qbgs09ikqKqquAs3w0EiDdoIpMTEgEkFiIuTmQnQ09OoFbm7www/F+fnvl62oqJg2bdrixYs5HE5UVNS2bdveOU3k6Oi4bl3LhARwcYE7d+DuXTh3Dg4dgoQEmDABDhwAHx/NLdWMbt26cTicjIwMFxcXUOe7kslkjx8/BhW+ZBRWHZSVQXk5xMRASAhYWUF6uvy772w7dPD09Ny6dWvJ33m58vLyvLy8du/e3aJFi8OHDwuFwrras7eHH3+Eixdh3DgYMgRu3ABzc5g+XTdpLk1MTOzs7CQSCZ0qqfhdvX37dsyYMR4eHk+fPqXzDWWRJg3rU5sily5dAgBXV9cGtbJxY/Wk2saGzJlDVqy4ERqqOBPRsmXLgICAI0eO0EBke3v727dva8n8RsLX1xcAVq9eDQBdu3att3xWVhZ131tbW2/fvt3a2prH46XWPYo3Q2GVlJRwuVw9Pb3Tp09rHvWQnU2+/ZY4OVXLC+DrkSOXL18uEomGDBnC4XDg74C4/v37K1n3NVmWLFkCAEuXLp0yZcr333+vvPD58+dp3+bi4hITE0N3uIcOHfrq1au6qjRDYRFC1q1bZ2ZmBgDt27cXCoUNOoJx8SKZO1fi5kb7KhqOEhkZ2adPHwCYNm2aiiFlTY29e/cCwOjRo+stuW/fPoFAAADDhw+nU0kACA4OVp7xoLkJq6KiIiEh4e7du+Hh4e3+TiTJ5fJGjpRs3Kh5HHllZeUvv/wybtw4gSLBEoCNjY1WbW9Ubt261aFDB4FAoGQ7Ui6XR0RE0A87Y8aMSZMmAQCPx1OyGFTQrISVlZUVGhqqCJ6UyWSpqakBAQH9+i2iA5qBARk9miQmEo1HyFevXm3dunXAgAH6+vo8Hk/np/4bQmpqas3Q0NmzZ78TsPD06VMLCwt9ff01a9bQHrply5Yq+iaaorBevXq1du3auXPnfvPNNyqOYlVVVQkJCf369Xv27Nn770okJD6e+PoSfX0CQFxctGAkXai/Ex/3wfHs2TORSOTh4aHohu3s7IRC4f3792mBM2fObN261c7ODgAcHBwyMjJUbLnJCevhw4eKYCz6Ubt06RIVFaUkqcaTJ0/CwsJcXV2pv1sJeXlk/XqyZw/5979JYiIRCsnq1dVbuupC4652aLRV1wTJyMiIiIigBwsovXr1EolEP//8s2Z5TZqWsM6dO6dYfSQkJAQHB7f6Oyskj8cbMmTIrl27ao4+Uqk0KSmpT58+w4cPVx6N9A5795JZs8iUKeT0aQ2FReOu5s+fr0nlpopUKk1JSZk2bRo9BwYA9I/AwEBV85r8TRMS1o4dO6ij6F//+hfd5Pfz8wsPD9+4ceP48eMV7mwTExN/f/+TJ08+efJk+fLlrVu3njlz5q1bt9R6lkzW0GOhKSmZ/fodHD9eDTV/QJSUlMTFxQ0fPnzTpk3r16/XoAU2wqqoqN5+nzuXxMSQ+kaomquP4OBgmtPh9u3bim65d+/ekZGRK1as6NWrl+JF6j4OCQm5fPmyBjY28FhodjYBIFZWGlZv9jAQ1oEDxMGBLF9OoqKIQEAACI9Hhgwhu3aR2s6ulJSUjBkzhk6qYmNja7519erV0NBQS0vLmqNhVFTUkiVL7O3tbW1tp0+fflHT0JEZMwgA+d8HqoFcTkxNCQD5hyVUUxWtCksuJ8uWEQ6HAJC1a0l5Odm3j4wcSfT0qPN619ChM2fOPHPmjMIhLhaLaSdkbm6elpZWa6vl5eVJSUnjx49X7KikpKTIZLLs7GzN+iqKSEQAiKbHQgkhxNOTAJCTJzVvoRmjTFhnz55VYyEgkZDJk6v7p3ccaPn5ZMMG0ru3e7duVBnt2rULDQ3dv38/9WF+9NFHd+/erfcJL168iImJ8fX11crJwbQ0AkDc3TVvYfZsAkA0moE0f+oUllQqbdOmjWItpvwEZm5u7oNJkwgAMTEhJ07UVezOnTtLly6lThHFiqN79+701FcjU1BQ3qvXMEfHThrvJ/78M+nXj+zcqV27mgl1Cis/P9/Pz6/mWiwoKOj06dPvHxi6du2ara2tuaHhy2HDyJ079T5SJpNFRkaam5t7e3vr6elxOBxdHQOkYcSPNY3DbLgzrBlTZzyWtbV1UlJSfn7+li1bPDw8iouLd+zYMWjQIDs7u7CwsOvXr9Nihw4d8vLyys3NdXZzk8bFgbNzXQ0q4HK5Li4uRUVFhoaGLi4uhJCMjIx6a7Gge/fuAEATLqjLoUPQsWN1WFXfvtq2rBmgogAzMzOXLVtW0zPbu3fvUaNG0XhcdR1oDx8+BABbW1t608TWrVs1+VE0mIULFwLAihUr1Kolk5ElSwgAGTFC8z3HZo/aq8KaLgAHB4eauW9URyaT0QnWf/7zHwAICQlRt4WGc+LEiY8//hgA/Pz8VK8lkRA6mdTkBMQ/CQ3dDRKJJD4+PjU1VbPsF4SQvn37AsDatWsBwNvbW7NGNCY6Oppu7Nvb23O5XLodWW+8nlj82s2NABAzM/Qy1IPOtnQ2LFgQ6+5+df36gj59Kp2dG+25Uqk0JCQEADgczvz58z/55BM+n08Hdz09PV9f3/3795eVlb1fMT09vX379l5eNx0dVVmi/NPR3V7hhg0EgAQHV1/Fm5vbGA999Wp9QAAACAQCkUhEcyVYWlrGxcXVdMC2atXK398/KSlJ4TBLSEigZwZ9fIYXFv5TLlpqCLoT1qlTBID07199q04dude0ycOHxNlZZm4+1tV106ZNijAKRa6EgoKC6OjovjXWeHZ2dkuXLl24cCFdo8yYMUPdTf5/LLoTVmEhASAtW5KQkOotIKacPl3dNbq6SkSijhYWADBixIhas4dlZmZGRETQhIO0A+PxeOvWrWNrYfNCp2EzNMvFypUEgEybxvBB27dXp/sZPpzMm0cA8vv0WTB/vvKtIblcfubMGVdXVwAYNGgQQ/OaIzo9sNq9OwCAQADe3vD3NiITfv8dKishLAwMDUEkAj0962nTvl+/XhHxXSscDsfLy4t62m7duiWXyxla2OzQqbCio0EsBj09GD0aPv+c4YO2bYPt2+HsWThyBMzMIDkZ5s5VsSr12BUWFv71118MLWx26PQWeyen6j84HOBwWD0lJgZkMvDyguJicHSEo0dV2XdSYGFhQf9ITk6m1yYiqqBTYVFCQpg/gsMBc3M4fhwsLcHcXK2qCmGdOHFi2bJlDIxrnnAIIbq2oUnz4MEDmnCWx+MVFBSYq6nLfyzNMNuMdlH0WDKZLC0tTbfGfECgsOrB1NRUsXikCU41IDMz8+bNmyKRKL+2DFvNE137Oz4AFKc5bGxsNAg3pXdA0IgjLpdLI3Kb8uV4WgGFVT+dO3dW/A7VveQyNjaWHun28vLy9fWtmWFr+vTpaWlpmqXwb/qgsOqnZmqDNWvWqFhLKpWGhoZCjZuCrly5EhkZuWHDBkWGLQCwtbUNDQ3966+/mH6ExgeFVT+jRo1SCMvDw0OVDDPFxcX0tlU+n79r1y764owZM6BGhq3Fixc7ODgoWu7Zs6cq9wB+KKCw6mfv3r2KIQz+zhOZmppa1yimyKpoaWl5psZR699++23s2LGK8K8WLVr4+/vHxsaGhITQlJ7+/v4PmsupDBSWSojFYrFYvGvXrpqjWNu2bUNDQ9+58q5mXpNaz/8UFRVt3rzZw8ND0c7gwYPLy8vpbRG7d+9upI/EGBSW2mRnZ0dFRdF4eQqNbH727Nn7eU2UkJOTExUV5eTktGrVKkIIDf8XCoWN8iGYg8LSELlcfu7cuS+//FLhi1dc1rVgwQK1zmrT4MHExEQAGDFiBDOTGxUUVkOhqSX8/f35fL6JicnXX3+tWTsPHjwAgHbt2mnXPF2Be4VaY/Lkyfv27du8ebOVlVVWVtaiRYvUqi6Xy1u1alVaWvry5ctmsCOJWzpao2fPngCQkZERGBgYHh7+4sULtapzuVx6uKNmYrAPFxSW1lBctUJ9DRrkDdDOZS1NAxSW1qCyuHnzpsYpIVBYSC3Y2tpaWFgUFRXRPE0a6AOFhdQOVQb1rWugD9rV0US9WretkUFhaRMqrNLSUgC4ffu2igd7SktLQ0JCCgsLLS0t27Rp8/bt2+zsbLaGsgeFpU2osLKysmxtbUtLS+mdkcoRi8UDBgyIjY0NCgq6efNmeXm5n58fe0uZg8LSJopJEh3U7ty5o7z89evX3d3d09PTHR0dhw4d6u7u/vr1awMDg5p5yD5UdO2hbVbQqxL5fH5mZmZBQYHywopEI56enitWrKA7QpMmTZJIJI1jLVNQWFqGhlht2bJFyXZhzcvJAwMD6WFrzVLYNVlQWFpm//791IFuYWERHBxca+zerFmzAIDH40VGRg4cOBAAjI2NDx8+3PjWsgOFpX2+++67Tp06KSYbLi4uq1evfvr0qaJAcnKyqalpTEyMvb09ANja2l69elWHBrMAhcWK27dvC4XC1q1bU3nRiOQtW7bQ3OOJiYkmJiYA0LNnz5qaazagsNhSWVmZlJT0xRdfKO78NTIy+uSTT+hZxQkTJtSalrIZgGEzjcSbN29++eWXuLi4tLQ0Kyur0tLSuXPnrly5UhEe2MxAYTU22dnZWVlZnTt3btu2ra5tYQgKC2FC8+yHEZ2DwkKYgMJCmIDCQpiAwkKYgMJCmIDCQpiAwkKYgMJCmIDCQpiAwkKYgMJCmIDCQpiAwkKYgMJCmIDCQpiAwkKYgMJCmIDCQpiAwkKYgMJCmIDCQpiAwkKYgMJCmIDCQpiAwkKYgMJCmIDCQpiAwkKYgMJCmIDCQpiAwkKYgMJCmIDCQpiAwkKYgMJCmIDCQpiAwkKYgMJCmIDCQpiAwkKYgMJCmIDCQpiAwkKYgMJCmIDCQpiAwkKYgMJCmIDCQpiAwkKYgMJCmIDCQpjwfyVX/po9Gi39AAAAAElFTkSuQmCC\" alt=\"Mol\"/></td>\n",
              "      <td>2.79520</td>\n",
              "      <td>606.720</td>\n",
              "    </tr>\n",
              "    <tr>\n",
              "      <th>4</th>\n",
              "      <td>CHEMBL280938</td>\n",
              "      <td>CCOC(=O)/C=C/[C@H](C[C@@H]1CCNC1=O)NC(=O)[C@H]...</td>\n",
              "      <td><img data-content=\"rdkit/molecule\" src=\"data:image/png;base64,iVBORw0KGgoAAAANSUhEUgAAAMgAAADICAIAAAAiOjnJAAAABmJLR0QA/wD/AP+gvaeTAAAdgUlEQVR4nO2deVxTx9rHn5OwZoOwCUhZRAEXXOBSRNS2ClqttNbiUjeqSEW9WKVuxQWXqteqraVUL2rdaqvYWr2KVYi7qAho3UBEtIA0iCIJJCSQbd4/TpvL1QrZhkTf+X744xhnzvMk+eU558w88wyFEAICwdQwzO0A4dWECIuABSIsAhaIsAhYIMIiYIEIi4AFIiwCFoiwCFggwiJggQiLgAUiLAIWiLAIWCDCImCBCIuABSIsAhaIsAhYIMIiYIEIi4AFIiwCFoiwCFggwiJggQiLgAUiLAIWiLAIWCDCImCBCIuABSIsAhaIsAhYIMIiYIEIi4AFIiwCFoiwCFggwiJggQiLgAUiLAIWiLAIWCDCImCBCIuABSIsAhaIsAhYIMIiYIEIi4AFIiwCFoiwCFggwiJggQiLgAUiLAIWiLAIWCDCImCBCIuABSIsAhaIsIxCoVBs3ry5qqrK3I5YHERYRpGcnDxr1qzPP//c3I5YHBTZxd4YSktLu3fvTlFUSUlJp06dzO2OBUEillEEBASMHz9eqVSuXr3a3L5YFiRiGUt5eXlgYKBarS4qKgoMDDS3O5YCiVjG4uvrO3nyZLVavWrVKnP7YkGQiGUCKisrAwIClErl9evXg4ODze2ORUAilgnw9vaOj4/XaDQkaGkhEcs0VFdX+/v7NzU1Xbt2rXfv3uZ2x/yQiGUaPDw8EhMTEULLly83ty8WAYlYJqO2trZTp04SiSQvLy88PNzc7pgZJvmFmQoWi1VfX3/x4sVbt275+vrW1dXV19c3NTVpNBo7OzuKosztYLtCIpYpEQqFnTt35nA4T548eea/WCwWh8PhcDiOjo4cDofNZo8ZM+ajjz4yh5vtgZW5HXilSE9Pl8vlHA5n8ODBYrFYKpU2NjZKpVKxWCyTyWQy2ePHj7WN+/TpY0ZXcUMilsm4ceNGWFiYWq2+cOFCv379nvlfqVRK64wWnFQq9fPz69atm1lcbQdIxDINKpUqPj5eqVTOnTv3eVUBAH0dbH/HzAUZbjANGzZsuHr1qq+v78qVK83ti0VALoUmoLS0tHfv3nK5PDs7e8iQIeZ2xyIgEctYEEIzZsyQy+VTp04lqtJiYRFr3z4oKYG4OHh5kua2bNkyc+ZMd3f34uJiPp9vbncsBQuLWE+ewOLFkJNjbj90RSgUpqSkAEB6ejpRVUssTFgaDSAEDAvz6sXMnDlTLBbHxMR88MEH5vbFsrCYS6FAALm5wOeDSPSyXAr37ds3fvx4BweHoqKijh07mtsdy8JiYkN6OqxcCQhBZSXk5oJSaW6H2kAul3/33XcAMG/ePKKq57EMYdXUwPHjYG0NXbvCrl2wYIG5HWqbgoICDoczadIkiURibl8sEcsQ1p49oFRCTAwcOgQAEBcH1tbm9qkNBg4cGBQUJJFIEEJEW89jGcLatQsAYMIEOHAAAOAlmfNfs2ZNVVXVgwcPfvvtN3P7YnGYX1i/Xblyzs2tuU8faGgAsRgiIqBrV3M7pRMMBuOHH37Izc09ceKEuX2xOMwvrC3ffffm2bOpQ4aknTnze2Skato0c3ukBwEBAevWrduxY0d5ebm5fbEszDzcIJfLPT09xWKxQCAYOnSora2tUCh0dHQ0o0v6Ul1dnZGRgRBasWKFuX2xIMwcsX7++WexWNyvX78LFy5oNJrRo0e/XKoCAA8Pj759+8rlcrlcbm5fLAgzC2vnzp0A8NFHH+3evRsApkyZYl5/DOPtt9+2s7O7ceOGuR2xIMwmLI1Gc+3aNSaTyeFwFApFRUWFn5/fG2+8YS5/jCQ+Pl4gEJjbCwuivTNIHz6EU6fUOTmTT54UaFccJCcnBwYGxsfHv7xLWXx8fNzc3Kqrqz08PMzti0XQTjfvR4+CQAACAZSUAAAEBYWUlPzm4+MTHR0dGBiYkpKiVqvPnTvXv3//dnAGH6dPn3Z2dmaxWGw2m8Ph8Hg8c3tkPhAGZs1Cf/yBDh1CW7ag6mp06BAKDEQACADxeOi999DOnZfu3r2rbb948WIACAwMlMvlOPxpH54+fbpo0aJnEtvDw0WenqhLFxQait56C73zzrOfzKsKlktht24gEICDw39fmTEDxGKIjobXXwcrKwCIaNl+6dKlhw8fLioqWrVq1ctbwezTTz/dtWuXk5NT586dpX9RV2cnFP63TVzcs5/MqwqWS+HevVBbC76+cO0aWFtDcDCMHNlGlytXrkRGRlIUlZeXFxoaanKXcHP69OmoqCgbG5vffvuta4uZA7FYI5UyGhtBKgWxGEpKQKnU75N5ScH1VOjpCQiBpyckJOjUPjw8PCkpSbuICpNXmJDJZAkJCQihlStXdv3f+ShHR4aXFwQGQmgoDB4MDg7g6QkA4OkJw4bBpUvmcbg9wHeV7dAB2dujmhpd2zc2Nnbu3BkAVq9ejc8rHHzyyScA0KtXL4VCoWOXP/5AtrbI3h4JhVhdMxsYhWVvjwBQY6MeXc6cOUNRlK2t7e3bt7H5ZWLy8vKYTKaVldXVq1f16jhqFAJASUmY/DIzuISlUiEAxGQijUa/jgkJCQAQHh6uUqnwuGZKmpubu3fvDgApKSn69r19GzEYyNYWVVbicM3M4BKWSIQAkIOD3h3r6+tfe+01ANi0aRMGv0xMamoqAAQEBBg2UDJuHAJA06eb3C/zg0tYlZUIAHl5GdL36NGjAMBms588edLydZVKpdFoamtrhUJhRUXF/fv3c3JyLly48PDhQ9M4rSd37tyxtbVlMBjnz5837AwlJahz55L+/Sc8ePDAtL6ZHVxTOo2Nj99446qbmxOA3rXtQkJC2Gx2v379ysrKrl279uTJk+3bt/N4vC5dutTW1h46dKhv377du3enjwcMGDBw4MBFixaZ+A34+gKTCY6OwGYDh6NxcEjkcum6VnSNKxcXly+//LK5uXnmzJkDBgwwzEhgIPTv/69du35YudKano9/ZcA1pXPlypW+ffuGhYXl5+fr1VGpVA4aNCg3N3fQoEHZ2dlWVn9K/9GjRyKRSCQSnT179unTp1wut7a29pdffqGr5t26dcs0JYHopdgTJ0JAQMuXkZMTo66u5SsuLi61tbWenp5FRUXGpPq8qvsP4IpYUqkUALhcrr4dZ86cmZub6+Pjs3//fq2qAMDd3d3d3R0AtEWC1Gr1ggULkpKSjhw5smLFiszMTBP4TS/F3roVDh8GBgMQov8UanXG06cta1wdP34cADIyMoxMIPP19Y2Li9u2bduqVav27t1rgrdgGeASFr1wRV9hffPNN9u3b7e3tz948KCrq2vrjZlMpre397///W+BQPDTTz+lpKT06tXLcI9p6KXYjY3PjIijLl0W1dZy/7oa8ng8hUJBUZSPj4/RBjWPHj2ytrb+8ccfFQqFp6cnh8PhcrkODg7RLi7+TCZwueDgABwOsNlw7hyUlb0cC3ox3bvt2bMHACZOnKh7l9zcXBsbG4qi9u3bp5etOXPmAMDIkSP19PHv2LsXLVuGcnNRZCTq3Rt16oScnZGdXcNz+034+voCwKhRo4w0mJaWBgAODg7P56LdHTDgz6l77d/Uqai5GW3ZYoJ3ihlcEUupVLJYrOzs7K1bt44fP77NYnaVlZWjRo1SKBSLFi0aN26cXrZSUlK2b99++PDh/Pz8119/3QivASZM+PMgN7fly/YqVZ1EUl9fT9cUlUgkzc3NY8aMOXToUEFBQVhYmGHWKisr6cyOrVu3zp8/n8vlJiYm8ng8qVQqEonsOBxwcoLGRhCJgJ5utLc3bW2LxsbG7Ozs7OxsOhKz2Ww+n/+iY/1OjU+z2pLAXC43Pj4+Nzf3RS3lcvk//vEPAIiOjjZsXHTBggUAMGzYMCP81Zt58+YBwIgRIww+w9tvvw0AY8eOnT9/PgAEBwc3Nze31oEOqPfv6z3u/HcolcrQ0FB6gLdNAgMDL1y4oPvJMQpLJpMdOHAgKipKmxcaEBCQmppaXl7+TEtagn5+frW1tYbZqq2tpbPqDB5SMoDHjx87OTkNHDgjL09pQPfyAwfc2GxnZ+dTp05ZW1szGIxLly7p1PPIERQcjPLzDTDaknXr1gGAh4dHWlrahg0bli9fPn/+/I8//vjDDz+MiYkZNGhQaGhoQECAp6eng4MDm82mKKqwsFDHk2MUlpa7d++mpqbSNyUAwGAwoqKidu/eLZPJEEJffPEFAHA4nFu3bhljZcmSJQAwePBgE3mtE8uXSwBQdLT+PWtqkLOz0svr9N699N47ycnJuvZduBABIOPC84MHD9hsNgAcP35cl/Z0eH7nnXd0PH97CItGpVIdO3YsNjbW1taWVpiLi8v7779vZWVFUdSBAweMPL9YLKbvA86cOWMKf3VCJEJ8PgJAZ8/q2XPMGASABg1Cn3/+MCIiqndvugyETtTWIh4PAaBz5/S0+icajSYqKgoA4uLikpKSRo8e3fq1QigU5ufn08/4ly9f1sVE+wlLi0gkysjICAkJAQCKong83rJly0xyZrpicWRkpEnOpiPLlyMA1L+/Pn2yshAAYrORQIDs7BBFaQQC/awuXfqnLg0iIyOD/mGfOHGCTs24du3aixr/+uuvLBYrOjqafs6I1i0+m0FYWq5du7Zp06bKykq1Wm2SE0okEjc3NwDYv39/Q0ODSc6pg1Hk6ooA0MmTunWor0cdOyIAtGkTogcU4uP1tioSIT5faWX1h/73lEKhkA7tP/zwA33nvmTJklZNiej2WVlZul8TzCksHKxbt87e3l77LOPo6NixY8c+fdShoWjQIPTuu+jDD9HEiSZe0fDVV2juXJ1TGtVqlJGBBg9GaWkIALm7o7o6A4zeTEvr4uvbX79QiRBCI0eOpO+Wli5dCrqtYaF38urfvz9dRkCXa8KrJqzGxsYDBw64ubnRd6YAQFEMJvN/Rhk/+wzt2mVKYT2/KqltNBr0/vsIAB08aJhRbXjOzs7WvRc98cXj8QQCgY2NDYPB0GUQob6+3snJCQCOHj1Kz4gI2rp2m7/ajGkpKCiIjo6uqamRSqUIobq6uoqKitu3obAQBAI4fBj27gVfXxCJAACEQti2zQRG6VVJurJvH6Smwu+/w8GDkJMDo0YZZpTD4Xz66acAsHjxYqRbJkFdXd3s2bMBYP369cuWLVMoFDNnztRlLSePx6OfCtesWZOcnAx/JTa20uWVElZxcXF1dXXLWWE+n//aa15BQRAaClFR8N57MGECsFj/s6KhrMxYuzyePkrVlhynKIiONsZuUlKSp6dnYWHhvn37mpqa2mw/d+7cmpqaN954o6Gh4fLly97e3mvWrNHR1uzZs93c3C5fvhwYGNihQ4eCggJ6Gv6F6B5FLRyhUDh79uxncgNb59w5ZGODevRARj48bNmCMjN1vhR+9RVqakIZGUaZ/ItNmzbZ2NjQX6WVlRWfz/f19e3Ro0d4eHhUVFRsbGxcXNysWbMWLlw4bdo0iqLs7e2vXLnCYrEA4NixY3rZ2rBhAwCEhobSByEhIZoXTwC8IsKSSqVLlizZuHGjXr0UCuTnhwCQnrPe/0NNDXJ1RQkJqKlJtw7aaRlTIJfLL1++zOfztfJqBTc3t7i4OITQsWPH5s+fr68tmUxGV6b45ZdfvLy86IMXNX4VtpVDCO3fvz8rK+vq1at6dbS2hpQUSEiAZcsgNhasDPowZs+GJ0/g/n3Q4ZsFgBbz3KbAzs6ub9++dXV1AKBQKBobG0UiUcsNOLU5ZGfOnMnJySksLNRoNMOHDx8+fLi+tuzt7devXy+TyUaMGFFSUrJ06dLS0tIXtjbi12IpnDt3zt3d/fTp0wb0Van+rCuxe7chpumRThbLVAEIIwqFws/PDwD0zUr6W+idOJYvX/6iBi+9sKqqqjw8PFasWGFwQZE9e5Cvb2lMzCe6Lzelqa9HXl4IAH39tWGW25tt27YBQJcuXZRKQ2bNtRw5cgQAuFxuRUXFi9q83MJqamrq1q1bcnLyISMGo1Qq1L17DwDYunWrXh3nzVsfFvY4IsLYe/92Q6VS0Wn1uw2LzwghhMRiMb0Tx7fffttKM4vZS6cFKpVqz549ZWVlDg4O2mxgBwcHHo9HJ53RxwwG47333vP29pZKpZs3b6afdAwjMzNz3Lhx3t7epaWl2jny1jl//vybb75pY2Nz/frvQUEvTbG177//fvLkyb6+vnfv3tXlfv95pk2b9t1330VEROTm5jJaSTk0WLmYqKur69y5sy7rVaysrIKCgkaOHLlz504jjWo0GjpfPj09XZf2TU1NdPGPlStXGmm6nVGpVLTn+oZnGm0NhKKiotZbWlzEmjJlyq5du7p27Tp+/HipVNoyG7i+vp5+wKGPNRpNUFCQq6vr+fPnjTQql8vffffdkydPOjo6Tp8+nc/nOzo6alcR8vl8+kCbobto0aJ169YFBwcXFhYa9rs3IwaEZxqZTNarV6+ysrLVq1fTuzS2gmUJ65kqU2PGjHn69Cn9jXK5XEdHR/pSyOVyIyIi/P39KYpqbm42voL3ggUL1q9f7+rq6urqWlxc3HpjNputVqsVCsWlS5fCw/Vejmt2EEJ9+vS5ceNGenr6rFmzAEAsFiOEuFyuVasjLvPmzdu4cWPPnj0LCwut29rsyIKEJZPJevbsef/+/X/9618LFy4EAB8fn8rKyr9trMuPRkeuX7/++uuvazSaX3/9NTY2ls/njxw5sqmpqeUqQolEQgfO+vp6ALCzswOAkpIS45d/AYBarc7MzLx79y6bzXZ0dORyuXSAfOYW03hDWg4dOjRq1CgPD4+ysjIWi5WSkrJ27VoAsLW11dqlfejRo8fGjRsBoKCgICIiAgDy8vLoBQqtY0EDpIsXL75//36vXr3oaU4AOHr06OPHj+lv9JmhPzqd13hUKtXUqVOVSuX8+fN37NghkUjCwsI2bdrUSv3m+vr64ODghw8fJiYmtjFfpgONjY3h4eEajebOnTutt+TxeKNHj160aBFdRcwYRo4cGRYWVlBQkJGRMXfuXGtraz6f39DQ0Nzc3Nzc/PTpU21L+oekUqmmT59OrxDWRVVgORErPz+/X79+7V8q8lRaWtQnn/j7+3/xxRcffPABi8W6detWp7aWgy5btmzVqlUAsGfPnkmTJhnjQFJSUnp6uq+v76RJk+RyeUNDw4tuKwHAycmJyWQ+ePCgzeV0bXLs2LERI0ZwudykpCRnZ2e6IAWdSAMAFEUhhNRqNZ/Pf/PNN1etWrVs2TI/P79bt25p85HawIBHA5PT3Nzco0cPAPjss8/a1fCdO8jOriYs7ERWFj359bVuY52VlZVMJhMAnJ2dHz16ZLD9y5cvt8wMnjJlyjMzx2vXrk1LS9uxY8f169dFIlFkZCQArFmzxmCLLZkwYYIu4cfBwYHFYlEUpdfchkUIS1tlil63006o1ah/fwSAEhIUn3ySOXBg/379dE+SHjJkCP25jxs3zjD79OguACxdupR+pZVBFjp7+NSpUwDg6OhYZ1DS6fNkZmYuWbJkzpw5CQkJo0ePHjZs2IABA0JCQjp16uTm5qYdGoyNjd22bZteZza/sLRVps4ZuubEQL75BgEgDw+UlYUoCtnaKtoam2nJAXrPTgAAOHz4sAH26fVqLTODCwsLBQLBgQMHduzY8c0336xdu3bhwoWzZs2Ki4vT5hG89dZbAJCammqARQPQaDR1dXUikUjfjniE9eOPOmaGqNVqOrzPmDEDiycvoqICcbkIAGVmoq5dEQDSc6izubmZzgwGAE9PT30/+ps3b9KLVPVaXowQys3NBQAej/f06VO9OrYzeJ4K6STJHTvgp5+gtJSuXQZ8PrDZye7ujQhphxzz8vIuXrzo5uY2d+5cLJ68CHt7eOcdUKng6lW4cweCg2HhQr1OYGNjM3nyZDrlTSgUpqSkbN68Wce+Go1m+vTpSqUyKSlJ311eIiMjhwwZkpOTs2HDBt3zP80AFrlqkyS1W5389efm4vKMA46OjlZWVklmqR4sEiEfH8Rkorw8A3qXlJRoRyUoijp16pSOHdevXw8A3t7ehq1RKygooCiKzWbX6F7rvN3BMNxQVwfHj0NpKcTFgbMzNDSAVAqNjSAWg0SSKZeLGhrq6+slEklWVlZxcfHhw4djYmKsra3v3btHl7VtD+jKfbSHAgHExhp2moEDB164cIE+DgwMvH79Oj122grl5eU9evRobGw8cuRITEyMYXZjYmKysrI+/fRTOmRaIiYW6q1biMNBL87/agldrigxMZE+mN6e1YO//tokhabo/Tu1tL7yEyGk0Wiio6MBYNKkScbYvXnzJoPBsLOzq6qqMuY8+DBpxNJoYMAAuHQJZs6Eb79ts/m9e/e6detGUdSJEyeGDh1KUVRJSUmbg5OmYdMmmDEDdu+Gjz825jQymaxjx45isZj+p62tbceOHVvOWLc85nA4V69e3blzp4uLS3FxcZslC1snNjb24MGDSUlJdOk2i8OUKv3ySwSAPD2Rzo9IkydPBoApU6bExcXF+Pv/vnChKf1pBdOtaKDncXWHzWanpaUhhFQqVX19vcF2b9++zWAwbGxsfv/9d+PfhckxXcQqL4fgYJBK4T//gXff1bHTgwcPgoKCBnt7/7Btm9OwYaBWQ1HRMxWLLRyVSnX8+HEXF5eQkBB6lloikdDzMM8fZ2dn379/Pz4+furUqfHx8ZGRkdu3b9fXYlVVFT1PEBMTc+LEiZ07d06cOBHDOzMOk8hTo9F8GRfX1KkTGj9e376lS5YgKys0fjxKSEAAaMIEk7hkmdy7d8/KyorJZObk5NAHLTcE1QWRSOTh4TF8+PC6urqQkBBra+ujR49i8tYYTCOsHTt2AICfp2fz48d6d66oQLa2iMFAJ078eXDjhkm8skymTp0KAJMmTaIPJk+ebED3iIiIr776Cgwam20fTCCs6upqbVkcA08xaxYCQLGx/z14dSkvL7exsWEymSdPnqQPiouLdeyrzQwWCAR0goNhs0ntQGvC2rJly+bNm/fs2XPw4EGBQJCfn19UVFRRUVFXV9dyspZeYmZUYVmhELFYiKJQTg6KjER6Lv1+6UhMTASAsWPHag906aXdz3HNmjVDhw4FgA8//BC3qwbTmrA6dOjQys0Zi8VydXX18vKiKKr1JWY6kZyMgoPRxYtGneQl4Y8//rC3t6coSiAQ0AfXr19vsxed/9izZ0/6ft/Z2dmSR96ZdE2tv0UikQQFBQUFBfn7+3t5efH5fAcHBzs7OyaT2dTUpFQqZTJZQ0PD3LlzExMT6blkwxkwAP75T/D2hn374OefwccH9C0s/vLA5XKfPHmSl5cnlUrfeuutK1eu1NTUjB07tpUuBQUFCQkJTCbz+++/T0xMlMlkW7dupXOFLRSDJSmRSB49elRWVqZXgZe2MdGYuIVTXV1NZzvRFT4pisp/cXltpVLZp08fAFiwYMHo0aOh3SvaG4Dh9bE4HE6HDh38/f1dnptXNgp6NxvTbb5gmbi7u9Mjq+np6XPmzPn444896Zpdf8fZs2dv3rzZuXPn8PDwn376ic1mf6vDxIaZMbeyn8OkVX4smdraWrrAtS6bHhQUFOTk5NDjojquqjUvlrKY4v8nS5YsWb16dffu3WfPnv3MxKL2WNs4ISFh+/btffv2vXjxYmtr2y0DIixzIhKJhgwZUlVV9ejRoxe1oWevra2ty8vLra2t6aW87emkYRBhmZ/U1FShUPi3k4xyuVzbbMaMGSEhIdOmTTOjq7pDhGXRaDQarchcXFy0WfaWDxEWAQuWfg9IeEkhwiJggQiLgAUiLAIWiLAIWCDCImCBCIuABSIsAhaIsAhYIMIiYIEIi4AFIiwCFoiwCFggwiJggQiLgAUiLAIWiLAIWCDCImCBCIuABSIsAhaIsAhYIMIiYIEIi4AFIiwCFoiwCFggwiJggQiLgAUiLAIWiLAIWCDCImCBCIuABSIsAhaIsAhYIMIiYIEIi4AFIiwCFoiwCFggwiJggQiLgAUiLAIWiLAIWCDCImCBCIuABSIsAhaIsAhYIMIiYIEIi4AFIiwCFoiwCFggwiJg4f8ACcuE6TutlSEAAAAASUVORK5CYII=\" alt=\"Mol\"/></td>\n",
              "      <td>3.18530</td>\n",
              "      <td>620.747</td>\n",
              "    </tr>\n",
              "    <tr>\n",
              "      <th>5</th>\n",
              "      <td>CHEMBL21082</td>\n",
              "      <td>CCOC(=O)/C=C/[C@H](C[C@@H]1CCNC1=O)NC(=O)[C@H]...</td>\n",
              "      <td><img data-content=\"rdkit/molecule\" src=\"data:image/png;base64,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\" alt=\"Mol\"/></td>\n",
              "      <td>2.12442</td>\n",
              "      <td>613.687</td>\n",
              "    </tr>\n",
              "  </tbody>\n",
              "</table>\n",
              "</div>"
            ],
            "text/plain": [
              "  molecule_chembl_id  ...       mw\n",
              "0        CHEMBL20260  ...  613.687\n",
              "2        CHEMBL20636  ...  599.660\n",
              "3       CHEMBL277716  ...  606.720\n",
              "4       CHEMBL280938  ...  620.747\n",
              "5        CHEMBL21082  ...  613.687\n",
              "\n",
              "[5 rows x 5 columns]"
            ]
          },
          "metadata": {
            "tags": []
          },
          "execution_count": 49
        }
      ]
    },
    {
      "cell_type": "code",
      "metadata": {
        "id": "xAXiiHN1_YQQ",
        "colab_type": "code",
        "outputId": "2a95ed4e-0913-4a3f-9476-1863cb90a633",
        "colab": {
          "base_uri": "https://localhost:8080/",
          "height": 297
        }
      },
      "source": [
        "output_df[['mw', 'logp']].describe()"
      ],
      "execution_count": 50,
      "outputs": [
        {
          "output_type": "execute_result",
          "data": {
            "text/html": [
              "<div>\n",
              "<style scoped>\n",
              "    .dataframe tbody tr th:only-of-type {\n",
              "        vertical-align: middle;\n",
              "    }\n",
              "\n",
              "    .dataframe tbody tr th {\n",
              "        vertical-align: top;\n",
              "    }\n",
              "\n",
              "    .dataframe thead th {\n",
              "        text-align: right;\n",
              "    }\n",
              "</style>\n",
              "<table border=\"1\" class=\"dataframe\">\n",
              "  <thead>\n",
              "    <tr style=\"text-align: right;\">\n",
              "      <th></th>\n",
              "      <th>mw</th>\n",
              "      <th>logp</th>\n",
              "    </tr>\n",
              "  </thead>\n",
              "  <tbody>\n",
              "    <tr>\n",
              "      <th>count</th>\n",
              "      <td>64.000000</td>\n",
              "      <td>64.000000</td>\n",
              "    </tr>\n",
              "    <tr>\n",
              "      <th>mean</th>\n",
              "      <td>596.202891</td>\n",
              "      <td>2.447806</td>\n",
              "    </tr>\n",
              "    <tr>\n",
              "      <th>std</th>\n",
              "      <td>58.542471</td>\n",
              "      <td>0.950435</td>\n",
              "    </tr>\n",
              "    <tr>\n",
              "      <th>min</th>\n",
              "      <td>403.479000</td>\n",
              "      <td>0.653600</td>\n",
              "    </tr>\n",
              "    <tr>\n",
              "      <th>25%</th>\n",
              "      <td>581.423000</td>\n",
              "      <td>1.830320</td>\n",
              "    </tr>\n",
              "    <tr>\n",
              "      <th>50%</th>\n",
              "      <td>607.214000</td>\n",
              "      <td>2.599310</td>\n",
              "    </tr>\n",
              "    <tr>\n",
              "      <th>75%</th>\n",
              "      <td>626.011500</td>\n",
              "      <td>3.124975</td>\n",
              "    </tr>\n",
              "    <tr>\n",
              "      <th>max</th>\n",
              "      <td>715.889000</td>\n",
              "      <td>4.485700</td>\n",
              "    </tr>\n",
              "  </tbody>\n",
              "</table>\n",
              "</div>"
            ],
            "text/plain": [
              "               mw       logp\n",
              "count   64.000000  64.000000\n",
              "mean   596.202891   2.447806\n",
              "std     58.542471   0.950435\n",
              "min    403.479000   0.653600\n",
              "25%    581.423000   1.830320\n",
              "50%    607.214000   2.599310\n",
              "75%    626.011500   3.124975\n",
              "max    715.889000   4.485700"
            ]
          },
          "metadata": {
            "tags": []
          },
          "execution_count": 50
        }
      ]
    },
    {
      "cell_type": "code",
      "metadata": {
        "id": "Gfi8brps_yAq",
        "colab_type": "code",
        "colab": {}
      },
      "source": [
        "rcParams['figure.figsize'] = 12,12"
      ],
      "execution_count": 0,
      "outputs": []
    },
    {
      "cell_type": "code",
      "metadata": {
        "id": "S1EUqpRi_y5N",
        "colab_type": "code",
        "outputId": "eda390de-7a77-4f8f-c48e-2bb5f21b59e1",
        "colab": {
          "base_uri": "https://localhost:8080/",
          "height": 717
        }
      },
      "source": [
        "output_df['logp'].hist()"
      ],
      "execution_count": 52,
      "outputs": [
        {
          "output_type": "execute_result",
          "data": {
            "text/plain": [
              "<matplotlib.axes._subplots.AxesSubplot at 0x7f4157511cc0>"
            ]
          },
          "metadata": {
            "tags": []
          },
          "execution_count": 52
        },
        {
          "output_type": "display_data",
          "data": {
            "image/png": "[encoded data removed]",
            "text/plain": [
              "<Figure size 864x864 with 1 Axes>"
            ]
          },
          "metadata": {
            "tags": []
          }
        }
      ]
    },
    {
      "cell_type": "code",
      "metadata": {
        "id": "hbdxdz8r_2T5",
        "colab_type": "code",
        "outputId": "a7f8e003-6a94-48a9-fc3d-57f2001454a8",
        "colab": {
          "base_uri": "https://localhost:8080/",
          "height": 717
        }
      },
      "source": [
        "scatter(output_df['mw'],output_df['logp'])"
      ],
      "execution_count": 53,
      "outputs": [
        {
          "output_type": "execute_result",
          "data": {
            "text/plain": [
              "<matplotlib.collections.PathCollection at 0x7f4157463dd8>"
            ]
          },
          "metadata": {
            "tags": []
          },
          "execution_count": 53
        },
        {
          "output_type": "display_data",
          "data": {
            "image/png": "[encoded data removed]",
            "text/plain": [
              "<Figure size 864x864 with 1 Axes>"
            ]
          },
          "metadata": {
            "tags": []
          }
        }
      ]
    }
  ]
}